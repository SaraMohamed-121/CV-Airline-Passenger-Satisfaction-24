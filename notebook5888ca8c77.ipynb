{
  "metadata": {
    "kernelspec": {
      "language": "python",
      "display_name": "Python 3",
      "name": "python3"
    },
    "language_info": {
      "name": "python",
      "version": "3.10.13",
      "mimetype": "text/x-python",
      "codemirror_mode": {
        "name": "ipython",
        "version": 3
      },
      "pygments_lexer": "ipython3",
      "nbconvert_exporter": "python",
      "file_extension": ".py"
    },
    "kaggle": {
      "accelerator": "none",
      "dataSources": [
        {
          "sourceId": 83802,
          "databundleVersionId": 9339243,
          "sourceType": "competition"
        }
      ],
      "dockerImageVersionId": 30746,
      "isInternetEnabled": true,
      "language": "python",
      "sourceType": "notebook",
      "isGpuEnabled": false
    },
    "colab": {
      "name": "notebook5888ca8c77",
      "provenance": [],
      "include_colab_link": true
    }
  },
  "nbformat_minor": 0,
  "nbformat": 4,
  "cells": [
    {
      "cell_type": "markdown",
      "metadata": {
        "id": "view-in-github",
        "colab_type": "text"
      },
      "source": [
        "<a href=\"https://colab.research.google.com/github/SaraMohamed-121/CV-ST-24/blob/main/notebook5888ca8c77.ipynb\" target=\"_parent\"><img src=\"https://colab.research.google.com/assets/colab-badge.svg\" alt=\"Open In Colab\"/></a>"
      ]
    },
    {
      "source": [
        "\n",
        "# IMPORTANT: RUN THIS CELL IN ORDER TO IMPORT YOUR KAGGLE DATA SOURCES\n",
        "# TO THE CORRECT LOCATION (/kaggle/input) IN YOUR NOTEBOOK,\n",
        "# THEN FEEL FREE TO DELETE THIS CELL.\n",
        "# NOTE: THIS NOTEBOOK ENVIRONMENT DIFFERS FROM KAGGLE'S PYTHON\n",
        "# ENVIRONMENT SO THERE MAY BE MISSING LIBRARIES USED BY YOUR\n",
        "# NOTEBOOK.\n",
        "\n",
        "import os\n",
        "import sys\n",
        "from tempfile import NamedTemporaryFile\n",
        "from urllib.request import urlopen\n",
        "from urllib.parse import unquote, urlparse\n",
        "from urllib.error import HTTPError\n",
        "from zipfile import ZipFile\n",
        "import tarfile\n",
        "import shutil\n",
        "\n",
        "CHUNK_SIZE = 40960\n",
        "DATA_SOURCE_MAPPING = 'appl-ai-cv-st-24-assignment-1:https%3A%2F%2Fstorage.googleapis.com%2Fkaggle-competitions-data%2Fkaggle-v2%2F83802%2F9339243%2Fbundle%2Farchive.zip%3FX-Goog-Algorithm%3DGOOG4-RSA-SHA256%26X-Goog-Credential%3Dgcp-kaggle-com%2540kaggle-161607.iam.gserviceaccount.com%252F20240817%252Fauto%252Fstorage%252Fgoog4_request%26X-Goog-Date%3D20240817T190356Z%26X-Goog-Expires%3D259200%26X-Goog-SignedHeaders%3Dhost%26X-Goog-Signature%3D238bf3a30f4d0e1e00a8287f698a021d2303ee79426343378061af946464c9a8f3753f57b3ac5d315aaa7be5ef07b97bffd584872d8a64084ed233eaccb3a80c417b0c006c71d3b716f3da91e0067c98a751c39856f69598efc49f3fbab1564279835647a2820abb4d9f5d747b1504d353fbae0d9f986ab00ccea4bf419f98425182df2931724cb142685fd0b47c3c8047a07bcc8a949e6991e3bfc6f7a1175e74815213fd93e148420d9762b9abc872a698ac44b35625ae9cea28712f21ddcbe0b3cefce14f7cab78d4e4c27637b28b2ce7cce88a79e0dd7080e0affaa6d66ea2e1fcdab83162787a01f4bc68470ea9a3cdc96baa8f5512dce00b8e069f8d67'\n",
        "\n",
        "KAGGLE_INPUT_PATH='/kaggle/input'\n",
        "KAGGLE_WORKING_PATH='/kaggle/working'\n",
        "KAGGLE_SYMLINK='kaggle'\n",
        "\n",
        "!umount /kaggle/input/ 2> /dev/null\n",
        "shutil.rmtree('/kaggle/input', ignore_errors=True)\n",
        "os.makedirs(KAGGLE_INPUT_PATH, 0o777, exist_ok=True)\n",
        "os.makedirs(KAGGLE_WORKING_PATH, 0o777, exist_ok=True)\n",
        "\n",
        "try:\n",
        "  os.symlink(KAGGLE_INPUT_PATH, os.path.join(\"..\", 'input'), target_is_directory=True)\n",
        "except FileExistsError:\n",
        "  pass\n",
        "try:\n",
        "  os.symlink(KAGGLE_WORKING_PATH, os.path.join(\"..\", 'working'), target_is_directory=True)\n",
        "except FileExistsError:\n",
        "  pass\n",
        "\n",
        "for data_source_mapping in DATA_SOURCE_MAPPING.split(','):\n",
        "    directory, download_url_encoded = data_source_mapping.split(':')\n",
        "    download_url = unquote(download_url_encoded)\n",
        "    filename = urlparse(download_url).path\n",
        "    destination_path = os.path.join(KAGGLE_INPUT_PATH, directory)\n",
        "    try:\n",
        "        with urlopen(download_url) as fileres, NamedTemporaryFile() as tfile:\n",
        "            total_length = fileres.headers['content-length']\n",
        "            print(f'Downloading {directory}, {total_length} bytes compressed')\n",
        "            dl = 0\n",
        "            data = fileres.read(CHUNK_SIZE)\n",
        "            while len(data) > 0:\n",
        "                dl += len(data)\n",
        "                tfile.write(data)\n",
        "                done = int(50 * dl / int(total_length))\n",
        "                sys.stdout.write(f\"\\r[{'=' * done}{' ' * (50-done)}] {dl} bytes downloaded\")\n",
        "                sys.stdout.flush()\n",
        "                data = fileres.read(CHUNK_SIZE)\n",
        "            if filename.endswith('.zip'):\n",
        "              with ZipFile(tfile) as zfile:\n",
        "                zfile.extractall(destination_path)\n",
        "            else:\n",
        "              with tarfile.open(tfile.name) as tarfile:\n",
        "                tarfile.extractall(destination_path)\n",
        "            print(f'\\nDownloaded and uncompressed: {directory}')\n",
        "    except HTTPError as e:\n",
        "        print(f'Failed to load (likely expired) {download_url} to path {destination_path}')\n",
        "        continue\n",
        "    except OSError as e:\n",
        "        print(f'Failed to load {download_url} to path {destination_path}')\n",
        "        continue\n",
        "\n",
        "print('Data source import complete.')\n"
      ],
      "metadata": {
        "id": "K9gjmajUuZ4o"
      },
      "cell_type": "code",
      "outputs": [],
      "execution_count": null
    },
    {
      "cell_type": "code",
      "source": [
        "import numpy as np\n",
        "import pandas as pd\n",
        "import tensorflow as tf\n",
        "from tensorflow import keras\n",
        "import matplotlib.pyplot as plt\n",
        "import seaborn as sns\n",
        "import os\n",
        "from sklearn.compose import ColumnTransformer\n",
        "from sklearn.preprocessing import StandardScaler, OrdinalEncoder, OneHotEncoder\n",
        "from sklearn.impute import SimpleImputer\n",
        "from sklearn.metrics import classification_report, accuracy_score\n",
        "from sklearn.ensemble import RandomForestClassifier\n",
        "from sklearn.pipeline import Pipeline\n",
        "from sklearn.model_selection import train_test_split\n",
        "import joblib\n",
        "\n",
        "os.environ['TF_XLA_FLAGS'] = '--tf_xla_enable_xla_devices=false'\n",
        "\n",
        "# Load data\n",
        "train_path = '/kaggle/input/appl-ai-cv-st-24-assignment-1/train.csv'\n",
        "valid_path = '/kaggle/input/appl-ai-cv-st-24-assignment-1/test.csv'\n",
        "traindata = pd.read_csv(train_path)\n",
        "valldata = pd.read_csv(valid_path)\n",
        "print(f'train data: {traindata.shape}\\nval data: {valldata.shape}')\n",
        "traindata.info()"
      ],
      "metadata": {
        "_uuid": "8f2839f25d086af736a60e9eeb907d3b93b6e0e5",
        "_cell_guid": "b1076dfc-b9ad-4769-8c92-a6c4dae69d19",
        "execution": {
          "iopub.status.busy": "2024-08-17T17:26:00.038338Z",
          "iopub.execute_input": "2024-08-17T17:26:00.03924Z",
          "iopub.status.idle": "2024-08-17T17:26:15.919204Z",
          "shell.execute_reply.started": "2024-08-17T17:26:00.039202Z",
          "shell.execute_reply": "2024-08-17T17:26:15.918082Z"
        },
        "trusted": true,
        "id": "5rBfJULyuZ4x"
      },
      "execution_count": null,
      "outputs": []
    },
    {
      "cell_type": "code",
      "source": [
        "#dataset contains 103904 examples and 25 columns, 24 features\n",
        "from sklearn.model_selection import train_test_split\n",
        "traindata, testdata = train_test_split(traindata, test_size=0.3, random_state=42)\n",
        "traindata.head(5)"
      ],
      "metadata": {
        "execution": {
          "iopub.status.busy": "2024-08-17T17:26:15.921473Z",
          "iopub.execute_input": "2024-08-17T17:26:15.921901Z",
          "iopub.status.idle": "2024-08-17T17:26:15.995804Z",
          "shell.execute_reply.started": "2024-08-17T17:26:15.92186Z",
          "shell.execute_reply": "2024-08-17T17:26:15.994738Z"
        },
        "trusted": true,
        "id": "vW1WR8KyuZ4y"
      },
      "execution_count": null,
      "outputs": []
    },
    {
      "cell_type": "code",
      "source": [
        "for col in traindata.columns:\n",
        "    if traindata[col].dtype == 'object':\n",
        "        #print(col)\n",
        "        traindata[col].value_counts().plot(kind='bar', figsize=(5,5))\n",
        "        plt.title(col)\n",
        "        plt.xlabel(col)\n",
        "        plt.ylabel('Count')\n",
        "        plt.show()\n",
        "print(traindata['satisfaction'])\n",
        "# traindata['Gender'].value_counts().plot(kind='bar', figsize=(5,5))\n",
        "# traindata['Customer Type'].value_counts().plot(kind='bar', figsize=(5,5))\n",
        "# traindata['Type of Travel'].value_counts().plot(kind='bar', figsize=(5,5))\n",
        "# traindata['Class'].value_counts().plot(kind='bar', figsize=(5,5))\n",
        "# traindata['satisfaction'].value_counts().plot(kind='bar', figsize=(5,5))"
      ],
      "metadata": {
        "execution": {
          "iopub.status.busy": "2024-08-17T17:26:16.000983Z",
          "iopub.execute_input": "2024-08-17T17:26:16.001303Z",
          "iopub.status.idle": "2024-08-17T17:26:17.154322Z",
          "shell.execute_reply.started": "2024-08-17T17:26:16.001268Z",
          "shell.execute_reply": "2024-08-17T17:26:17.153312Z"
        },
        "trusted": true,
        "id": "Rjj1iBWJuZ4z"
      },
      "execution_count": null,
      "outputs": []
    },
    {
      "cell_type": "code",
      "source": [
        "satisfaction_mapping = {'satisfied': 1, 'neutral or dissatisfied': 0}\n",
        "traindata['satisfaction'] = traindata['satisfaction'].map(satisfaction_mapping)\n",
        "testdata['satisfaction'] = testdata['satisfaction'].map(satisfaction_mapping)\n",
        "# prediction train data\n",
        "if not traindata['satisfaction'].empty:\n",
        "    traindata['satisfaction'].value_counts().plot(kind='bar', figsize=(5, 5), color='red')\n",
        "    plt.xlabel('Satisfaction')\n",
        "    plt.ylabel('Count')\n",
        "    plt.title('Distribution of Satisfaction')\n",
        "    plt.show()\n",
        "else:\n",
        "    print(\"No data to plot.\")"
      ],
      "metadata": {
        "execution": {
          "iopub.status.busy": "2024-08-17T17:26:17.155616Z",
          "iopub.execute_input": "2024-08-17T17:26:17.15592Z",
          "iopub.status.idle": "2024-08-17T17:26:17.357243Z",
          "shell.execute_reply.started": "2024-08-17T17:26:17.155895Z",
          "shell.execute_reply": "2024-08-17T17:26:17.356206Z"
        },
        "trusted": true,
        "id": "IOm8iuhCuZ4z"
      },
      "execution_count": null,
      "outputs": []
    },
    {
      "cell_type": "code",
      "source": [
        "sns.kdeplot(data=traindata, x='satisfaction', color='blue')\n",
        "plt.xlabel('Satisfaction')\n",
        "plt.title('Satisfaction')\n",
        "plt.show()\n",
        "skewness = traindata['satisfaction'].skew()\n",
        "print(skewness)\n",
        "\n",
        "sns.kdeplot(data=traindata, x='id', color='blue')\n",
        "plt.xlabel('id')\n",
        "plt.title('id')\n",
        "plt.show()"
      ],
      "metadata": {
        "execution": {
          "iopub.status.busy": "2024-08-17T17:26:17.358737Z",
          "iopub.execute_input": "2024-08-17T17:26:17.359159Z",
          "iopub.status.idle": "2024-08-17T17:26:18.481287Z",
          "shell.execute_reply.started": "2024-08-17T17:26:17.35912Z",
          "shell.execute_reply": "2024-08-17T17:26:18.480002Z"
        },
        "trusted": true,
        "id": "qU-Q3wqOuZ40"
      },
      "execution_count": null,
      "outputs": []
    },
    {
      "cell_type": "code",
      "source": [
        "def get_feats_and_labels(data, label):\n",
        "    data_feats = data.drop(label, axis=1)\n",
        "    data_label = data[label]\n",
        "    return data_feats, data_label\n",
        "\n",
        "train_feats, train_label = get_feats_and_labels(traindata, 'satisfaction')\n",
        "train_feats\n",
        "train_label"
      ],
      "metadata": {
        "execution": {
          "iopub.status.busy": "2024-08-17T17:26:18.482671Z",
          "iopub.execute_input": "2024-08-17T17:26:18.482994Z",
          "iopub.status.idle": "2024-08-17T17:26:18.500644Z",
          "shell.execute_reply.started": "2024-08-17T17:26:18.482968Z",
          "shell.execute_reply": "2024-08-17T17:26:18.49954Z"
        },
        "trusted": true,
        "id": "ERjCQXUzuZ41"
      },
      "execution_count": null,
      "outputs": []
    },
    {
      "cell_type": "code",
      "source": [
        "traindata = traindata.drop(['Unnamed: 0', 'Gender' ,'id' , 'Age'], axis=1)\n",
        "traindata.head(5)"
      ],
      "metadata": {
        "execution": {
          "iopub.status.busy": "2024-08-17T17:26:18.50218Z",
          "iopub.execute_input": "2024-08-17T17:26:18.503407Z",
          "iopub.status.idle": "2024-08-17T17:26:18.536051Z",
          "shell.execute_reply.started": "2024-08-17T17:26:18.503363Z",
          "shell.execute_reply": "2024-08-17T17:26:18.534948Z"
        },
        "trusted": true,
        "id": "9zN8AqscuZ42"
      },
      "execution_count": null,
      "outputs": []
    },
    {
      "cell_type": "code",
      "source": [
        "scaler = StandardScaler()\n",
        "encoder = OrdinalEncoder()\n",
        "\n",
        "\n",
        "# The column transformer requires lists of features\n",
        "num_feats = ['Age', 'Flight Distance', 'Inflight wifi service',\n",
        "             'Departure/Arrival time convenient', 'Ease of Online booking',\n",
        "             'Gate location', 'Food and drink', 'Online boarding',\n",
        "             'Seat comfort', 'Inflight entertainment', 'On-board service',\n",
        "             'Leg room service', 'Baggage handling', 'Checkin service',\n",
        "             'Inflight service', 'Cleanliness', 'Departure Delay in Minutes',\n",
        "             'Arrival Delay in Minutes']\n",
        "\n",
        "cat_feats = ['Gender', 'Customer Type', 'Type of Travel', 'Class']\n",
        "\n",
        "# define the pipeline to scale the numeric features and handle categorical features\n",
        "final_pipe = ColumnTransformer([\n",
        "   ('num',scaler , num_feats),\n",
        "   ('cat', encoder , cat_feats)\n",
        "\n",
        "])\n",
        "training_data_prepared = final_pipe.fit_transform(train_feats)\n",
        "print(training_data_prepared.shape)\n",
        "type(training_data_prepared)\n"
      ],
      "metadata": {
        "execution": {
          "iopub.status.busy": "2024-08-17T17:26:18.537349Z",
          "iopub.execute_input": "2024-08-17T17:26:18.537714Z",
          "iopub.status.idle": "2024-08-17T17:26:18.688964Z",
          "shell.execute_reply.started": "2024-08-17T17:26:18.537683Z",
          "shell.execute_reply": "2024-08-17T17:26:18.686322Z"
        },
        "trusted": true,
        "id": "RfYmwkK2uZ43"
      },
      "execution_count": null,
      "outputs": []
    },
    {
      "cell_type": "code",
      "source": [
        "test_feats, test_label = get_feats_and_labels(testdata, 'satisfaction')\n",
        "test_feats\n",
        "test_label"
      ],
      "metadata": {
        "execution": {
          "iopub.status.busy": "2024-08-17T17:26:18.694064Z",
          "iopub.execute_input": "2024-08-17T17:26:18.694407Z",
          "iopub.status.idle": "2024-08-17T17:26:18.710363Z",
          "shell.execute_reply.started": "2024-08-17T17:26:18.694379Z",
          "shell.execute_reply": "2024-08-17T17:26:18.709106Z"
        },
        "trusted": true,
        "id": "UwEUzR8PuZ43"
      },
      "execution_count": null,
      "outputs": []
    },
    {
      "cell_type": "code",
      "source": [
        "test_data_prepared = final_pipe.transform(test_feats)\n",
        "test_data_prepared"
      ],
      "metadata": {
        "execution": {
          "iopub.status.busy": "2024-08-17T17:26:18.711936Z",
          "iopub.execute_input": "2024-08-17T17:26:18.712719Z",
          "iopub.status.idle": "2024-08-17T17:26:18.776951Z",
          "shell.execute_reply.started": "2024-08-17T17:26:18.712668Z",
          "shell.execute_reply": "2024-08-17T17:26:18.775993Z"
        },
        "trusted": true,
        "id": "ZgUnOn8WuZ44"
      },
      "execution_count": null,
      "outputs": []
    },
    {
      "cell_type": "code",
      "source": [
        "# train_label = train_label.to_numpy()\n",
        "# test_label = test_label.to_numpy()\n",
        "# Check if train_label is already a numpy array\n",
        "if isinstance(train_label, np.ndarray):\n",
        "    # No need to convert, just assign\n",
        "    train_label = train_label\n",
        "else:\n",
        "    # Convert to numpy array if it's a DataFrame or Series\n",
        "    train_label = train_label.to_numpy()\n",
        "\n",
        "# Repeat for test_label\n",
        "if isinstance(test_label, np.ndarray):\n",
        "    test_label = test_label\n",
        "else:\n",
        "    test_label = test_label.to_numpy()\n",
        "\n",
        "\n",
        "train_label\n",
        "test_label"
      ],
      "metadata": {
        "execution": {
          "iopub.status.busy": "2024-08-17T17:26:18.778156Z",
          "iopub.execute_input": "2024-08-17T17:26:18.778528Z",
          "iopub.status.idle": "2024-08-17T17:26:18.78712Z",
          "shell.execute_reply.started": "2024-08-17T17:26:18.778495Z",
          "shell.execute_reply": "2024-08-17T17:26:18.785971Z"
        },
        "trusted": true,
        "id": "9cbnfTwOuZ44"
      },
      "execution_count": null,
      "outputs": []
    },
    {
      "cell_type": "code",
      "source": [
        "input_shape = training_data_prepared.shape[1:]\n",
        "input_shape"
      ],
      "metadata": {
        "execution": {
          "iopub.status.busy": "2024-08-17T17:26:18.788829Z",
          "iopub.execute_input": "2024-08-17T17:26:18.789162Z",
          "iopub.status.idle": "2024-08-17T17:26:18.799787Z",
          "shell.execute_reply.started": "2024-08-17T17:26:18.789133Z",
          "shell.execute_reply": "2024-08-17T17:26:18.798572Z"
        },
        "trusted": true,
        "id": "MdOM21TfuZ45"
      },
      "execution_count": null,
      "outputs": []
    },
    {
      "cell_type": "code",
      "source": [
        "model = keras.models.Sequential([\n",
        "\n",
        "            # The first layers must specify the input shape always\n",
        "            keras.layers.Dense(24, activation='relu', input_shape=input_shape),\n",
        "            keras.layers.Dense(48, activation='relu'),\n",
        "            keras.layers.Dense(96, activation='relu'),\n",
        "            keras.layers.Dense(192, activation='relu'),\n",
        "            # The last layer usually doesn't have activation function in regression\n",
        "            keras.layers.Dense(1)\n",
        "\n",
        "])\n",
        "\n",
        "# Now we compile the model\n",
        "model.compile(loss='mean_squared_error', optimizer='adam')\n",
        "model.summary()"
      ],
      "metadata": {
        "execution": {
          "iopub.status.busy": "2024-08-17T17:26:18.801368Z",
          "iopub.execute_input": "2024-08-17T17:26:18.801774Z",
          "iopub.status.idle": "2024-08-17T17:26:18.95972Z",
          "shell.execute_reply.started": "2024-08-17T17:26:18.801742Z",
          "shell.execute_reply": "2024-08-17T17:26:18.958659Z"
        },
        "trusted": true,
        "id": "arRHdcwruZ46"
      },
      "execution_count": null,
      "outputs": []
    },
    {
      "cell_type": "code",
      "source": [
        "from tensorflow.keras.utils import plot_model\n",
        "plot_model(model, to_file='model.png')"
      ],
      "metadata": {
        "execution": {
          "iopub.status.busy": "2024-08-17T17:26:18.96093Z",
          "iopub.execute_input": "2024-08-17T17:26:18.96126Z",
          "iopub.status.idle": "2024-08-17T17:26:19.276163Z",
          "shell.execute_reply.started": "2024-08-17T17:26:18.961232Z",
          "shell.execute_reply": "2024-08-17T17:26:19.275038Z"
        },
        "trusted": true,
        "id": "NdCodN6NuZ46"
      },
      "execution_count": null,
      "outputs": []
    },
    {
      "cell_type": "code",
      "source": [
        "import numpy as np\n",
        "\n",
        "# Convert labels to float64\n",
        "train_label = train_label.astype('float64')\n",
        "test_label = test_label.astype('float64')\n",
        "\n",
        "# Print data types to confirm\n",
        "print(\"training_data_prepared dtype:\", training_data_prepared.dtype)\n",
        "print(\"train_label dtype:\", train_label.dtype)\n",
        "print(\"test_data_prepared dtype:\", test_data_prepared.dtype)\n",
        "print(\"test_label dtype:\", test_label.dtype)\n",
        "\n",
        "# Handle NaN values in numpy arrays\n",
        "if np.isnan(training_data_prepared).any():\n",
        "    print(\"Data contains NaN values in training_data_prepared. Cleaning the data...\")\n",
        "    training_data_prepared = np.where(np.isnan(training_data_prepared),\n",
        "                                      np.nanmean(training_data_prepared, axis=0),\n",
        "                                      training_data_prepared)\n",
        "\n",
        "if np.isnan(test_data_prepared).any():\n",
        "    print(\"Data contains NaN values in test_data_prepared. Cleaning the data...\")\n",
        "    test_data_prepared = np.where(np.isnan(test_data_prepared),\n",
        "                                  np.nanmean(test_data_prepared, axis=0),\n",
        "                                  test_data_prepared)\n",
        "\n",
        "# Verify that the NaN values are handled\n",
        "if np.isnan(training_data_prepared).any():\n",
        "    print(\"NaN values still exist in training data.\")\n",
        "else:\n",
        "    print(\"Training data is clean.\")\n",
        "\n",
        "if np.isnan(test_data_prepared).any():\n",
        "    print(\"NaN values still exist in test data.\")\n",
        "else:\n",
        "    print(\"Test data is clean.\")"
      ],
      "metadata": {
        "execution": {
          "iopub.status.busy": "2024-08-17T17:26:19.27751Z",
          "iopub.execute_input": "2024-08-17T17:26:19.277839Z",
          "iopub.status.idle": "2024-08-17T17:26:19.319697Z",
          "shell.execute_reply.started": "2024-08-17T17:26:19.277813Z",
          "shell.execute_reply": "2024-08-17T17:26:19.318448Z"
        },
        "trusted": true,
        "id": "7zNjfikVuZ46"
      },
      "execution_count": null,
      "outputs": []
    },
    {
      "cell_type": "code",
      "source": [
        "# Fit the model again\n",
        "history = model.fit(training_data_prepared, train_label,\n",
        "                    validation_data=(test_data_prepared, test_label),\n",
        "                    epochs=100)"
      ],
      "metadata": {
        "execution": {
          "iopub.status.busy": "2024-08-17T17:26:19.32159Z",
          "iopub.execute_input": "2024-08-17T17:26:19.322034Z",
          "iopub.status.idle": "2024-08-17T17:33:31.756019Z",
          "shell.execute_reply.started": "2024-08-17T17:26:19.321998Z",
          "shell.execute_reply": "2024-08-17T17:33:31.754909Z"
        },
        "trusted": true,
        "id": "6FyyIh5-uZ47"
      },
      "execution_count": null,
      "outputs": []
    },
    {
      "cell_type": "code",
      "source": [
        "loss_df = pd.DataFrame(history.history)\n",
        "loss_df.plot(figsize=(10,5))"
      ],
      "metadata": {
        "execution": {
          "iopub.status.busy": "2024-08-17T17:33:31.758154Z",
          "iopub.execute_input": "2024-08-17T17:33:31.758778Z",
          "iopub.status.idle": "2024-08-17T17:33:32.045553Z",
          "shell.execute_reply.started": "2024-08-17T17:33:31.758734Z",
          "shell.execute_reply": "2024-08-17T17:33:32.044483Z"
        },
        "trusted": true,
        "id": "dkZDecvpuZ47"
      },
      "execution_count": null,
      "outputs": []
    },
    {
      "cell_type": "code",
      "source": [
        "model.evaluate(test_data_prepared, test_label)"
      ],
      "metadata": {
        "execution": {
          "iopub.status.busy": "2024-08-17T17:33:32.046752Z",
          "iopub.execute_input": "2024-08-17T17:33:32.047038Z",
          "iopub.status.idle": "2024-08-17T17:33:33.123114Z",
          "shell.execute_reply.started": "2024-08-17T17:33:32.047012Z",
          "shell.execute_reply": "2024-08-17T17:33:33.121904Z"
        },
        "trusted": true,
        "id": "fW0U5v1muZ47"
      },
      "execution_count": null,
      "outputs": []
    },
    {
      "cell_type": "code",
      "source": [
        "sns.kdeplot(data=traindata, x='satisfaction', color='red')"
      ],
      "metadata": {
        "execution": {
          "iopub.status.busy": "2024-08-17T17:33:33.124372Z",
          "iopub.execute_input": "2024-08-17T17:33:33.124748Z",
          "iopub.status.idle": "2024-08-17T17:33:33.688061Z",
          "shell.execute_reply.started": "2024-08-17T17:33:33.124717Z",
          "shell.execute_reply": "2024-08-17T17:33:33.686873Z"
        },
        "trusted": true,
        "id": "5BKoNiyQuZ48"
      },
      "execution_count": null,
      "outputs": []
    },
    {
      "cell_type": "code",
      "source": [
        "model_2 = keras.models.Sequential([\n",
        "\n",
        "            # The first layers must specify the input shape always\n",
        "            keras.layers.Dense(12, activation='relu', input_shape=input_shape),\n",
        "            keras.layers.Dense(24, activation='relu'),\n",
        "            keras.layers.Dense(6, activation='relu'),\n",
        "            keras.layers.Dense(3, activation='relu'),\n",
        "            # The last layer usually doesn't have activation function in regression\n",
        "            keras.layers.Dense(1, activation='sigmoid')\n",
        "\n",
        "])\n",
        "\n",
        "# Now we compile the model\n",
        "model_2.compile(loss='log_cosh', optimizer='adam')\n",
        "history = model_2.fit(training_data_prepared, train_label,\n",
        "                    validation_data = (test_data_prepared, test_label), epochs=100)"
      ],
      "metadata": {
        "execution": {
          "iopub.status.busy": "2024-08-17T17:33:33.689223Z",
          "iopub.execute_input": "2024-08-17T17:33:33.689642Z",
          "iopub.status.idle": "2024-08-17T17:40:11.392704Z",
          "shell.execute_reply.started": "2024-08-17T17:33:33.689611Z",
          "shell.execute_reply": "2024-08-17T17:40:11.391639Z"
        },
        "trusted": true,
        "id": "eRd3tmzkuZ49"
      },
      "execution_count": null,
      "outputs": []
    },
    {
      "cell_type": "code",
      "source": [
        "loss_df = pd.DataFrame(history.history)\n",
        "loss_df.plot(figsize=(10,5))"
      ],
      "metadata": {
        "execution": {
          "iopub.status.busy": "2024-08-17T17:40:11.395009Z",
          "iopub.execute_input": "2024-08-17T17:40:11.395797Z",
          "iopub.status.idle": "2024-08-17T17:40:11.676557Z",
          "shell.execute_reply.started": "2024-08-17T17:40:11.395754Z",
          "shell.execute_reply": "2024-08-17T17:40:11.675522Z"
        },
        "trusted": true,
        "id": "Ppjabv9BuZ4-"
      },
      "execution_count": null,
      "outputs": []
    },
    {
      "cell_type": "code",
      "source": [
        "model.evaluate(test_data_prepared, test_label)"
      ],
      "metadata": {
        "execution": {
          "iopub.status.busy": "2024-08-17T17:40:11.678164Z",
          "iopub.execute_input": "2024-08-17T17:40:11.67895Z",
          "iopub.status.idle": "2024-08-17T17:40:12.761917Z",
          "shell.execute_reply.started": "2024-08-17T17:40:11.67891Z",
          "shell.execute_reply": "2024-08-17T17:40:12.7609Z"
        },
        "trusted": true,
        "id": "c96A7cEAuZ4_"
      },
      "execution_count": null,
      "outputs": []
    },
    {
      "cell_type": "code",
      "source": [
        "model.save('f_model.h5')\n",
        "print(\"done\")"
      ],
      "metadata": {
        "execution": {
          "iopub.status.busy": "2024-08-17T17:40:12.763542Z",
          "iopub.execute_input": "2024-08-17T17:40:12.76388Z",
          "iopub.status.idle": "2024-08-17T17:40:12.817584Z",
          "shell.execute_reply.started": "2024-08-17T17:40:12.763851Z",
          "shell.execute_reply": "2024-08-17T17:40:12.816369Z"
        },
        "trusted": true,
        "id": "1mpS0RYjuZ4_"
      },
      "execution_count": null,
      "outputs": []
    },
    {
      "cell_type": "code",
      "source": [
        "loaded_model = keras.models.load_model('f_model.h5')\n",
        "loss_acc_metrics_df = pd.DataFrame(history.history)\n",
        "loss_acc_metrics_df.plot(figsize=(10,5))"
      ],
      "metadata": {
        "execution": {
          "iopub.status.busy": "2024-08-17T17:40:12.818953Z",
          "iopub.execute_input": "2024-08-17T17:40:12.819364Z",
          "iopub.status.idle": "2024-08-17T17:40:13.145874Z",
          "shell.execute_reply.started": "2024-08-17T17:40:12.81933Z",
          "shell.execute_reply": "2024-08-17T17:40:13.144697Z"
        },
        "trusted": true,
        "id": "A6EKA_XiuZ5A"
      },
      "execution_count": null,
      "outputs": []
    },
    {
      "cell_type": "code",
      "source": [
        "# Evaluate the model\n",
        "model_eval = model_2.evaluate(test_data_prepared, test_label)\n",
        "\n",
        "# Check if the evaluation returned a single value or multiple values\n",
        "if isinstance(model_eval, float):\n",
        "    print(f\"Test loss: {model_eval}\")\n",
        "else:\n",
        "    # If the evaluation returns a list/tuple, assuming [loss, accuracy]\n",
        "    print(f\"Test loss: {model_eval[0]}\\nTest accuracy: {model_eval[1]}\")"
      ],
      "metadata": {
        "execution": {
          "iopub.status.busy": "2024-08-17T17:40:13.147209Z",
          "iopub.execute_input": "2024-08-17T17:40:13.147573Z",
          "iopub.status.idle": "2024-08-17T17:40:14.210697Z",
          "shell.execute_reply.started": "2024-08-17T17:40:13.147543Z",
          "shell.execute_reply": "2024-08-17T17:40:14.209618Z"
        },
        "trusted": true,
        "id": "0eVInJzmuZ5A"
      },
      "execution_count": null,
      "outputs": []
    },
    {
      "cell_type": "code",
      "source": [
        "# Define a function to extract features (dropping the target column if present)\n",
        "def get_feats(data):\n",
        "    return data.drop(['Unnamed: 0', 'satisfaction'], axis=1, errors='ignore')\n",
        "\n",
        "# Define the numeric and categorical features (ensure these match your data)\n",
        "num_feats = ['Age', 'Flight Distance', 'Inflight wifi service',\n",
        "             'Departure/Arrival time convenient', 'Ease of Online booking',\n",
        "             'Gate location', 'Food and drink', 'Online boarding',\n",
        "             'Seat comfort', 'Inflight entertainment', 'On-board service',\n",
        "             'Leg room service', 'Baggage handling', 'Checkin service',\n",
        "             'Inflight service', 'Cleanliness', 'Departure Delay in Minutes',\n",
        "             'Arrival Delay in Minutes']\n",
        "\n",
        "cat_feats = ['Gender', 'Customer Type', 'Type of Travel', 'Class']\n",
        "\n",
        "# Define the pipeline to handle missing values, scale numeric features, and encode categorical features\n",
        "final_pipe = ColumnTransformer([\n",
        "    ('num', Pipeline([\n",
        "        ('imputer', SimpleImputer(strategy='mean')),  # Impute missing values in numeric features\n",
        "        ('scaler', StandardScaler())\n",
        "    ]), num_feats),\n",
        "    ('cat', Pipeline([\n",
        "        ('imputer', SimpleImputer(strategy='most_frequent')),  # Impute missing values in categorical features\n",
        "        ('encoder', OneHotEncoder())\n",
        "    ]), cat_feats)\n",
        "])\n",
        "\n",
        "train_target = traindata['satisfaction']\n",
        "\n",
        "# Fit the pipeline on the training data features\n",
        "final_pipe.fit(train_feats)\n",
        "\n",
        "# Transform training features using the fitted pipeline\n",
        "train_feats_prepared = final_pipe.transform(train_feats)\n",
        "\n",
        "# Train your model (example using RandomForestClassifier)\n",
        "model = RandomForestClassifier()\n",
        "model.fit(train_feats_prepared, train_target)\n",
        "\n",
        "# Save the pipeline and model\n",
        "joblib.dump(final_pipe, 'final_pipe.pkl')\n",
        "joblib.dump(model, 'your_model.pkl')\n",
        "\n",
        "\n",
        "# Get the features from the validation data\n",
        "val_feats = get_feats(valldata)\n",
        "\n",
        "# Prepare the validation data using the already fitted pipeline\n",
        "val_data_prepared = final_pipe.transform(val_feats)\n",
        "\n",
        "# Load your previously saved model\n",
        "loaded_model = joblib.load('your_model.pkl')\n",
        "\n",
        "# Make predictions on validation data\n",
        "predictions = loaded_model.predict(val_data_prepared)\n",
        "print(predictions[:15])\n",
        "\n"
      ],
      "metadata": {
        "execution": {
          "iopub.status.busy": "2024-08-17T17:40:14.212019Z",
          "iopub.execute_input": "2024-08-17T17:40:14.212324Z",
          "iopub.status.idle": "2024-08-17T17:40:27.091489Z",
          "shell.execute_reply.started": "2024-08-17T17:40:14.212294Z",
          "shell.execute_reply": "2024-08-17T17:40:27.090471Z"
        },
        "trusted": true,
        "id": "p3ThfR47uZ5A"
      },
      "execution_count": null,
      "outputs": []
    },
    {
      "cell_type": "code",
      "source": [
        "# If predictions is a numpy array of strings, convert it using the mapping\n",
        "predictions_mapped = np.array([satisfaction_mapping.get(pred, pred) for pred in predictions])\n",
        "\n",
        "#ids = np.arange(0, 25976)\n",
        "ids = valldata['id']\n",
        "# Create a DataFrame with 'id' and 'y' (predictions)\n",
        "output_df = pd.DataFrame({\n",
        "    'id': ids,\n",
        "    'y': predictions_mapped\n",
        "})\n",
        "print(output_df)\n",
        "print(predictions_mapped.shape)\n",
        "# Save the DataFrame to a CSV file\n",
        "output_df.to_csv('predictions.csv', index=False)\n",
        "print(\"Predictions saved to 'predictions.csv'\")"
      ],
      "metadata": {
        "execution": {
          "iopub.status.busy": "2024-08-17T18:31:44.79341Z",
          "iopub.status.idle": "2024-08-17T18:31:44.793805Z",
          "shell.execute_reply.started": "2024-08-17T18:31:44.793596Z",
          "shell.execute_reply": "2024-08-17T18:31:44.793612Z"
        },
        "trusted": true,
        "id": "-K9zCwTeuZ5B"
      },
      "execution_count": null,
      "outputs": []
    }
  ]
}