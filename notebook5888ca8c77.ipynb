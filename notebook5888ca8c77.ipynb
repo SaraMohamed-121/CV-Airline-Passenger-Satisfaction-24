{
  "metadata": {
    "kernelspec": {
      "language": "python",
      "display_name": "Python 3",
      "name": "python3"
    },
    "language_info": {
      "name": "python",
      "version": "3.10.13",
      "mimetype": "text/x-python",
      "codemirror_mode": {
        "name": "ipython",
        "version": 3
      },
      "pygments_lexer": "ipython3",
      "nbconvert_exporter": "python",
      "file_extension": ".py"
    },
    "kaggle": {
      "accelerator": "none",
      "dataSources": [
        {
          "sourceId": 83802,
          "databundleVersionId": 9339243,
          "sourceType": "competition"
        }
      ],
      "dockerImageVersionId": 30746,
      "isInternetEnabled": true,
      "language": "python",
      "sourceType": "notebook",
      "isGpuEnabled": false
    },
    "colab": {
      "name": "notebook5888ca8c77",
      "provenance": [],
      "include_colab_link": true
    }
  },
  "nbformat_minor": 0,
  "nbformat": 4,
  "cells": [
    {
      "cell_type": "markdown",
      "metadata": {
        "id": "view-in-github",
        "colab_type": "text"
      },
      "source": [
        "<a href=\"https://colab.research.google.com/github/SaraMohamed-121/CV-ST-24/blob/main/notebook5888ca8c77.ipynb\" target=\"_parent\"><img src=\"https://colab.research.google.com/assets/colab-badge.svg\" alt=\"Open In Colab\"/></a>"
      ]
    },
    {
      "source": [
        "\n",
        "# IMPORTANT: RUN THIS CELL IN ORDER TO IMPORT YOUR KAGGLE DATA SOURCES\n",
        "# TO THE CORRECT LOCATION (/kaggle/input) IN YOUR NOTEBOOK,\n",
        "# THEN FEEL FREE TO DELETE THIS CELL.\n",
        "# NOTE: THIS NOTEBOOK ENVIRONMENT DIFFERS FROM KAGGLE'S PYTHON\n",
        "# ENVIRONMENT SO THERE MAY BE MISSING LIBRARIES USED BY YOUR\n",
        "# NOTEBOOK.\n",
        "\n",
        "import os\n",
        "import sys\n",
        "from tempfile import NamedTemporaryFile\n",
        "from urllib.request import urlopen\n",
        "from urllib.parse import unquote, urlparse\n",
        "from urllib.error import HTTPError\n",
        "from zipfile import ZipFile\n",
        "import tarfile\n",
        "import shutil\n",
        "\n",
        "CHUNK_SIZE = 40960\n",
        "DATA_SOURCE_MAPPING = 'appl-ai-cv-st-24-assignment-1:https%3A%2F%2Fstorage.googleapis.com%2Fkaggle-competitions-data%2Fkaggle-v2%2F83802%2F9339243%2Fbundle%2Farchive.zip%3FX-Goog-Algorithm%3DGOOG4-RSA-SHA256%26X-Goog-Credential%3Dgcp-kaggle-com%2540kaggle-161607.iam.gserviceaccount.com%252F20240817%252Fauto%252Fstorage%252Fgoog4_request%26X-Goog-Date%3D20240817T175439Z%26X-Goog-Expires%3D259200%26X-Goog-SignedHeaders%3Dhost%26X-Goog-Signature%3D97d4fcc2c1eed545a0b08a5cfd47d778cae1c2faaa6830640d5173a8bc096db6a30e7b30b4ee520b8371e8fa7d56a3af17e9811bd345fe22ea512754818867f660215430a95bc166ed0a2116fce1b22fa5b4e02672a63388e5d9271bf8261dfac13e2d09a8e6182630e367f9b93faebe2d06bd0cfba40fdba65558ad0f7368652e46d507666997900381df53f430aa71935ddd6ba1572167fb75aadb10dc405f92ef00bcda6ad25f209229552968b4ffb2a42139d477cb33e80be9467a1796c9fb5ea9f49f4eabf723ac967a6888a7c72ef62c954d70f198219909a9ddb0d79457ef98530fd8ca711ed7f8fabf536bcae85b6ed0c539ee93bc22a069bf31a658'\n",
        "\n",
        "KAGGLE_INPUT_PATH='/kaggle/input'\n",
        "KAGGLE_WORKING_PATH='/kaggle/working'\n",
        "KAGGLE_SYMLINK='kaggle'\n",
        "\n",
        "!umount /kaggle/input/ 2> /dev/null\n",
        "shutil.rmtree('/kaggle/input', ignore_errors=True)\n",
        "os.makedirs(KAGGLE_INPUT_PATH, 0o777, exist_ok=True)\n",
        "os.makedirs(KAGGLE_WORKING_PATH, 0o777, exist_ok=True)\n",
        "\n",
        "try:\n",
        "  os.symlink(KAGGLE_INPUT_PATH, os.path.join(\"..\", 'input'), target_is_directory=True)\n",
        "except FileExistsError:\n",
        "  pass\n",
        "try:\n",
        "  os.symlink(KAGGLE_WORKING_PATH, os.path.join(\"..\", 'working'), target_is_directory=True)\n",
        "except FileExistsError:\n",
        "  pass\n",
        "\n",
        "for data_source_mapping in DATA_SOURCE_MAPPING.split(','):\n",
        "    directory, download_url_encoded = data_source_mapping.split(':')\n",
        "    download_url = unquote(download_url_encoded)\n",
        "    filename = urlparse(download_url).path\n",
        "    destination_path = os.path.join(KAGGLE_INPUT_PATH, directory)\n",
        "    try:\n",
        "        with urlopen(download_url) as fileres, NamedTemporaryFile() as tfile:\n",
        "            total_length = fileres.headers['content-length']\n",
        "            print(f'Downloading {directory}, {total_length} bytes compressed')\n",
        "            dl = 0\n",
        "            data = fileres.read(CHUNK_SIZE)\n",
        "            while len(data) > 0:\n",
        "                dl += len(data)\n",
        "                tfile.write(data)\n",
        "                done = int(50 * dl / int(total_length))\n",
        "                sys.stdout.write(f\"\\r[{'=' * done}{' ' * (50-done)}] {dl} bytes downloaded\")\n",
        "                sys.stdout.flush()\n",
        "                data = fileres.read(CHUNK_SIZE)\n",
        "            if filename.endswith('.zip'):\n",
        "              with ZipFile(tfile) as zfile:\n",
        "                zfile.extractall(destination_path)\n",
        "            else:\n",
        "              with tarfile.open(tfile.name) as tarfile:\n",
        "                tarfile.extractall(destination_path)\n",
        "            print(f'\\nDownloaded and uncompressed: {directory}')\n",
        "    except HTTPError as e:\n",
        "        print(f'Failed to load (likely expired) {download_url} to path {destination_path}')\n",
        "        continue\n",
        "    except OSError as e:\n",
        "        print(f'Failed to load {download_url} to path {destination_path}')\n",
        "        continue\n",
        "\n",
        "print('Data source import complete.')\n"
      ],
      "metadata": {
        "id": "qPxoEXrpejH0",
        "outputId": "948c45f3-b446-41a8-b0a8-a9fa605c3b0c",
        "colab": {
          "base_uri": "https://localhost:8080/"
        }
      },
      "cell_type": "code",
      "outputs": [
        {
          "output_type": "stream",
          "name": "stdout",
          "text": [
            "Downloading appl-ai-cv-st-24-assignment-1, 2819510 bytes compressed\n",
            "[==================================================] 2819510 bytes downloaded\n",
            "Downloaded and uncompressed: appl-ai-cv-st-24-assignment-1\n",
            "Data source import complete.\n"
          ]
        }
      ],
      "execution_count": 1
    },
    {
      "cell_type": "code",
      "source": [
        "import numpy as np\n",
        "import pandas as pd\n",
        "import tensorflow as tf\n",
        "from tensorflow import keras\n",
        "import matplotlib.pyplot as plt\n",
        "import seaborn as sns\n",
        "import os\n",
        "from sklearn.compose import ColumnTransformer\n",
        "from sklearn.preprocessing import StandardScaler, OrdinalEncoder, OneHotEncoder\n",
        "from sklearn.impute import SimpleImputer\n",
        "from sklearn.metrics import classification_report, accuracy_score\n",
        "from sklearn.ensemble import RandomForestClassifier\n",
        "from sklearn.pipeline import Pipeline\n",
        "from sklearn.model_selection import train_test_split\n",
        "import joblib\n",
        "\n",
        "os.environ['TF_XLA_FLAGS'] = '--tf_xla_enable_xla_devices=false'\n",
        "\n",
        "# Load data\n",
        "train_path = '/kaggle/input/appl-ai-cv-st-24-assignment-1/train.csv'\n",
        "valid_path = '/kaggle/input/appl-ai-cv-st-24-assignment-1/test.csv'\n",
        "traindata = pd.read_csv(train_path)\n",
        "valldata = pd.read_csv(valid_path)\n",
        "print(f'train data: {traindata.shape}\\nval data: {valldata.shape}')\n",
        "traindata.info()"
      ],
      "metadata": {
        "_uuid": "8f2839f25d086af736a60e9eeb907d3b93b6e0e5",
        "_cell_guid": "b1076dfc-b9ad-4769-8c92-a6c4dae69d19",
        "execution": {
          "iopub.status.busy": "2024-08-17T17:26:00.038338Z",
          "iopub.execute_input": "2024-08-17T17:26:00.03924Z",
          "iopub.status.idle": "2024-08-17T17:26:15.919204Z",
          "shell.execute_reply.started": "2024-08-17T17:26:00.039202Z",
          "shell.execute_reply": "2024-08-17T17:26:15.918082Z"
        },
        "trusted": true,
        "id": "9iAGtsl8ejH6",
        "outputId": "1cf1bf0e-fcf9-42f1-8566-480f35f64736",
        "colab": {
          "base_uri": "https://localhost:8080/"
        }
      },
      "execution_count": 2,
      "outputs": [
        {
          "output_type": "stream",
          "name": "stdout",
          "text": [
            "train data: (103904, 25)\n",
            "val data: (25976, 24)\n",
            "<class 'pandas.core.frame.DataFrame'>\n",
            "RangeIndex: 103904 entries, 0 to 103903\n",
            "Data columns (total 25 columns):\n",
            " #   Column                             Non-Null Count   Dtype  \n",
            "---  ------                             --------------   -----  \n",
            " 0   Unnamed: 0                         103904 non-null  int64  \n",
            " 1   id                                 103904 non-null  int64  \n",
            " 2   Gender                             103904 non-null  object \n",
            " 3   Customer Type                      103904 non-null  object \n",
            " 4   Age                                103904 non-null  int64  \n",
            " 5   Type of Travel                     103904 non-null  object \n",
            " 6   Class                              103904 non-null  object \n",
            " 7   Flight Distance                    103904 non-null  int64  \n",
            " 8   Inflight wifi service              103904 non-null  int64  \n",
            " 9   Departure/Arrival time convenient  103904 non-null  int64  \n",
            " 10  Ease of Online booking             103904 non-null  int64  \n",
            " 11  Gate location                      103904 non-null  int64  \n",
            " 12  Food and drink                     103904 non-null  int64  \n",
            " 13  Online boarding                    103904 non-null  int64  \n",
            " 14  Seat comfort                       103904 non-null  int64  \n",
            " 15  Inflight entertainment             103904 non-null  int64  \n",
            " 16  On-board service                   103904 non-null  int64  \n",
            " 17  Leg room service                   103904 non-null  int64  \n",
            " 18  Baggage handling                   103904 non-null  int64  \n",
            " 19  Checkin service                    103904 non-null  int64  \n",
            " 20  Inflight service                   103904 non-null  int64  \n",
            " 21  Cleanliness                        103904 non-null  int64  \n",
            " 22  Departure Delay in Minutes         103904 non-null  int64  \n",
            " 23  Arrival Delay in Minutes           103594 non-null  float64\n",
            " 24  satisfaction                       103904 non-null  object \n",
            "dtypes: float64(1), int64(19), object(5)\n",
            "memory usage: 19.8+ MB\n"
          ]
        }
      ]
    },
    {
      "cell_type": "code",
      "source": [
        "#dataset contains 103904 examples and 25 columns, 24 features\n",
        "from sklearn.model_selection import train_test_split\n",
        "traindata, testdata = train_test_split(traindata, test_size=0.3, random_state=42)\n",
        "traindata.head(5)"
      ],
      "metadata": {
        "execution": {
          "iopub.status.busy": "2024-08-17T17:26:15.921473Z",
          "iopub.execute_input": "2024-08-17T17:26:15.921901Z",
          "iopub.status.idle": "2024-08-17T17:26:15.995804Z",
          "shell.execute_reply.started": "2024-08-17T17:26:15.92186Z",
          "shell.execute_reply": "2024-08-17T17:26:15.994738Z"
        },
        "trusted": true,
        "id": "bLaNyi4xejH7",
        "outputId": "0b0d789c-3241-45aa-9212-1184236fd3e2",
        "colab": {
          "base_uri": "https://localhost:8080/",
          "height": 394
        }
      },
      "execution_count": 3,
      "outputs": [
        {
          "output_type": "execute_result",
          "data": {
            "text/plain": [
              "       Unnamed: 0      id  Gender   Customer Type  Age   Type of Travel  \\\n",
              "17901       17901   67857  Female  Loyal Customer   35  Personal Travel   \n",
              "49209       49209   75897    Male  Loyal Customer   56  Business travel   \n",
              "32340       32340   74965  Female  Loyal Customer   45  Personal Travel   \n",
              "50831       50831   63686    Male  Loyal Customer   47  Business travel   \n",
              "10989       10989  101324    Male  Loyal Customer   40  Personal Travel   \n",
              "\n",
              "          Class  Flight Distance  Inflight wifi service  \\\n",
              "17901       Eco             1235                      1   \n",
              "49209  Business              603                      5   \n",
              "32340       Eco             2586                      2   \n",
              "50831  Business             2422                      2   \n",
              "10989       Eco             1076                      2   \n",
              "\n",
              "       Departure/Arrival time convenient  ...  Inflight entertainment  \\\n",
              "17901                                  4  ...                       4   \n",
              "49209                                  5  ...                       5   \n",
              "32340                                  2  ...                       1   \n",
              "50831                                  2  ...                       4   \n",
              "10989                                  4  ...                       4   \n",
              "\n",
              "       On-board service  Leg room service  Baggage handling  Checkin service  \\\n",
              "17901                 4                 4                 4                5   \n",
              "49209                 5                 5                 5                5   \n",
              "32340                 1                 2                 1                2   \n",
              "50831                 4                 4                 4                4   \n",
              "10989                 5                 3                 5                4   \n",
              "\n",
              "       Inflight service  Cleanliness  Departure Delay in Minutes  \\\n",
              "17901                 5            4                           0   \n",
              "49209                 5            3                          89   \n",
              "32340                 1            3                           0   \n",
              "50831                 4            3                           0   \n",
              "10989                 4            4                          18   \n",
              "\n",
              "       Arrival Delay in Minutes             satisfaction  \n",
              "17901                      19.0  neutral or dissatisfied  \n",
              "49209                      86.0                satisfied  \n",
              "32340                       0.0  neutral or dissatisfied  \n",
              "50831                       0.0                satisfied  \n",
              "10989                      18.0  neutral or dissatisfied  \n",
              "\n",
              "[5 rows x 25 columns]"
            ],
            "text/html": [
              "\n",
              "  <div id=\"df-f57e75ab-7fc2-47ed-954f-fdb878d436a0\" class=\"colab-df-container\">\n",
              "    <div>\n",
              "<style scoped>\n",
              "    .dataframe tbody tr th:only-of-type {\n",
              "        vertical-align: middle;\n",
              "    }\n",
              "\n",
              "    .dataframe tbody tr th {\n",
              "        vertical-align: top;\n",
              "    }\n",
              "\n",
              "    .dataframe thead th {\n",
              "        text-align: right;\n",
              "    }\n",
              "</style>\n",
              "<table border=\"1\" class=\"dataframe\">\n",
              "  <thead>\n",
              "    <tr style=\"text-align: right;\">\n",
              "      <th></th>\n",
              "      <th>Unnamed: 0</th>\n",
              "      <th>id</th>\n",
              "      <th>Gender</th>\n",
              "      <th>Customer Type</th>\n",
              "      <th>Age</th>\n",
              "      <th>Type of Travel</th>\n",
              "      <th>Class</th>\n",
              "      <th>Flight Distance</th>\n",
              "      <th>Inflight wifi service</th>\n",
              "      <th>Departure/Arrival time convenient</th>\n",
              "      <th>...</th>\n",
              "      <th>Inflight entertainment</th>\n",
              "      <th>On-board service</th>\n",
              "      <th>Leg room service</th>\n",
              "      <th>Baggage handling</th>\n",
              "      <th>Checkin service</th>\n",
              "      <th>Inflight service</th>\n",
              "      <th>Cleanliness</th>\n",
              "      <th>Departure Delay in Minutes</th>\n",
              "      <th>Arrival Delay in Minutes</th>\n",
              "      <th>satisfaction</th>\n",
              "    </tr>\n",
              "  </thead>\n",
              "  <tbody>\n",
              "    <tr>\n",
              "      <th>17901</th>\n",
              "      <td>17901</td>\n",
              "      <td>67857</td>\n",
              "      <td>Female</td>\n",
              "      <td>Loyal Customer</td>\n",
              "      <td>35</td>\n",
              "      <td>Personal Travel</td>\n",
              "      <td>Eco</td>\n",
              "      <td>1235</td>\n",
              "      <td>1</td>\n",
              "      <td>4</td>\n",
              "      <td>...</td>\n",
              "      <td>4</td>\n",
              "      <td>4</td>\n",
              "      <td>4</td>\n",
              "      <td>4</td>\n",
              "      <td>5</td>\n",
              "      <td>5</td>\n",
              "      <td>4</td>\n",
              "      <td>0</td>\n",
              "      <td>19.0</td>\n",
              "      <td>neutral or dissatisfied</td>\n",
              "    </tr>\n",
              "    <tr>\n",
              "      <th>49209</th>\n",
              "      <td>49209</td>\n",
              "      <td>75897</td>\n",
              "      <td>Male</td>\n",
              "      <td>Loyal Customer</td>\n",
              "      <td>56</td>\n",
              "      <td>Business travel</td>\n",
              "      <td>Business</td>\n",
              "      <td>603</td>\n",
              "      <td>5</td>\n",
              "      <td>5</td>\n",
              "      <td>...</td>\n",
              "      <td>5</td>\n",
              "      <td>5</td>\n",
              "      <td>5</td>\n",
              "      <td>5</td>\n",
              "      <td>5</td>\n",
              "      <td>5</td>\n",
              "      <td>3</td>\n",
              "      <td>89</td>\n",
              "      <td>86.0</td>\n",
              "      <td>satisfied</td>\n",
              "    </tr>\n",
              "    <tr>\n",
              "      <th>32340</th>\n",
              "      <td>32340</td>\n",
              "      <td>74965</td>\n",
              "      <td>Female</td>\n",
              "      <td>Loyal Customer</td>\n",
              "      <td>45</td>\n",
              "      <td>Personal Travel</td>\n",
              "      <td>Eco</td>\n",
              "      <td>2586</td>\n",
              "      <td>2</td>\n",
              "      <td>2</td>\n",
              "      <td>...</td>\n",
              "      <td>1</td>\n",
              "      <td>1</td>\n",
              "      <td>2</td>\n",
              "      <td>1</td>\n",
              "      <td>2</td>\n",
              "      <td>1</td>\n",
              "      <td>3</td>\n",
              "      <td>0</td>\n",
              "      <td>0.0</td>\n",
              "      <td>neutral or dissatisfied</td>\n",
              "    </tr>\n",
              "    <tr>\n",
              "      <th>50831</th>\n",
              "      <td>50831</td>\n",
              "      <td>63686</td>\n",
              "      <td>Male</td>\n",
              "      <td>Loyal Customer</td>\n",
              "      <td>47</td>\n",
              "      <td>Business travel</td>\n",
              "      <td>Business</td>\n",
              "      <td>2422</td>\n",
              "      <td>2</td>\n",
              "      <td>2</td>\n",
              "      <td>...</td>\n",
              "      <td>4</td>\n",
              "      <td>4</td>\n",
              "      <td>4</td>\n",
              "      <td>4</td>\n",
              "      <td>4</td>\n",
              "      <td>4</td>\n",
              "      <td>3</td>\n",
              "      <td>0</td>\n",
              "      <td>0.0</td>\n",
              "      <td>satisfied</td>\n",
              "    </tr>\n",
              "    <tr>\n",
              "      <th>10989</th>\n",
              "      <td>10989</td>\n",
              "      <td>101324</td>\n",
              "      <td>Male</td>\n",
              "      <td>Loyal Customer</td>\n",
              "      <td>40</td>\n",
              "      <td>Personal Travel</td>\n",
              "      <td>Eco</td>\n",
              "      <td>1076</td>\n",
              "      <td>2</td>\n",
              "      <td>4</td>\n",
              "      <td>...</td>\n",
              "      <td>4</td>\n",
              "      <td>5</td>\n",
              "      <td>3</td>\n",
              "      <td>5</td>\n",
              "      <td>4</td>\n",
              "      <td>4</td>\n",
              "      <td>4</td>\n",
              "      <td>18</td>\n",
              "      <td>18.0</td>\n",
              "      <td>neutral or dissatisfied</td>\n",
              "    </tr>\n",
              "  </tbody>\n",
              "</table>\n",
              "<p>5 rows × 25 columns</p>\n",
              "</div>\n",
              "    <div class=\"colab-df-buttons\">\n",
              "\n",
              "  <div class=\"colab-df-container\">\n",
              "    <button class=\"colab-df-convert\" onclick=\"convertToInteractive('df-f57e75ab-7fc2-47ed-954f-fdb878d436a0')\"\n",
              "            title=\"Convert this dataframe to an interactive table.\"\n",
              "            style=\"display:none;\">\n",
              "\n",
              "  <svg xmlns=\"http://www.w3.org/2000/svg\" height=\"24px\" viewBox=\"0 -960 960 960\">\n",
              "    <path d=\"M120-120v-720h720v720H120Zm60-500h600v-160H180v160Zm220 220h160v-160H400v160Zm0 220h160v-160H400v160ZM180-400h160v-160H180v160Zm440 0h160v-160H620v160ZM180-180h160v-160H180v160Zm440 0h160v-160H620v160Z\"/>\n",
              "  </svg>\n",
              "    </button>\n",
              "\n",
              "  <style>\n",
              "    .colab-df-container {\n",
              "      display:flex;\n",
              "      gap: 12px;\n",
              "    }\n",
              "\n",
              "    .colab-df-convert {\n",
              "      background-color: #E8F0FE;\n",
              "      border: none;\n",
              "      border-radius: 50%;\n",
              "      cursor: pointer;\n",
              "      display: none;\n",
              "      fill: #1967D2;\n",
              "      height: 32px;\n",
              "      padding: 0 0 0 0;\n",
              "      width: 32px;\n",
              "    }\n",
              "\n",
              "    .colab-df-convert:hover {\n",
              "      background-color: #E2EBFA;\n",
              "      box-shadow: 0px 1px 2px rgba(60, 64, 67, 0.3), 0px 1px 3px 1px rgba(60, 64, 67, 0.15);\n",
              "      fill: #174EA6;\n",
              "    }\n",
              "\n",
              "    .colab-df-buttons div {\n",
              "      margin-bottom: 4px;\n",
              "    }\n",
              "\n",
              "    [theme=dark] .colab-df-convert {\n",
              "      background-color: #3B4455;\n",
              "      fill: #D2E3FC;\n",
              "    }\n",
              "\n",
              "    [theme=dark] .colab-df-convert:hover {\n",
              "      background-color: #434B5C;\n",
              "      box-shadow: 0px 1px 3px 1px rgba(0, 0, 0, 0.15);\n",
              "      filter: drop-shadow(0px 1px 2px rgba(0, 0, 0, 0.3));\n",
              "      fill: #FFFFFF;\n",
              "    }\n",
              "  </style>\n",
              "\n",
              "    <script>\n",
              "      const buttonEl =\n",
              "        document.querySelector('#df-f57e75ab-7fc2-47ed-954f-fdb878d436a0 button.colab-df-convert');\n",
              "      buttonEl.style.display =\n",
              "        google.colab.kernel.accessAllowed ? 'block' : 'none';\n",
              "\n",
              "      async function convertToInteractive(key) {\n",
              "        const element = document.querySelector('#df-f57e75ab-7fc2-47ed-954f-fdb878d436a0');\n",
              "        const dataTable =\n",
              "          await google.colab.kernel.invokeFunction('convertToInteractive',\n",
              "                                                    [key], {});\n",
              "        if (!dataTable) return;\n",
              "\n",
              "        const docLinkHtml = 'Like what you see? Visit the ' +\n",
              "          '<a target=\"_blank\" href=https://colab.research.google.com/notebooks/data_table.ipynb>data table notebook</a>'\n",
              "          + ' to learn more about interactive tables.';\n",
              "        element.innerHTML = '';\n",
              "        dataTable['output_type'] = 'display_data';\n",
              "        await google.colab.output.renderOutput(dataTable, element);\n",
              "        const docLink = document.createElement('div');\n",
              "        docLink.innerHTML = docLinkHtml;\n",
              "        element.appendChild(docLink);\n",
              "      }\n",
              "    </script>\n",
              "  </div>\n",
              "\n",
              "\n",
              "<div id=\"df-2934c2bd-954e-4068-b72b-c1ea9d9cb0dd\">\n",
              "  <button class=\"colab-df-quickchart\" onclick=\"quickchart('df-2934c2bd-954e-4068-b72b-c1ea9d9cb0dd')\"\n",
              "            title=\"Suggest charts\"\n",
              "            style=\"display:none;\">\n",
              "\n",
              "<svg xmlns=\"http://www.w3.org/2000/svg\" height=\"24px\"viewBox=\"0 0 24 24\"\n",
              "     width=\"24px\">\n",
              "    <g>\n",
              "        <path d=\"M19 3H5c-1.1 0-2 .9-2 2v14c0 1.1.9 2 2 2h14c1.1 0 2-.9 2-2V5c0-1.1-.9-2-2-2zM9 17H7v-7h2v7zm4 0h-2V7h2v10zm4 0h-2v-4h2v4z\"/>\n",
              "    </g>\n",
              "</svg>\n",
              "  </button>\n",
              "\n",
              "<style>\n",
              "  .colab-df-quickchart {\n",
              "      --bg-color: #E8F0FE;\n",
              "      --fill-color: #1967D2;\n",
              "      --hover-bg-color: #E2EBFA;\n",
              "      --hover-fill-color: #174EA6;\n",
              "      --disabled-fill-color: #AAA;\n",
              "      --disabled-bg-color: #DDD;\n",
              "  }\n",
              "\n",
              "  [theme=dark] .colab-df-quickchart {\n",
              "      --bg-color: #3B4455;\n",
              "      --fill-color: #D2E3FC;\n",
              "      --hover-bg-color: #434B5C;\n",
              "      --hover-fill-color: #FFFFFF;\n",
              "      --disabled-bg-color: #3B4455;\n",
              "      --disabled-fill-color: #666;\n",
              "  }\n",
              "\n",
              "  .colab-df-quickchart {\n",
              "    background-color: var(--bg-color);\n",
              "    border: none;\n",
              "    border-radius: 50%;\n",
              "    cursor: pointer;\n",
              "    display: none;\n",
              "    fill: var(--fill-color);\n",
              "    height: 32px;\n",
              "    padding: 0;\n",
              "    width: 32px;\n",
              "  }\n",
              "\n",
              "  .colab-df-quickchart:hover {\n",
              "    background-color: var(--hover-bg-color);\n",
              "    box-shadow: 0 1px 2px rgba(60, 64, 67, 0.3), 0 1px 3px 1px rgba(60, 64, 67, 0.15);\n",
              "    fill: var(--button-hover-fill-color);\n",
              "  }\n",
              "\n",
              "  .colab-df-quickchart-complete:disabled,\n",
              "  .colab-df-quickchart-complete:disabled:hover {\n",
              "    background-color: var(--disabled-bg-color);\n",
              "    fill: var(--disabled-fill-color);\n",
              "    box-shadow: none;\n",
              "  }\n",
              "\n",
              "  .colab-df-spinner {\n",
              "    border: 2px solid var(--fill-color);\n",
              "    border-color: transparent;\n",
              "    border-bottom-color: var(--fill-color);\n",
              "    animation:\n",
              "      spin 1s steps(1) infinite;\n",
              "  }\n",
              "\n",
              "  @keyframes spin {\n",
              "    0% {\n",
              "      border-color: transparent;\n",
              "      border-bottom-color: var(--fill-color);\n",
              "      border-left-color: var(--fill-color);\n",
              "    }\n",
              "    20% {\n",
              "      border-color: transparent;\n",
              "      border-left-color: var(--fill-color);\n",
              "      border-top-color: var(--fill-color);\n",
              "    }\n",
              "    30% {\n",
              "      border-color: transparent;\n",
              "      border-left-color: var(--fill-color);\n",
              "      border-top-color: var(--fill-color);\n",
              "      border-right-color: var(--fill-color);\n",
              "    }\n",
              "    40% {\n",
              "      border-color: transparent;\n",
              "      border-right-color: var(--fill-color);\n",
              "      border-top-color: var(--fill-color);\n",
              "    }\n",
              "    60% {\n",
              "      border-color: transparent;\n",
              "      border-right-color: var(--fill-color);\n",
              "    }\n",
              "    80% {\n",
              "      border-color: transparent;\n",
              "      border-right-color: var(--fill-color);\n",
              "      border-bottom-color: var(--fill-color);\n",
              "    }\n",
              "    90% {\n",
              "      border-color: transparent;\n",
              "      border-bottom-color: var(--fill-color);\n",
              "    }\n",
              "  }\n",
              "</style>\n",
              "\n",
              "  <script>\n",
              "    async function quickchart(key) {\n",
              "      const quickchartButtonEl =\n",
              "        document.querySelector('#' + key + ' button');\n",
              "      quickchartButtonEl.disabled = true;  // To prevent multiple clicks.\n",
              "      quickchartButtonEl.classList.add('colab-df-spinner');\n",
              "      try {\n",
              "        const charts = await google.colab.kernel.invokeFunction(\n",
              "            'suggestCharts', [key], {});\n",
              "      } catch (error) {\n",
              "        console.error('Error during call to suggestCharts:', error);\n",
              "      }\n",
              "      quickchartButtonEl.classList.remove('colab-df-spinner');\n",
              "      quickchartButtonEl.classList.add('colab-df-quickchart-complete');\n",
              "    }\n",
              "    (() => {\n",
              "      let quickchartButtonEl =\n",
              "        document.querySelector('#df-2934c2bd-954e-4068-b72b-c1ea9d9cb0dd button');\n",
              "      quickchartButtonEl.style.display =\n",
              "        google.colab.kernel.accessAllowed ? 'block' : 'none';\n",
              "    })();\n",
              "  </script>\n",
              "</div>\n",
              "\n",
              "    </div>\n",
              "  </div>\n"
            ],
            "application/vnd.google.colaboratory.intrinsic+json": {
              "type": "dataframe",
              "variable_name": "traindata"
            }
          },
          "metadata": {},
          "execution_count": 3
        }
      ]
    },
    {
      "cell_type": "code",
      "source": [
        "for col in traindata.columns:\n",
        "    if traindata[col].dtype == 'object':\n",
        "        #print(col)\n",
        "        traindata[col].value_counts().plot(kind='bar', figsize=(5,5))\n",
        "        plt.title(col)\n",
        "        plt.xlabel(col)\n",
        "        plt.ylabel('Count')\n",
        "        plt.show()\n",
        "print(traindata['satisfaction'])\n",
        "# traindata['Gender'].value_counts().plot(kind='bar', figsize=(5,5))\n",
        "# traindata['Customer Type'].value_counts().plot(kind='bar', figsize=(5,5))\n",
        "# traindata['Type of Travel'].value_counts().plot(kind='bar', figsize=(5,5))\n",
        "# traindata['Class'].value_counts().plot(kind='bar', figsize=(5,5))\n",
        "# traindata['satisfaction'].value_counts().plot(kind='bar', figsize=(5,5))"
      ],
      "metadata": {
        "execution": {
          "iopub.status.busy": "2024-08-17T17:26:16.000983Z",
          "iopub.execute_input": "2024-08-17T17:26:16.001303Z",
          "iopub.status.idle": "2024-08-17T17:26:17.154322Z",
          "shell.execute_reply.started": "2024-08-17T17:26:16.001268Z",
          "shell.execute_reply": "2024-08-17T17:26:17.153312Z"
        },
        "trusted": true,
        "id": "vw09jLXDejH8",
        "outputId": "c89f518e-c52d-45ec-a5f8-ebea3ad2bd87",
        "colab": {
          "base_uri": "https://localhost:8080/",
          "height": 1000
        }
      },
      "execution_count": 4,
      "outputs": [
        {
          "output_type": "display_data",
          "data": {
            "text/plain": [
              "<Figure size 500x500 with 1 Axes>"
            ],
            "image/png": "[encoded data removed]"
          },
          "metadata": {}
        },
        {
          "output_type": "display_data",
          "data": {
            "text/plain": [
              "<Figure size 500x500 with 1 Axes>"
            ],
            "image/png": "[encoded data removed]"
          },
          "metadata": {}
        },
        {
          "output_type": "display_data",
          "data": {
            "text/plain": [
              "<Figure size 500x500 with 1 Axes>"
            ],
            "image/png": "[encoded data removed]"
          },
          "metadata": {}
        },
        {
          "output_type": "display_data",
          "data": {
            "text/plain": [
              "<Figure size 500x500 with 1 Axes>"
            ],
            "image/png": "[encoded data removed]"
          },
          "metadata": {}
        },
        {
          "output_type": "display_data",
          "data": {
            "text/plain": [
              "<Figure size 500x500 with 1 Axes>"
            ],
            "image/png": "[encoded data removed]"
          },
          "metadata": {}
        },
        {
          "output_type": "stream",
          "name": "stdout",
          "text": [
            "17901     neutral or dissatisfied\n",
            "49209                   satisfied\n",
            "32340     neutral or dissatisfied\n",
            "50831                   satisfied\n",
            "10989     neutral or dissatisfied\n",
            "                   ...           \n",
            "54886     neutral or dissatisfied\n",
            "76820     neutral or dissatisfied\n",
            "103694    neutral or dissatisfied\n",
            "860                     satisfied\n",
            "15795     neutral or dissatisfied\n",
            "Name: satisfaction, Length: 72732, dtype: object\n"
          ]
        }
      ]
    },
    {
      "cell_type": "code",
      "source": [
        "satisfaction_mapping = {'satisfied': 1, 'neutral or dissatisfied': 0}\n",
        "traindata['satisfaction'] = traindata['satisfaction'].map(satisfaction_mapping)\n",
        "testdata['satisfaction'] = testdata['satisfaction'].map(satisfaction_mapping)\n",
        "# prediction train data\n",
        "if not traindata['satisfaction'].empty:\n",
        "    traindata['satisfaction'].value_counts().plot(kind='bar', figsize=(5, 5), color='red')\n",
        "    plt.xlabel('Satisfaction')\n",
        "    plt.ylabel('Count')\n",
        "    plt.title('Distribution of Satisfaction')\n",
        "    plt.show()\n",
        "else:\n",
        "    print(\"No data to plot.\")"
      ],
      "metadata": {
        "execution": {
          "iopub.status.busy": "2024-08-17T17:26:17.155616Z",
          "iopub.execute_input": "2024-08-17T17:26:17.15592Z",
          "iopub.status.idle": "2024-08-17T17:26:17.357243Z",
          "shell.execute_reply.started": "2024-08-17T17:26:17.155895Z",
          "shell.execute_reply": "2024-08-17T17:26:17.356206Z"
        },
        "trusted": true,
        "id": "oRoQE8_OejH9",
        "outputId": "98df7d43-9cbe-4427-81e6-d71b775acd45",
        "colab": {
          "base_uri": "https://localhost:8080/",
          "height": 482
        }
      },
      "execution_count": 5,
      "outputs": [
        {
          "output_type": "display_data",
          "data": {
            "text/plain": [
              "<Figure size 500x500 with 1 Axes>"
            ],
            "image/png": "[encoded data removed]"
          },
          "metadata": {}
        }
      ]
    },
    {
      "cell_type": "code",
      "source": [
        "sns.kdeplot(data=traindata, x='satisfaction', color='blue')\n",
        "plt.xlabel('Satisfaction')\n",
        "plt.title('Satisfaction')\n",
        "plt.show()\n",
        "skewness = traindata['satisfaction'].skew()\n",
        "print(skewness)\n",
        "\n",
        "sns.kdeplot(data=traindata, x='id', color='blue')\n",
        "plt.xlabel('id')\n",
        "plt.title('id')\n",
        "plt.show()"
      ],
      "metadata": {
        "execution": {
          "iopub.status.busy": "2024-08-17T17:26:17.358737Z",
          "iopub.execute_input": "2024-08-17T17:26:17.359159Z",
          "iopub.status.idle": "2024-08-17T17:26:18.481287Z",
          "shell.execute_reply.started": "2024-08-17T17:26:17.35912Z",
          "shell.execute_reply": "2024-08-17T17:26:18.480002Z"
        },
        "trusted": true,
        "id": "3Qeg8lJrejH9",
        "outputId": "75eed63b-6185-422b-fc5d-50ac95ac7388",
        "colab": {
          "base_uri": "https://localhost:8080/",
          "height": 945
        }
      },
      "execution_count": 6,
      "outputs": [
        {
          "output_type": "display_data",
          "data": {
            "text/plain": [
              "<Figure size 640x480 with 1 Axes>"
            ],
            "image/png": "[encoded data removed]"
          },
          "metadata": {}
        },
        {
          "output_type": "stream",
          "name": "stdout",
          "text": [
            "0.2752479907599333\n"
          ]
        },
        {
          "output_type": "display_data",
          "data": {
            "text/plain": [
              "<Figure size 640x480 with 1 Axes>"
            ],
            "image/png": "[encoded data removed]"
          },
          "metadata": {}
        }
      ]
    },
    {
      "cell_type": "code",
      "source": [
        "def get_feats_and_labels(data, label):\n",
        "    data_feats = data.drop(label, axis=1)\n",
        "    data_label = data[label]\n",
        "    return data_feats, data_label\n",
        "\n",
        "train_feats, train_label = get_feats_and_labels(traindata, 'satisfaction')\n",
        "train_feats\n",
        "train_label"
      ],
      "metadata": {
        "execution": {
          "iopub.status.busy": "2024-08-17T17:26:18.482671Z",
          "iopub.execute_input": "2024-08-17T17:26:18.482994Z",
          "iopub.status.idle": "2024-08-17T17:26:18.500644Z",
          "shell.execute_reply.started": "2024-08-17T17:26:18.482968Z",
          "shell.execute_reply": "2024-08-17T17:26:18.49954Z"
        },
        "trusted": true,
        "id": "qeYTse8oejH-",
        "outputId": "0f2782a1-4e70-4c9b-d67b-820bafb3ce0e",
        "colab": {
          "base_uri": "https://localhost:8080/",
          "height": 458
        }
      },
      "execution_count": 7,
      "outputs": [
        {
          "output_type": "execute_result",
          "data": {
            "text/plain": [
              "17901     0\n",
              "49209     1\n",
              "32340     0\n",
              "50831     1\n",
              "10989     0\n",
              "         ..\n",
              "54886     0\n",
              "76820     0\n",
              "103694    0\n",
              "860       1\n",
              "15795     0\n",
              "Name: satisfaction, Length: 72732, dtype: int64"
            ],
            "text/html": [
              "<div>\n",
              "<style scoped>\n",
              "    .dataframe tbody tr th:only-of-type {\n",
              "        vertical-align: middle;\n",
              "    }\n",
              "\n",
              "    .dataframe tbody tr th {\n",
              "        vertical-align: top;\n",
              "    }\n",
              "\n",
              "    .dataframe thead th {\n",
              "        text-align: right;\n",
              "    }\n",
              "</style>\n",
              "<table border=\"1\" class=\"dataframe\">\n",
              "  <thead>\n",
              "    <tr style=\"text-align: right;\">\n",
              "      <th></th>\n",
              "      <th>satisfaction</th>\n",
              "    </tr>\n",
              "  </thead>\n",
              "  <tbody>\n",
              "    <tr>\n",
              "      <th>17901</th>\n",
              "      <td>0</td>\n",
              "    </tr>\n",
              "    <tr>\n",
              "      <th>49209</th>\n",
              "      <td>1</td>\n",
              "    </tr>\n",
              "    <tr>\n",
              "      <th>32340</th>\n",
              "      <td>0</td>\n",
              "    </tr>\n",
              "    <tr>\n",
              "      <th>50831</th>\n",
              "      <td>1</td>\n",
              "    </tr>\n",
              "    <tr>\n",
              "      <th>10989</th>\n",
              "      <td>0</td>\n",
              "    </tr>\n",
              "    <tr>\n",
              "      <th>...</th>\n",
              "      <td>...</td>\n",
              "    </tr>\n",
              "    <tr>\n",
              "      <th>54886</th>\n",
              "      <td>0</td>\n",
              "    </tr>\n",
              "    <tr>\n",
              "      <th>76820</th>\n",
              "      <td>0</td>\n",
              "    </tr>\n",
              "    <tr>\n",
              "      <th>103694</th>\n",
              "      <td>0</td>\n",
              "    </tr>\n",
              "    <tr>\n",
              "      <th>860</th>\n",
              "      <td>1</td>\n",
              "    </tr>\n",
              "    <tr>\n",
              "      <th>15795</th>\n",
              "      <td>0</td>\n",
              "    </tr>\n",
              "  </tbody>\n",
              "</table>\n",
              "<p>72732 rows × 1 columns</p>\n",
              "</div><br><label><b>dtype:</b> int64</label>"
            ]
          },
          "metadata": {},
          "execution_count": 7
        }
      ]
    },
    {
      "cell_type": "code",
      "source": [
        "traindata = traindata.drop(['Unnamed: 0', 'Gender' ,'id' , 'Age'], axis=1)\n",
        "traindata.head(5)"
      ],
      "metadata": {
        "execution": {
          "iopub.status.busy": "2024-08-17T17:26:18.50218Z",
          "iopub.execute_input": "2024-08-17T17:26:18.503407Z",
          "iopub.status.idle": "2024-08-17T17:26:18.536051Z",
          "shell.execute_reply.started": "2024-08-17T17:26:18.503363Z",
          "shell.execute_reply": "2024-08-17T17:26:18.534948Z"
        },
        "trusted": true,
        "id": "dT8mzRgYejIA",
        "outputId": "084a7329-9e0b-4a37-c796-39d9a638fd18",
        "colab": {
          "base_uri": "https://localhost:8080/",
          "height": 394
        }
      },
      "execution_count": 8,
      "outputs": [
        {
          "output_type": "execute_result",
          "data": {
            "text/plain": [
              "        Customer Type   Type of Travel     Class  Flight Distance  \\\n",
              "17901  Loyal Customer  Personal Travel       Eco             1235   \n",
              "49209  Loyal Customer  Business travel  Business              603   \n",
              "32340  Loyal Customer  Personal Travel       Eco             2586   \n",
              "50831  Loyal Customer  Business travel  Business             2422   \n",
              "10989  Loyal Customer  Personal Travel       Eco             1076   \n",
              "\n",
              "       Inflight wifi service  Departure/Arrival time convenient  \\\n",
              "17901                      1                                  4   \n",
              "49209                      5                                  5   \n",
              "32340                      2                                  2   \n",
              "50831                      2                                  2   \n",
              "10989                      2                                  4   \n",
              "\n",
              "       Ease of Online booking  Gate location  Food and drink  Online boarding  \\\n",
              "17901                       1              3               4                1   \n",
              "49209                       5              5               4                4   \n",
              "32340                       2              3               3                3   \n",
              "50831                       2              2               2                5   \n",
              "10989                       2              3               4                2   \n",
              "\n",
              "       ...  Inflight entertainment  On-board service  Leg room service  \\\n",
              "17901  ...                       4                 4                 4   \n",
              "49209  ...                       5                 5                 5   \n",
              "32340  ...                       1                 1                 2   \n",
              "50831  ...                       4                 4                 4   \n",
              "10989  ...                       4                 5                 3   \n",
              "\n",
              "       Baggage handling  Checkin service  Inflight service  Cleanliness  \\\n",
              "17901                 4                5                 5            4   \n",
              "49209                 5                5                 5            3   \n",
              "32340                 1                2                 1            3   \n",
              "50831                 4                4                 4            3   \n",
              "10989                 5                4                 4            4   \n",
              "\n",
              "       Departure Delay in Minutes  Arrival Delay in Minutes  satisfaction  \n",
              "17901                           0                      19.0             0  \n",
              "49209                          89                      86.0             1  \n",
              "32340                           0                       0.0             0  \n",
              "50831                           0                       0.0             1  \n",
              "10989                          18                      18.0             0  \n",
              "\n",
              "[5 rows x 21 columns]"
            ],
            "text/html": [
              "\n",
              "  <div id=\"df-29965242-1962-44ca-a33d-a63eb8f0a39a\" class=\"colab-df-container\">\n",
              "    <div>\n",
              "<style scoped>\n",
              "    .dataframe tbody tr th:only-of-type {\n",
              "        vertical-align: middle;\n",
              "    }\n",
              "\n",
              "    .dataframe tbody tr th {\n",
              "        vertical-align: top;\n",
              "    }\n",
              "\n",
              "    .dataframe thead th {\n",
              "        text-align: right;\n",
              "    }\n",
              "</style>\n",
              "<table border=\"1\" class=\"dataframe\">\n",
              "  <thead>\n",
              "    <tr style=\"text-align: right;\">\n",
              "      <th></th>\n",
              "      <th>Customer Type</th>\n",
              "      <th>Type of Travel</th>\n",
              "      <th>Class</th>\n",
              "      <th>Flight Distance</th>\n",
              "      <th>Inflight wifi service</th>\n",
              "      <th>Departure/Arrival time convenient</th>\n",
              "      <th>Ease of Online booking</th>\n",
              "      <th>Gate location</th>\n",
              "      <th>Food and drink</th>\n",
              "      <th>Online boarding</th>\n",
              "      <th>...</th>\n",
              "      <th>Inflight entertainment</th>\n",
              "      <th>On-board service</th>\n",
              "      <th>Leg room service</th>\n",
              "      <th>Baggage handling</th>\n",
              "      <th>Checkin service</th>\n",
              "      <th>Inflight service</th>\n",
              "      <th>Cleanliness</th>\n",
              "      <th>Departure Delay in Minutes</th>\n",
              "      <th>Arrival Delay in Minutes</th>\n",
              "      <th>satisfaction</th>\n",
              "    </tr>\n",
              "  </thead>\n",
              "  <tbody>\n",
              "    <tr>\n",
              "      <th>17901</th>\n",
              "      <td>Loyal Customer</td>\n",
              "      <td>Personal Travel</td>\n",
              "      <td>Eco</td>\n",
              "      <td>1235</td>\n",
              "      <td>1</td>\n",
              "      <td>4</td>\n",
              "      <td>1</td>\n",
              "      <td>3</td>\n",
              "      <td>4</td>\n",
              "      <td>1</td>\n",
              "      <td>...</td>\n",
              "      <td>4</td>\n",
              "      <td>4</td>\n",
              "      <td>4</td>\n",
              "      <td>4</td>\n",
              "      <td>5</td>\n",
              "      <td>5</td>\n",
              "      <td>4</td>\n",
              "      <td>0</td>\n",
              "      <td>19.0</td>\n",
              "      <td>0</td>\n",
              "    </tr>\n",
              "    <tr>\n",
              "      <th>49209</th>\n",
              "      <td>Loyal Customer</td>\n",
              "      <td>Business travel</td>\n",
              "      <td>Business</td>\n",
              "      <td>603</td>\n",
              "      <td>5</td>\n",
              "      <td>5</td>\n",
              "      <td>5</td>\n",
              "      <td>5</td>\n",
              "      <td>4</td>\n",
              "      <td>4</td>\n",
              "      <td>...</td>\n",
              "      <td>5</td>\n",
              "      <td>5</td>\n",
              "      <td>5</td>\n",
              "      <td>5</td>\n",
              "      <td>5</td>\n",
              "      <td>5</td>\n",
              "      <td>3</td>\n",
              "      <td>89</td>\n",
              "      <td>86.0</td>\n",
              "      <td>1</td>\n",
              "    </tr>\n",
              "    <tr>\n",
              "      <th>32340</th>\n",
              "      <td>Loyal Customer</td>\n",
              "      <td>Personal Travel</td>\n",
              "      <td>Eco</td>\n",
              "      <td>2586</td>\n",
              "      <td>2</td>\n",
              "      <td>2</td>\n",
              "      <td>2</td>\n",
              "      <td>3</td>\n",
              "      <td>3</td>\n",
              "      <td>3</td>\n",
              "      <td>...</td>\n",
              "      <td>1</td>\n",
              "      <td>1</td>\n",
              "      <td>2</td>\n",
              "      <td>1</td>\n",
              "      <td>2</td>\n",
              "      <td>1</td>\n",
              "      <td>3</td>\n",
              "      <td>0</td>\n",
              "      <td>0.0</td>\n",
              "      <td>0</td>\n",
              "    </tr>\n",
              "    <tr>\n",
              "      <th>50831</th>\n",
              "      <td>Loyal Customer</td>\n",
              "      <td>Business travel</td>\n",
              "      <td>Business</td>\n",
              "      <td>2422</td>\n",
              "      <td>2</td>\n",
              "      <td>2</td>\n",
              "      <td>2</td>\n",
              "      <td>2</td>\n",
              "      <td>2</td>\n",
              "      <td>5</td>\n",
              "      <td>...</td>\n",
              "      <td>4</td>\n",
              "      <td>4</td>\n",
              "      <td>4</td>\n",
              "      <td>4</td>\n",
              "      <td>4</td>\n",
              "      <td>4</td>\n",
              "      <td>3</td>\n",
              "      <td>0</td>\n",
              "      <td>0.0</td>\n",
              "      <td>1</td>\n",
              "    </tr>\n",
              "    <tr>\n",
              "      <th>10989</th>\n",
              "      <td>Loyal Customer</td>\n",
              "      <td>Personal Travel</td>\n",
              "      <td>Eco</td>\n",
              "      <td>1076</td>\n",
              "      <td>2</td>\n",
              "      <td>4</td>\n",
              "      <td>2</td>\n",
              "      <td>3</td>\n",
              "      <td>4</td>\n",
              "      <td>2</td>\n",
              "      <td>...</td>\n",
              "      <td>4</td>\n",
              "      <td>5</td>\n",
              "      <td>3</td>\n",
              "      <td>5</td>\n",
              "      <td>4</td>\n",
              "      <td>4</td>\n",
              "      <td>4</td>\n",
              "      <td>18</td>\n",
              "      <td>18.0</td>\n",
              "      <td>0</td>\n",
              "    </tr>\n",
              "  </tbody>\n",
              "</table>\n",
              "<p>5 rows × 21 columns</p>\n",
              "</div>\n",
              "    <div class=\"colab-df-buttons\">\n",
              "\n",
              "  <div class=\"colab-df-container\">\n",
              "    <button class=\"colab-df-convert\" onclick=\"convertToInteractive('df-29965242-1962-44ca-a33d-a63eb8f0a39a')\"\n",
              "            title=\"Convert this dataframe to an interactive table.\"\n",
              "            style=\"display:none;\">\n",
              "\n",
              "  <svg xmlns=\"http://www.w3.org/2000/svg\" height=\"24px\" viewBox=\"0 -960 960 960\">\n",
              "    <path d=\"M120-120v-720h720v720H120Zm60-500h600v-160H180v160Zm220 220h160v-160H400v160Zm0 220h160v-160H400v160ZM180-400h160v-160H180v160Zm440 0h160v-160H620v160ZM180-180h160v-160H180v160Zm440 0h160v-160H620v160Z\"/>\n",
              "  </svg>\n",
              "    </button>\n",
              "\n",
              "  <style>\n",
              "    .colab-df-container {\n",
              "      display:flex;\n",
              "      gap: 12px;\n",
              "    }\n",
              "\n",
              "    .colab-df-convert {\n",
              "      background-color: #E8F0FE;\n",
              "      border: none;\n",
              "      border-radius: 50%;\n",
              "      cursor: pointer;\n",
              "      display: none;\n",
              "      fill: #1967D2;\n",
              "      height: 32px;\n",
              "      padding: 0 0 0 0;\n",
              "      width: 32px;\n",
              "    }\n",
              "\n",
              "    .colab-df-convert:hover {\n",
              "      background-color: #E2EBFA;\n",
              "      box-shadow: 0px 1px 2px rgba(60, 64, 67, 0.3), 0px 1px 3px 1px rgba(60, 64, 67, 0.15);\n",
              "      fill: #174EA6;\n",
              "    }\n",
              "\n",
              "    .colab-df-buttons div {\n",
              "      margin-bottom: 4px;\n",
              "    }\n",
              "\n",
              "    [theme=dark] .colab-df-convert {\n",
              "      background-color: #3B4455;\n",
              "      fill: #D2E3FC;\n",
              "    }\n",
              "\n",
              "    [theme=dark] .colab-df-convert:hover {\n",
              "      background-color: #434B5C;\n",
              "      box-shadow: 0px 1px 3px 1px rgba(0, 0, 0, 0.15);\n",
              "      filter: drop-shadow(0px 1px 2px rgba(0, 0, 0, 0.3));\n",
              "      fill: #FFFFFF;\n",
              "    }\n",
              "  </style>\n",
              "\n",
              "    <script>\n",
              "      const buttonEl =\n",
              "        document.querySelector('#df-29965242-1962-44ca-a33d-a63eb8f0a39a button.colab-df-convert');\n",
              "      buttonEl.style.display =\n",
              "        google.colab.kernel.accessAllowed ? 'block' : 'none';\n",
              "\n",
              "      async function convertToInteractive(key) {\n",
              "        const element = document.querySelector('#df-29965242-1962-44ca-a33d-a63eb8f0a39a');\n",
              "        const dataTable =\n",
              "          await google.colab.kernel.invokeFunction('convertToInteractive',\n",
              "                                                    [key], {});\n",
              "        if (!dataTable) return;\n",
              "\n",
              "        const docLinkHtml = 'Like what you see? Visit the ' +\n",
              "          '<a target=\"_blank\" href=https://colab.research.google.com/notebooks/data_table.ipynb>data table notebook</a>'\n",
              "          + ' to learn more about interactive tables.';\n",
              "        element.innerHTML = '';\n",
              "        dataTable['output_type'] = 'display_data';\n",
              "        await google.colab.output.renderOutput(dataTable, element);\n",
              "        const docLink = document.createElement('div');\n",
              "        docLink.innerHTML = docLinkHtml;\n",
              "        element.appendChild(docLink);\n",
              "      }\n",
              "    </script>\n",
              "  </div>\n",
              "\n",
              "\n",
              "<div id=\"df-45f418ec-7049-45c6-8934-be5420d6fb0c\">\n",
              "  <button class=\"colab-df-quickchart\" onclick=\"quickchart('df-45f418ec-7049-45c6-8934-be5420d6fb0c')\"\n",
              "            title=\"Suggest charts\"\n",
              "            style=\"display:none;\">\n",
              "\n",
              "<svg xmlns=\"http://www.w3.org/2000/svg\" height=\"24px\"viewBox=\"0 0 24 24\"\n",
              "     width=\"24px\">\n",
              "    <g>\n",
              "        <path d=\"M19 3H5c-1.1 0-2 .9-2 2v14c0 1.1.9 2 2 2h14c1.1 0 2-.9 2-2V5c0-1.1-.9-2-2-2zM9 17H7v-7h2v7zm4 0h-2V7h2v10zm4 0h-2v-4h2v4z\"/>\n",
              "    </g>\n",
              "</svg>\n",
              "  </button>\n",
              "\n",
              "<style>\n",
              "  .colab-df-quickchart {\n",
              "      --bg-color: #E8F0FE;\n",
              "      --fill-color: #1967D2;\n",
              "      --hover-bg-color: #E2EBFA;\n",
              "      --hover-fill-color: #174EA6;\n",
              "      --disabled-fill-color: #AAA;\n",
              "      --disabled-bg-color: #DDD;\n",
              "  }\n",
              "\n",
              "  [theme=dark] .colab-df-quickchart {\n",
              "      --bg-color: #3B4455;\n",
              "      --fill-color: #D2E3FC;\n",
              "      --hover-bg-color: #434B5C;\n",
              "      --hover-fill-color: #FFFFFF;\n",
              "      --disabled-bg-color: #3B4455;\n",
              "      --disabled-fill-color: #666;\n",
              "  }\n",
              "\n",
              "  .colab-df-quickchart {\n",
              "    background-color: var(--bg-color);\n",
              "    border: none;\n",
              "    border-radius: 50%;\n",
              "    cursor: pointer;\n",
              "    display: none;\n",
              "    fill: var(--fill-color);\n",
              "    height: 32px;\n",
              "    padding: 0;\n",
              "    width: 32px;\n",
              "  }\n",
              "\n",
              "  .colab-df-quickchart:hover {\n",
              "    background-color: var(--hover-bg-color);\n",
              "    box-shadow: 0 1px 2px rgba(60, 64, 67, 0.3), 0 1px 3px 1px rgba(60, 64, 67, 0.15);\n",
              "    fill: var(--button-hover-fill-color);\n",
              "  }\n",
              "\n",
              "  .colab-df-quickchart-complete:disabled,\n",
              "  .colab-df-quickchart-complete:disabled:hover {\n",
              "    background-color: var(--disabled-bg-color);\n",
              "    fill: var(--disabled-fill-color);\n",
              "    box-shadow: none;\n",
              "  }\n",
              "\n",
              "  .colab-df-spinner {\n",
              "    border: 2px solid var(--fill-color);\n",
              "    border-color: transparent;\n",
              "    border-bottom-color: var(--fill-color);\n",
              "    animation:\n",
              "      spin 1s steps(1) infinite;\n",
              "  }\n",
              "\n",
              "  @keyframes spin {\n",
              "    0% {\n",
              "      border-color: transparent;\n",
              "      border-bottom-color: var(--fill-color);\n",
              "      border-left-color: var(--fill-color);\n",
              "    }\n",
              "    20% {\n",
              "      border-color: transparent;\n",
              "      border-left-color: var(--fill-color);\n",
              "      border-top-color: var(--fill-color);\n",
              "    }\n",
              "    30% {\n",
              "      border-color: transparent;\n",
              "      border-left-color: var(--fill-color);\n",
              "      border-top-color: var(--fill-color);\n",
              "      border-right-color: var(--fill-color);\n",
              "    }\n",
              "    40% {\n",
              "      border-color: transparent;\n",
              "      border-right-color: var(--fill-color);\n",
              "      border-top-color: var(--fill-color);\n",
              "    }\n",
              "    60% {\n",
              "      border-color: transparent;\n",
              "      border-right-color: var(--fill-color);\n",
              "    }\n",
              "    80% {\n",
              "      border-color: transparent;\n",
              "      border-right-color: var(--fill-color);\n",
              "      border-bottom-color: var(--fill-color);\n",
              "    }\n",
              "    90% {\n",
              "      border-color: transparent;\n",
              "      border-bottom-color: var(--fill-color);\n",
              "    }\n",
              "  }\n",
              "</style>\n",
              "\n",
              "  <script>\n",
              "    async function quickchart(key) {\n",
              "      const quickchartButtonEl =\n",
              "        document.querySelector('#' + key + ' button');\n",
              "      quickchartButtonEl.disabled = true;  // To prevent multiple clicks.\n",
              "      quickchartButtonEl.classList.add('colab-df-spinner');\n",
              "      try {\n",
              "        const charts = await google.colab.kernel.invokeFunction(\n",
              "            'suggestCharts', [key], {});\n",
              "      } catch (error) {\n",
              "        console.error('Error during call to suggestCharts:', error);\n",
              "      }\n",
              "      quickchartButtonEl.classList.remove('colab-df-spinner');\n",
              "      quickchartButtonEl.classList.add('colab-df-quickchart-complete');\n",
              "    }\n",
              "    (() => {\n",
              "      let quickchartButtonEl =\n",
              "        document.querySelector('#df-45f418ec-7049-45c6-8934-be5420d6fb0c button');\n",
              "      quickchartButtonEl.style.display =\n",
              "        google.colab.kernel.accessAllowed ? 'block' : 'none';\n",
              "    })();\n",
              "  </script>\n",
              "</div>\n",
              "\n",
              "    </div>\n",
              "  </div>\n"
            ],
            "application/vnd.google.colaboratory.intrinsic+json": {
              "type": "dataframe",
              "variable_name": "traindata"
            }
          },
          "metadata": {},
          "execution_count": 8
        }
      ]
    },
    {
      "cell_type": "code",
      "source": [
        "scaler = StandardScaler()\n",
        "encoder = OrdinalEncoder()\n",
        "\n",
        "\n",
        "# The column transformer requires lists of features\n",
        "num_feats = ['Age', 'Flight Distance', 'Inflight wifi service',\n",
        "             'Departure/Arrival time convenient', 'Ease of Online booking',\n",
        "             'Gate location', 'Food and drink', 'Online boarding',\n",
        "             'Seat comfort', 'Inflight entertainment', 'On-board service',\n",
        "             'Leg room service', 'Baggage handling', 'Checkin service',\n",
        "             'Inflight service', 'Cleanliness', 'Departure Delay in Minutes',\n",
        "             'Arrival Delay in Minutes']\n",
        "\n",
        "cat_feats = ['Gender', 'Customer Type', 'Type of Travel', 'Class']\n",
        "\n",
        "# define the pipeline to scale the numeric features and handle categorical features\n",
        "final_pipe = ColumnTransformer([\n",
        "   ('num',scaler , num_feats),\n",
        "   ('cat', encoder , cat_feats)\n",
        "\n",
        "])\n",
        "training_data_prepared = final_pipe.fit_transform(train_feats)\n",
        "print(training_data_prepared.shape)\n",
        "type(training_data_prepared)\n"
      ],
      "metadata": {
        "execution": {
          "iopub.status.busy": "2024-08-17T17:26:18.537349Z",
          "iopub.execute_input": "2024-08-17T17:26:18.537714Z",
          "iopub.status.idle": "2024-08-17T17:26:18.688964Z",
          "shell.execute_reply.started": "2024-08-17T17:26:18.537683Z",
          "shell.execute_reply": "2024-08-17T17:26:18.686322Z"
        },
        "trusted": true,
        "id": "n0dQYV-JejIA",
        "outputId": "0b14dcb3-ec0a-424a-8ca4-fe5b326eca0a",
        "colab": {
          "base_uri": "https://localhost:8080/"
        }
      },
      "execution_count": 9,
      "outputs": [
        {
          "output_type": "stream",
          "name": "stdout",
          "text": [
            "(72732, 22)\n"
          ]
        },
        {
          "output_type": "execute_result",
          "data": {
            "text/plain": [
              "numpy.ndarray"
            ]
          },
          "metadata": {},
          "execution_count": 9
        }
      ]
    },
    {
      "cell_type": "code",
      "source": [
        "test_feats, test_label = get_feats_and_labels(testdata, 'satisfaction')\n",
        "test_feats\n",
        "test_label"
      ],
      "metadata": {
        "execution": {
          "iopub.status.busy": "2024-08-17T17:26:18.694064Z",
          "iopub.execute_input": "2024-08-17T17:26:18.694407Z",
          "iopub.status.idle": "2024-08-17T17:26:18.710363Z",
          "shell.execute_reply.started": "2024-08-17T17:26:18.694379Z",
          "shell.execute_reply": "2024-08-17T17:26:18.709106Z"
        },
        "trusted": true,
        "id": "4Y5aj29bejIB",
        "outputId": "9913fc27-b9db-483d-fcb1-f14bc04c8aa1",
        "colab": {
          "base_uri": "https://localhost:8080/",
          "height": 458
        }
      },
      "execution_count": 10,
      "outputs": [
        {
          "output_type": "execute_result",
          "data": {
            "text/plain": [
              "80638    0\n",
              "43398    0\n",
              "32751    0\n",
              "33571    0\n",
              "71287    0\n",
              "        ..\n",
              "5007     1\n",
              "4869     1\n",
              "93969    0\n",
              "78320    1\n",
              "24931    1\n",
              "Name: satisfaction, Length: 31172, dtype: int64"
            ],
            "text/html": [
              "<div>\n",
              "<style scoped>\n",
              "    .dataframe tbody tr th:only-of-type {\n",
              "        vertical-align: middle;\n",
              "    }\n",
              "\n",
              "    .dataframe tbody tr th {\n",
              "        vertical-align: top;\n",
              "    }\n",
              "\n",
              "    .dataframe thead th {\n",
              "        text-align: right;\n",
              "    }\n",
              "</style>\n",
              "<table border=\"1\" class=\"dataframe\">\n",
              "  <thead>\n",
              "    <tr style=\"text-align: right;\">\n",
              "      <th></th>\n",
              "      <th>satisfaction</th>\n",
              "    </tr>\n",
              "  </thead>\n",
              "  <tbody>\n",
              "    <tr>\n",
              "      <th>80638</th>\n",
              "      <td>0</td>\n",
              "    </tr>\n",
              "    <tr>\n",
              "      <th>43398</th>\n",
              "      <td>0</td>\n",
              "    </tr>\n",
              "    <tr>\n",
              "      <th>32751</th>\n",
              "      <td>0</td>\n",
              "    </tr>\n",
              "    <tr>\n",
              "      <th>33571</th>\n",
              "      <td>0</td>\n",
              "    </tr>\n",
              "    <tr>\n",
              "      <th>71287</th>\n",
              "      <td>0</td>\n",
              "    </tr>\n",
              "    <tr>\n",
              "      <th>...</th>\n",
              "      <td>...</td>\n",
              "    </tr>\n",
              "    <tr>\n",
              "      <th>5007</th>\n",
              "      <td>1</td>\n",
              "    </tr>\n",
              "    <tr>\n",
              "      <th>4869</th>\n",
              "      <td>1</td>\n",
              "    </tr>\n",
              "    <tr>\n",
              "      <th>93969</th>\n",
              "      <td>0</td>\n",
              "    </tr>\n",
              "    <tr>\n",
              "      <th>78320</th>\n",
              "      <td>1</td>\n",
              "    </tr>\n",
              "    <tr>\n",
              "      <th>24931</th>\n",
              "      <td>1</td>\n",
              "    </tr>\n",
              "  </tbody>\n",
              "</table>\n",
              "<p>31172 rows × 1 columns</p>\n",
              "</div><br><label><b>dtype:</b> int64</label>"
            ]
          },
          "metadata": {},
          "execution_count": 10
        }
      ]
    },
    {
      "cell_type": "code",
      "source": [
        "test_data_prepared = final_pipe.transform(test_feats)\n",
        "test_data_prepared"
      ],
      "metadata": {
        "execution": {
          "iopub.status.busy": "2024-08-17T17:26:18.711936Z",
          "iopub.execute_input": "2024-08-17T17:26:18.712719Z",
          "iopub.status.idle": "2024-08-17T17:26:18.776951Z",
          "shell.execute_reply.started": "2024-08-17T17:26:18.712668Z",
          "shell.execute_reply": "2024-08-17T17:26:18.775993Z"
        },
        "trusted": true,
        "id": "eHFrhJx9ejIB",
        "outputId": "a8eff808-9c43-41de-e6ac-e891d748b8a7",
        "colab": {
          "base_uri": "https://localhost:8080/"
        }
      },
      "execution_count": 11,
      "outputs": [
        {
          "output_type": "execute_result",
          "data": {
            "text/plain": [
              "array([[-0.88159849, -0.32922833, -0.54805418, ...,  0.        ,\n",
              "         1.        ,  1.        ],\n",
              "       [-1.14623221, -0.79855231,  0.20549183, ...,  0.        ,\n",
              "         0.        ,  0.        ],\n",
              "       [ 1.30162976, -0.99610963, -1.3016002 , ...,  0.        ,\n",
              "         1.        ,  1.        ],\n",
              "       ...,\n",
              "       [ 1.10315446, -0.01734851, -0.54805418, ...,  0.        ,\n",
              "         1.        ,  1.        ],\n",
              "       [-0.68312319,  1.63330806,  0.20549183, ...,  0.        ,\n",
              "         0.        ,  0.        ],\n",
              "       [-1.01391535, -0.70729487,  1.71258385, ...,  1.        ,\n",
              "         0.        ,  1.        ]])"
            ]
          },
          "metadata": {},
          "execution_count": 11
        }
      ]
    },
    {
      "cell_type": "code",
      "source": [
        "# train_label = train_label.to_numpy()\n",
        "# test_label = test_label.to_numpy()\n",
        "# Check if train_label is already a numpy array\n",
        "if isinstance(train_label, np.ndarray):\n",
        "    # No need to convert, just assign\n",
        "    train_label = train_label\n",
        "else:\n",
        "    # Convert to numpy array if it's a DataFrame or Series\n",
        "    train_label = train_label.to_numpy()\n",
        "\n",
        "# Repeat for test_label\n",
        "if isinstance(test_label, np.ndarray):\n",
        "    test_label = test_label\n",
        "else:\n",
        "    test_label = test_label.to_numpy()\n",
        "\n",
        "\n",
        "train_label\n",
        "test_label"
      ],
      "metadata": {
        "execution": {
          "iopub.status.busy": "2024-08-17T17:26:18.778156Z",
          "iopub.execute_input": "2024-08-17T17:26:18.778528Z",
          "iopub.status.idle": "2024-08-17T17:26:18.78712Z",
          "shell.execute_reply.started": "2024-08-17T17:26:18.778495Z",
          "shell.execute_reply": "2024-08-17T17:26:18.785971Z"
        },
        "trusted": true,
        "id": "p8FdowXwejIC",
        "outputId": "d70563ff-629c-44cc-de92-5565616ef96e",
        "colab": {
          "base_uri": "https://localhost:8080/"
        }
      },
      "execution_count": 12,
      "outputs": [
        {
          "output_type": "execute_result",
          "data": {
            "text/plain": [
              "array([0, 0, 0, ..., 0, 1, 1])"
            ]
          },
          "metadata": {},
          "execution_count": 12
        }
      ]
    },
    {
      "cell_type": "code",
      "source": [
        "input_shape = training_data_prepared.shape[1:]\n",
        "input_shape"
      ],
      "metadata": {
        "execution": {
          "iopub.status.busy": "2024-08-17T17:26:18.788829Z",
          "iopub.execute_input": "2024-08-17T17:26:18.789162Z",
          "iopub.status.idle": "2024-08-17T17:26:18.799787Z",
          "shell.execute_reply.started": "2024-08-17T17:26:18.789133Z",
          "shell.execute_reply": "2024-08-17T17:26:18.798572Z"
        },
        "trusted": true,
        "id": "J4J0VA5iejIC",
        "outputId": "af83fd3d-1114-4fa3-9eb8-5ef0db6ab995",
        "colab": {
          "base_uri": "https://localhost:8080/"
        }
      },
      "execution_count": 13,
      "outputs": [
        {
          "output_type": "execute_result",
          "data": {
            "text/plain": [
              "(22,)"
            ]
          },
          "metadata": {},
          "execution_count": 13
        }
      ]
    },
    {
      "cell_type": "code",
      "source": [
        "model = keras.models.Sequential([\n",
        "\n",
        "            # The first layers must specify the input shape always\n",
        "            keras.layers.Dense(24, activation='relu', input_shape=input_shape),\n",
        "            keras.layers.Dense(48, activation='relu'),\n",
        "            keras.layers.Dense(96, activation='relu'),\n",
        "            keras.layers.Dense(192, activation='relu'),\n",
        "            # The last layer usually doesn't have activation function in regression\n",
        "            keras.layers.Dense(1)\n",
        "\n",
        "])\n",
        "\n",
        "# Now we compile the model\n",
        "model.compile(loss='mean_squared_error', optimizer='adam')\n",
        "model.summary()"
      ],
      "metadata": {
        "execution": {
          "iopub.status.busy": "2024-08-17T17:26:18.801368Z",
          "iopub.execute_input": "2024-08-17T17:26:18.801774Z",
          "iopub.status.idle": "2024-08-17T17:26:18.95972Z",
          "shell.execute_reply.started": "2024-08-17T17:26:18.801742Z",
          "shell.execute_reply": "2024-08-17T17:26:18.958659Z"
        },
        "trusted": true,
        "id": "V3hfTIDxejIC",
        "outputId": "7bcb8822-cbd7-4879-9194-d453825d63ca",
        "colab": {
          "base_uri": "https://localhost:8080/",
          "height": 376
        }
      },
      "execution_count": 14,
      "outputs": [
        {
          "output_type": "stream",
          "name": "stderr",
          "text": [
            "/usr/local/lib/python3.10/dist-packages/keras/src/layers/core/dense.py:87: UserWarning: Do not pass an `input_shape`/`input_dim` argument to a layer. When using Sequential models, prefer using an `Input(shape)` object as the first layer in the model instead.\n",
            "  super().__init__(activity_regularizer=activity_regularizer, **kwargs)\n"
          ]
        },
        {
          "output_type": "display_data",
          "data": {
            "text/plain": [
              "\u001b[1mModel: \"sequential\"\u001b[0m\n"
            ],
            "text/html": [
              "<pre style=\"white-space:pre;overflow-x:auto;line-height:normal;font-family:Menlo,'DejaVu Sans Mono',consolas,'Courier New',monospace\"><span style=\"font-weight: bold\">Model: \"sequential\"</span>\n",
              "</pre>\n"
            ]
          },
          "metadata": {}
        },
        {
          "output_type": "display_data",
          "data": {
            "text/plain": [
              "┏━━━━━━━━━━━━━━━━━━━━━━━━━━━━━━━━━━━━━━┳━━━━━━━━━━━━━━━━━━━━━━━━━━━━━┳━━━━━━━━━━━━━━━━━┓\n",
              "┃\u001b[1m \u001b[0m\u001b[1mLayer (type)                        \u001b[0m\u001b[1m \u001b[0m┃\u001b[1m \u001b[0m\u001b[1mOutput Shape               \u001b[0m\u001b[1m \u001b[0m┃\u001b[1m \u001b[0m\u001b[1m        Param #\u001b[0m\u001b[1m \u001b[0m┃\n",
              "┡━━━━━━━━━━━━━━━━━━━━━━━━━━━━━━━━━━━━━━╇━━━━━━━━━━━━━━━━━━━━━━━━━━━━━╇━━━━━━━━━━━━━━━━━┩\n",
              "│ dense (\u001b[38;5;33mDense\u001b[0m)                        │ (\u001b[38;5;45mNone\u001b[0m, \u001b[38;5;34m24\u001b[0m)                  │             \u001b[38;5;34m552\u001b[0m │\n",
              "├──────────────────────────────────────┼─────────────────────────────┼─────────────────┤\n",
              "│ dense_1 (\u001b[38;5;33mDense\u001b[0m)                      │ (\u001b[38;5;45mNone\u001b[0m, \u001b[38;5;34m48\u001b[0m)                  │           \u001b[38;5;34m1,200\u001b[0m │\n",
              "├──────────────────────────────────────┼─────────────────────────────┼─────────────────┤\n",
              "│ dense_2 (\u001b[38;5;33mDense\u001b[0m)                      │ (\u001b[38;5;45mNone\u001b[0m, \u001b[38;5;34m96\u001b[0m)                  │           \u001b[38;5;34m4,704\u001b[0m │\n",
              "├──────────────────────────────────────┼─────────────────────────────┼─────────────────┤\n",
              "│ dense_3 (\u001b[38;5;33mDense\u001b[0m)                      │ (\u001b[38;5;45mNone\u001b[0m, \u001b[38;5;34m192\u001b[0m)                 │          \u001b[38;5;34m18,624\u001b[0m │\n",
              "├──────────────────────────────────────┼─────────────────────────────┼─────────────────┤\n",
              "│ dense_4 (\u001b[38;5;33mDense\u001b[0m)                      │ (\u001b[38;5;45mNone\u001b[0m, \u001b[38;5;34m1\u001b[0m)                   │             \u001b[38;5;34m193\u001b[0m │\n",
              "└──────────────────────────────────────┴─────────────────────────────┴─────────────────┘\n"
            ],
            "text/html": [
              "<pre style=\"white-space:pre;overflow-x:auto;line-height:normal;font-family:Menlo,'DejaVu Sans Mono',consolas,'Courier New',monospace\">┏━━━━━━━━━━━━━━━━━━━━━━━━━━━━━━━━━━━━━━┳━━━━━━━━━━━━━━━━━━━━━━━━━━━━━┳━━━━━━━━━━━━━━━━━┓\n",
              "┃<span style=\"font-weight: bold\"> Layer (type)                         </span>┃<span style=\"font-weight: bold\"> Output Shape                </span>┃<span style=\"font-weight: bold\">         Param # </span>┃\n",
              "┡━━━━━━━━━━━━━━━━━━━━━━━━━━━━━━━━━━━━━━╇━━━━━━━━━━━━━━━━━━━━━━━━━━━━━╇━━━━━━━━━━━━━━━━━┩\n",
              "│ dense (<span style=\"color: #0087ff; text-decoration-color: #0087ff\">Dense</span>)                        │ (<span style=\"color: #00d7ff; text-decoration-color: #00d7ff\">None</span>, <span style=\"color: #00af00; text-decoration-color: #00af00\">24</span>)                  │             <span style=\"color: #00af00; text-decoration-color: #00af00\">552</span> │\n",
              "├──────────────────────────────────────┼─────────────────────────────┼─────────────────┤\n",
              "│ dense_1 (<span style=\"color: #0087ff; text-decoration-color: #0087ff\">Dense</span>)                      │ (<span style=\"color: #00d7ff; text-decoration-color: #00d7ff\">None</span>, <span style=\"color: #00af00; text-decoration-color: #00af00\">48</span>)                  │           <span style=\"color: #00af00; text-decoration-color: #00af00\">1,200</span> │\n",
              "├──────────────────────────────────────┼─────────────────────────────┼─────────────────┤\n",
              "│ dense_2 (<span style=\"color: #0087ff; text-decoration-color: #0087ff\">Dense</span>)                      │ (<span style=\"color: #00d7ff; text-decoration-color: #00d7ff\">None</span>, <span style=\"color: #00af00; text-decoration-color: #00af00\">96</span>)                  │           <span style=\"color: #00af00; text-decoration-color: #00af00\">4,704</span> │\n",
              "├──────────────────────────────────────┼─────────────────────────────┼─────────────────┤\n",
              "│ dense_3 (<span style=\"color: #0087ff; text-decoration-color: #0087ff\">Dense</span>)                      │ (<span style=\"color: #00d7ff; text-decoration-color: #00d7ff\">None</span>, <span style=\"color: #00af00; text-decoration-color: #00af00\">192</span>)                 │          <span style=\"color: #00af00; text-decoration-color: #00af00\">18,624</span> │\n",
              "├──────────────────────────────────────┼─────────────────────────────┼─────────────────┤\n",
              "│ dense_4 (<span style=\"color: #0087ff; text-decoration-color: #0087ff\">Dense</span>)                      │ (<span style=\"color: #00d7ff; text-decoration-color: #00d7ff\">None</span>, <span style=\"color: #00af00; text-decoration-color: #00af00\">1</span>)                   │             <span style=\"color: #00af00; text-decoration-color: #00af00\">193</span> │\n",
              "└──────────────────────────────────────┴─────────────────────────────┴─────────────────┘\n",
              "</pre>\n"
            ]
          },
          "metadata": {}
        },
        {
          "output_type": "display_data",
          "data": {
            "text/plain": [
              "\u001b[1m Total params: \u001b[0m\u001b[38;5;34m25,273\u001b[0m (98.72 KB)\n"
            ],
            "text/html": [
              "<pre style=\"white-space:pre;overflow-x:auto;line-height:normal;font-family:Menlo,'DejaVu Sans Mono',consolas,'Courier New',monospace\"><span style=\"font-weight: bold\"> Total params: </span><span style=\"color: #00af00; text-decoration-color: #00af00\">25,273</span> (98.72 KB)\n",
              "</pre>\n"
            ]
          },
          "metadata": {}
        },
        {
          "output_type": "display_data",
          "data": {
            "text/plain": [
              "\u001b[1m Trainable params: \u001b[0m\u001b[38;5;34m25,273\u001b[0m (98.72 KB)\n"
            ],
            "text/html": [
              "<pre style=\"white-space:pre;overflow-x:auto;line-height:normal;font-family:Menlo,'DejaVu Sans Mono',consolas,'Courier New',monospace\"><span style=\"font-weight: bold\"> Trainable params: </span><span style=\"color: #00af00; text-decoration-color: #00af00\">25,273</span> (98.72 KB)\n",
              "</pre>\n"
            ]
          },
          "metadata": {}
        },
        {
          "output_type": "display_data",
          "data": {
            "text/plain": [
              "\u001b[1m Non-trainable params: \u001b[0m\u001b[38;5;34m0\u001b[0m (0.00 B)\n"
            ],
            "text/html": [
              "<pre style=\"white-space:pre;overflow-x:auto;line-height:normal;font-family:Menlo,'DejaVu Sans Mono',consolas,'Courier New',monospace\"><span style=\"font-weight: bold\"> Non-trainable params: </span><span style=\"color: #00af00; text-decoration-color: #00af00\">0</span> (0.00 B)\n",
              "</pre>\n"
            ]
          },
          "metadata": {}
        }
      ]
    },
    {
      "cell_type": "code",
      "source": [
        "from tensorflow.keras.utils import plot_model\n",
        "plot_model(model, to_file='model.png')"
      ],
      "metadata": {
        "execution": {
          "iopub.status.busy": "2024-08-17T17:26:18.96093Z",
          "iopub.execute_input": "2024-08-17T17:26:18.96126Z",
          "iopub.status.idle": "2024-08-17T17:26:19.276163Z",
          "shell.execute_reply.started": "2024-08-17T17:26:18.961232Z",
          "shell.execute_reply": "2024-08-17T17:26:19.275038Z"
        },
        "trusted": true,
        "id": "Ati2xNIFejIC",
        "outputId": "55cd1f7a-5f31-4107-e9be-76ac442c455c",
        "colab": {
          "base_uri": "https://localhost:8080/",
          "height": 1000
        }
      },
      "execution_count": 15,
      "outputs": [
        {
          "output_type": "execute_result",
          "data": {
            "image/png": "[encoded data removed]",
            "text/plain": [
              "<IPython.core.display.Image object>"
            ]
          },
          "metadata": {},
          "execution_count": 15
        }
      ]
    },
    {
      "cell_type": "code",
      "source": [
        "import numpy as np\n",
        "\n",
        "# Convert labels to float64\n",
        "train_label = train_label.astype('float64')\n",
        "test_label = test_label.astype('float64')\n",
        "\n",
        "# Print data types to confirm\n",
        "print(\"training_data_prepared dtype:\", training_data_prepared.dtype)\n",
        "print(\"train_label dtype:\", train_label.dtype)\n",
        "print(\"test_data_prepared dtype:\", test_data_prepared.dtype)\n",
        "print(\"test_label dtype:\", test_label.dtype)\n",
        "\n",
        "# Handle NaN values in numpy arrays\n",
        "if np.isnan(training_data_prepared).any():\n",
        "    print(\"Data contains NaN values in training_data_prepared. Cleaning the data...\")\n",
        "    training_data_prepared = np.where(np.isnan(training_data_prepared),\n",
        "                                      np.nanmean(training_data_prepared, axis=0),\n",
        "                                      training_data_prepared)\n",
        "\n",
        "if np.isnan(test_data_prepared).any():\n",
        "    print(\"Data contains NaN values in test_data_prepared. Cleaning the data...\")\n",
        "    test_data_prepared = np.where(np.isnan(test_data_prepared),\n",
        "                                  np.nanmean(test_data_prepared, axis=0),\n",
        "                                  test_data_prepared)\n",
        "\n",
        "# Verify that the NaN values are handled\n",
        "if np.isnan(training_data_prepared).any():\n",
        "    print(\"NaN values still exist in training data.\")\n",
        "else:\n",
        "    print(\"Training data is clean.\")\n",
        "\n",
        "if np.isnan(test_data_prepared).any():\n",
        "    print(\"NaN values still exist in test data.\")\n",
        "else:\n",
        "    print(\"Test data is clean.\")"
      ],
      "metadata": {
        "execution": {
          "iopub.status.busy": "2024-08-17T17:26:19.27751Z",
          "iopub.execute_input": "2024-08-17T17:26:19.277839Z",
          "iopub.status.idle": "2024-08-17T17:26:19.319697Z",
          "shell.execute_reply.started": "2024-08-17T17:26:19.277813Z",
          "shell.execute_reply": "2024-08-17T17:26:19.318448Z"
        },
        "trusted": true,
        "id": "eZ7IiLXeejID",
        "outputId": "20999100-cc6a-457d-d9f2-c7f21f64abd6",
        "colab": {
          "base_uri": "https://localhost:8080/"
        }
      },
      "execution_count": 16,
      "outputs": [
        {
          "output_type": "stream",
          "name": "stdout",
          "text": [
            "training_data_prepared dtype: float64\n",
            "train_label dtype: float64\n",
            "test_data_prepared dtype: float64\n",
            "test_label dtype: float64\n",
            "Data contains NaN values in training_data_prepared. Cleaning the data...\n",
            "Data contains NaN values in test_data_prepared. Cleaning the data...\n",
            "Training data is clean.\n",
            "Test data is clean.\n"
          ]
        }
      ]
    },
    {
      "cell_type": "code",
      "source": [
        "# Fit the model again\n",
        "history = model.fit(training_data_prepared, train_label,\n",
        "                    validation_data=(test_data_prepared, test_label),\n",
        "                    epochs=150)"
      ],
      "metadata": {
        "execution": {
          "iopub.status.busy": "2024-08-17T17:26:19.32159Z",
          "iopub.execute_input": "2024-08-17T17:26:19.322034Z",
          "iopub.status.idle": "2024-08-17T17:33:31.756019Z",
          "shell.execute_reply.started": "2024-08-17T17:26:19.321998Z",
          "shell.execute_reply": "2024-08-17T17:33:31.754909Z"
        },
        "trusted": true,
        "id": "HvtB1kZeejID",
        "outputId": "d1648171-a41d-4a51-a440-520840092307",
        "colab": {
          "base_uri": "https://localhost:8080/"
        }
      },
      "execution_count": 17,
      "outputs": [
        {
          "output_type": "stream",
          "name": "stdout",
          "text": [
            "Epoch 1/100\n",
            "\u001b[1m2273/2273\u001b[0m \u001b[32m━━━━━━━━━━━━━━━━━━━━\u001b[0m\u001b[37m\u001b[0m \u001b[1m17s\u001b[0m 5ms/step - loss: 0.0935 - val_loss: 0.0469\n",
            "Epoch 2/100\n",
            "\u001b[1m2273/2273\u001b[0m \u001b[32m━━━━━━━━━━━━━━━━━━━━\u001b[0m\u001b[37m\u001b[0m \u001b[1m17s\u001b[0m 3ms/step - loss: 0.0430 - val_loss: 0.0377\n",
            "Epoch 3/100\n",
            "\u001b[1m2273/2273\u001b[0m \u001b[32m━━━━━━━━━━━━━━━━━━━━\u001b[0m\u001b[37m\u001b[0m \u001b[1m6s\u001b[0m 3ms/step - loss: 0.0366 - val_loss: 0.0355\n",
            "Epoch 4/100\n",
            "\u001b[1m2273/2273\u001b[0m \u001b[32m━━━━━━━━━━━━━━━━━━━━\u001b[0m\u001b[37m\u001b[0m \u001b[1m10s\u001b[0m 3ms/step - loss: 0.0332 - val_loss: 0.0350\n",
            "Epoch 5/100\n",
            "\u001b[1m2273/2273\u001b[0m \u001b[32m━━━━━━━━━━━━━━━━━━━━\u001b[0m\u001b[37m\u001b[0m \u001b[1m8s\u001b[0m 4ms/step - loss: 0.0310 - val_loss: 0.0327\n",
            "Epoch 6/100\n",
            "\u001b[1m2273/2273\u001b[0m \u001b[32m━━━━━━━━━━━━━━━━━━━━\u001b[0m\u001b[37m\u001b[0m \u001b[1m6s\u001b[0m 3ms/step - loss: 0.0303 - val_loss: 0.0323\n",
            "Epoch 7/100\n",
            "\u001b[1m2273/2273\u001b[0m \u001b[32m━━━━━━━━━━━━━━━━━━━━\u001b[0m\u001b[37m\u001b[0m \u001b[1m11s\u001b[0m 3ms/step - loss: 0.0295 - val_loss: 0.0326\n",
            "Epoch 8/100\n",
            "\u001b[1m2273/2273\u001b[0m \u001b[32m━━━━━━━━━━━━━━━━━━━━\u001b[0m\u001b[37m\u001b[0m \u001b[1m11s\u001b[0m 3ms/step - loss: 0.0294 - val_loss: 0.0313\n",
            "Epoch 9/100\n",
            "\u001b[1m2273/2273\u001b[0m \u001b[32m━━━━━━━━━━━━━━━━━━━━\u001b[0m\u001b[37m\u001b[0m \u001b[1m17s\u001b[0m 8ms/step - loss: 0.0283 - val_loss: 0.0314\n",
            "Epoch 10/100\n",
            "\u001b[1m2273/2273\u001b[0m \u001b[32m━━━━━━━━━━━━━━━━━━━━\u001b[0m\u001b[37m\u001b[0m \u001b[1m15s\u001b[0m 5ms/step - loss: 0.0279 - val_loss: 0.0307\n",
            "Epoch 11/100\n",
            "\u001b[1m2273/2273\u001b[0m \u001b[32m━━━━━━━━━━━━━━━━━━━━\u001b[0m\u001b[37m\u001b[0m \u001b[1m15s\u001b[0m 3ms/step - loss: 0.0278 - val_loss: 0.0307\n",
            "Epoch 12/100\n",
            "\u001b[1m2273/2273\u001b[0m \u001b[32m━━━━━━━━━━━━━━━━━━━━\u001b[0m\u001b[37m\u001b[0m \u001b[1m12s\u001b[0m 4ms/step - loss: 0.0273 - val_loss: 0.0317\n",
            "Epoch 13/100\n",
            "\u001b[1m2273/2273\u001b[0m \u001b[32m━━━━━━━━━━━━━━━━━━━━\u001b[0m\u001b[37m\u001b[0m \u001b[1m8s\u001b[0m 4ms/step - loss: 0.0267 - val_loss: 0.0316\n",
            "Epoch 14/100\n",
            "\u001b[1m2273/2273\u001b[0m \u001b[32m━━━━━━━━━━━━━━━━━━━━\u001b[0m\u001b[37m\u001b[0m \u001b[1m8s\u001b[0m 3ms/step - loss: 0.0270 - val_loss: 0.0316\n",
            "Epoch 15/100\n",
            "\u001b[1m2273/2273\u001b[0m \u001b[32m━━━━━━━━━━━━━━━━━━━━\u001b[0m\u001b[37m\u001b[0m \u001b[1m10s\u001b[0m 3ms/step - loss: 0.0260 - val_loss: 0.0299\n",
            "Epoch 16/100\n",
            "\u001b[1m2273/2273\u001b[0m \u001b[32m━━━━━━━━━━━━━━━━━━━━\u001b[0m\u001b[37m\u001b[0m \u001b[1m11s\u001b[0m 3ms/step - loss: 0.0255 - val_loss: 0.0307\n",
            "Epoch 17/100\n",
            "\u001b[1m2273/2273\u001b[0m \u001b[32m━━━━━━━━━━━━━━━━━━━━\u001b[0m\u001b[37m\u001b[0m \u001b[1m10s\u001b[0m 5ms/step - loss: 0.0262 - val_loss: 0.0307\n",
            "Epoch 18/100\n",
            "\u001b[1m2273/2273\u001b[0m \u001b[32m━━━━━━━━━━━━━━━━━━━━\u001b[0m\u001b[37m\u001b[0m \u001b[1m18s\u001b[0m 3ms/step - loss: 0.0255 - val_loss: 0.0309\n",
            "Epoch 19/100\n",
            "\u001b[1m2273/2273\u001b[0m \u001b[32m━━━━━━━━━━━━━━━━━━━━\u001b[0m\u001b[37m\u001b[0m \u001b[1m10s\u001b[0m 3ms/step - loss: 0.0254 - val_loss: 0.0305\n",
            "Epoch 20/100\n",
            "\u001b[1m2273/2273\u001b[0m \u001b[32m━━━━━━━━━━━━━━━━━━━━\u001b[0m\u001b[37m\u001b[0m \u001b[1m6s\u001b[0m 3ms/step - loss: 0.0246 - val_loss: 0.0303\n",
            "Epoch 21/100\n",
            "\u001b[1m2273/2273\u001b[0m \u001b[32m━━━━━━━━━━━━━━━━━━━━\u001b[0m\u001b[37m\u001b[0m \u001b[1m11s\u001b[0m 3ms/step - loss: 0.0247 - val_loss: 0.0307\n",
            "Epoch 22/100\n",
            "\u001b[1m2273/2273\u001b[0m \u001b[32m━━━━━━━━━━━━━━━━━━━━\u001b[0m\u001b[37m\u001b[0m \u001b[1m11s\u001b[0m 3ms/step - loss: 0.0247 - val_loss: 0.0307\n",
            "Epoch 23/100\n",
            "\u001b[1m2273/2273\u001b[0m \u001b[32m━━━━━━━━━━━━━━━━━━━━\u001b[0m\u001b[37m\u001b[0m \u001b[1m7s\u001b[0m 3ms/step - loss: 0.0242 - val_loss: 0.0304\n",
            "Epoch 24/100\n",
            "\u001b[1m2273/2273\u001b[0m \u001b[32m━━━━━━━━━━━━━━━━━━━━\u001b[0m\u001b[37m\u001b[0m \u001b[1m8s\u001b[0m 4ms/step - loss: 0.0244 - val_loss: 0.0310\n",
            "Epoch 25/100\n",
            "\u001b[1m2273/2273\u001b[0m \u001b[32m━━━━━━━━━━━━━━━━━━━━\u001b[0m\u001b[37m\u001b[0m \u001b[1m11s\u001b[0m 4ms/step - loss: 0.0239 - val_loss: 0.0307\n",
            "Epoch 26/100\n",
            "\u001b[1m2273/2273\u001b[0m \u001b[32m━━━━━━━━━━━━━━━━━━━━\u001b[0m\u001b[37m\u001b[0m \u001b[1m6s\u001b[0m 3ms/step - loss: 0.0236 - val_loss: 0.0303\n",
            "Epoch 27/100\n",
            "\u001b[1m2273/2273\u001b[0m \u001b[32m━━━━━━━━━━━━━━━━━━━━\u001b[0m\u001b[37m\u001b[0m \u001b[1m9s\u001b[0m 4ms/step - loss: 0.0234 - val_loss: 0.0307\n",
            "Epoch 28/100\n",
            "\u001b[1m2273/2273\u001b[0m \u001b[32m━━━━━━━━━━━━━━━━━━━━\u001b[0m\u001b[37m\u001b[0m \u001b[1m9s\u001b[0m 4ms/step - loss: 0.0232 - val_loss: 0.0308\n",
            "Epoch 29/100\n",
            "\u001b[1m2273/2273\u001b[0m \u001b[32m━━━━━━━━━━━━━━━━━━━━\u001b[0m\u001b[37m\u001b[0m \u001b[1m9s\u001b[0m 4ms/step - loss: 0.0228 - val_loss: 0.0318\n",
            "Epoch 30/100\n",
            "\u001b[1m2273/2273\u001b[0m \u001b[32m━━━━━━━━━━━━━━━━━━━━\u001b[0m\u001b[37m\u001b[0m \u001b[1m10s\u001b[0m 4ms/step - loss: 0.0232 - val_loss: 0.0317\n",
            "Epoch 31/100\n",
            "\u001b[1m2273/2273\u001b[0m \u001b[32m━━━━━━━━━━━━━━━━━━━━\u001b[0m\u001b[37m\u001b[0m \u001b[1m6s\u001b[0m 3ms/step - loss: 0.0232 - val_loss: 0.0304\n",
            "Epoch 32/100\n",
            "\u001b[1m2273/2273\u001b[0m \u001b[32m━━━━━━━━━━━━━━━━━━━━\u001b[0m\u001b[37m\u001b[0m \u001b[1m9s\u001b[0m 4ms/step - loss: 0.0232 - val_loss: 0.0329\n",
            "Epoch 33/100\n",
            "\u001b[1m2273/2273\u001b[0m \u001b[32m━━━━━━━━━━━━━━━━━━━━\u001b[0m\u001b[37m\u001b[0m \u001b[1m7s\u001b[0m 3ms/step - loss: 0.0234 - val_loss: 0.0311\n",
            "Epoch 34/100\n",
            "\u001b[1m2273/2273\u001b[0m \u001b[32m━━━━━━━━━━━━━━━━━━━━\u001b[0m\u001b[37m\u001b[0m \u001b[1m10s\u001b[0m 4ms/step - loss: 0.0229 - val_loss: 0.0313\n",
            "Epoch 35/100\n",
            "\u001b[1m2273/2273\u001b[0m \u001b[32m━━━━━━━━━━━━━━━━━━━━\u001b[0m\u001b[37m\u001b[0m \u001b[1m7s\u001b[0m 3ms/step - loss: 0.0227 - val_loss: 0.0315\n",
            "Epoch 36/100\n",
            "\u001b[1m2273/2273\u001b[0m \u001b[32m━━━━━━━━━━━━━━━━━━━━\u001b[0m\u001b[37m\u001b[0m \u001b[1m8s\u001b[0m 3ms/step - loss: 0.0218 - val_loss: 0.0331\n",
            "Epoch 37/100\n",
            "\u001b[1m2273/2273\u001b[0m \u001b[32m━━━━━━━━━━━━━━━━━━━━\u001b[0m\u001b[37m\u001b[0m \u001b[1m6s\u001b[0m 3ms/step - loss: 0.0225 - val_loss: 0.0317\n",
            "Epoch 38/100\n",
            "\u001b[1m2273/2273\u001b[0m \u001b[32m━━━━━━━━━━━━━━━━━━━━\u001b[0m\u001b[37m\u001b[0m \u001b[1m11s\u001b[0m 3ms/step - loss: 0.0218 - val_loss: 0.0320\n",
            "Epoch 39/100\n",
            "\u001b[1m2273/2273\u001b[0m \u001b[32m━━━━━━━━━━━━━━━━━━━━\u001b[0m\u001b[37m\u001b[0m \u001b[1m8s\u001b[0m 4ms/step - loss: 0.0215 - val_loss: 0.0313\n",
            "Epoch 40/100\n",
            "\u001b[1m2273/2273\u001b[0m \u001b[32m━━━━━━━━━━━━━━━━━━━━\u001b[0m\u001b[37m\u001b[0m \u001b[1m6s\u001b[0m 3ms/step - loss: 0.0214 - val_loss: 0.0314\n",
            "Epoch 41/100\n",
            "\u001b[1m2273/2273\u001b[0m \u001b[32m━━━━━━━━━━━━━━━━━━━━\u001b[0m\u001b[37m\u001b[0m \u001b[1m10s\u001b[0m 3ms/step - loss: 0.0211 - val_loss: 0.0317\n",
            "Epoch 42/100\n",
            "\u001b[1m2273/2273\u001b[0m \u001b[32m━━━━━━━━━━━━━━━━━━━━\u001b[0m\u001b[37m\u001b[0m \u001b[1m7s\u001b[0m 3ms/step - loss: 0.0212 - val_loss: 0.0320\n",
            "Epoch 43/100\n",
            "\u001b[1m2273/2273\u001b[0m \u001b[32m━━━━━━━━━━━━━━━━━━━━\u001b[0m\u001b[37m\u001b[0m \u001b[1m9s\u001b[0m 3ms/step - loss: 0.0206 - val_loss: 0.0312\n",
            "Epoch 44/100\n",
            "\u001b[1m2273/2273\u001b[0m \u001b[32m━━━━━━━━━━━━━━━━━━━━\u001b[0m\u001b[37m\u001b[0m \u001b[1m10s\u001b[0m 3ms/step - loss: 0.0208 - val_loss: 0.0321\n",
            "Epoch 45/100\n",
            "\u001b[1m2273/2273\u001b[0m \u001b[32m━━━━━━━━━━━━━━━━━━━━\u001b[0m\u001b[37m\u001b[0m \u001b[1m11s\u001b[0m 3ms/step - loss: 0.0207 - val_loss: 0.0320\n",
            "Epoch 46/100\n",
            "\u001b[1m2273/2273\u001b[0m \u001b[32m━━━━━━━━━━━━━━━━━━━━\u001b[0m\u001b[37m\u001b[0m \u001b[1m6s\u001b[0m 3ms/step - loss: 0.0206 - val_loss: 0.0328\n",
            "Epoch 47/100\n",
            "\u001b[1m2273/2273\u001b[0m \u001b[32m━━━━━━━━━━━━━━━━━━━━\u001b[0m\u001b[37m\u001b[0m \u001b[1m8s\u001b[0m 3ms/step - loss: 0.0206 - val_loss: 0.0320\n",
            "Epoch 48/100\n",
            "\u001b[1m2273/2273\u001b[0m \u001b[32m━━━━━━━━━━━━━━━━━━━━\u001b[0m\u001b[37m\u001b[0m \u001b[1m6s\u001b[0m 3ms/step - loss: 0.0208 - val_loss: 0.0329\n",
            "Epoch 49/100\n",
            "\u001b[1m2273/2273\u001b[0m \u001b[32m━━━━━━━━━━━━━━━━━━━━\u001b[0m\u001b[37m\u001b[0m \u001b[1m11s\u001b[0m 3ms/step - loss: 0.0207 - val_loss: 0.0320\n",
            "Epoch 50/100\n",
            "\u001b[1m2273/2273\u001b[0m \u001b[32m━━━━━━━━━━━━━━━━━━━━\u001b[0m\u001b[37m\u001b[0m \u001b[1m9s\u001b[0m 3ms/step - loss: 0.0198 - val_loss: 0.0324\n",
            "Epoch 51/100\n",
            "\u001b[1m2273/2273\u001b[0m \u001b[32m━━━━━━━━━━━━━━━━━━━━\u001b[0m\u001b[37m\u001b[0m \u001b[1m12s\u001b[0m 3ms/step - loss: 0.0200 - val_loss: 0.0326\n",
            "Epoch 52/100\n",
            "\u001b[1m2273/2273\u001b[0m \u001b[32m━━━━━━━━━━━━━━━━━━━━\u001b[0m\u001b[37m\u001b[0m \u001b[1m10s\u001b[0m 3ms/step - loss: 0.0195 - val_loss: 0.0324\n",
            "Epoch 53/100\n",
            "\u001b[1m2273/2273\u001b[0m \u001b[32m━━━━━━━━━━━━━━━━━━━━\u001b[0m\u001b[37m\u001b[0m \u001b[1m9s\u001b[0m 3ms/step - loss: 0.0198 - val_loss: 0.0327\n",
            "Epoch 54/100\n",
            "\u001b[1m2273/2273\u001b[0m \u001b[32m━━━━━━━━━━━━━━━━━━━━\u001b[0m\u001b[37m\u001b[0m \u001b[1m8s\u001b[0m 4ms/step - loss: 0.0193 - val_loss: 0.0330\n",
            "Epoch 55/100\n",
            "\u001b[1m2273/2273\u001b[0m \u001b[32m━━━━━━━━━━━━━━━━━━━━\u001b[0m\u001b[37m\u001b[0m \u001b[1m7s\u001b[0m 3ms/step - loss: 0.0201 - val_loss: 0.0335\n",
            "Epoch 56/100\n",
            "\u001b[1m2273/2273\u001b[0m \u001b[32m━━━━━━━━━━━━━━━━━━━━\u001b[0m\u001b[37m\u001b[0m \u001b[1m10s\u001b[0m 3ms/step - loss: 0.0196 - val_loss: 0.0332\n",
            "Epoch 57/100\n",
            "\u001b[1m2273/2273\u001b[0m \u001b[32m━━━━━━━━━━━━━━━━━━━━\u001b[0m\u001b[37m\u001b[0m \u001b[1m8s\u001b[0m 3ms/step - loss: 0.0191 - val_loss: 0.0328\n",
            "Epoch 58/100\n",
            "\u001b[1m2273/2273\u001b[0m \u001b[32m━━━━━━━━━━━━━━━━━━━━\u001b[0m\u001b[37m\u001b[0m \u001b[1m12s\u001b[0m 4ms/step - loss: 0.0200 - val_loss: 0.0322\n",
            "Epoch 59/100\n",
            "\u001b[1m2273/2273\u001b[0m \u001b[32m━━━━━━━━━━━━━━━━━━━━\u001b[0m\u001b[37m\u001b[0m \u001b[1m8s\u001b[0m 3ms/step - loss: 0.0187 - val_loss: 0.0330\n",
            "Epoch 60/100\n",
            "\u001b[1m2273/2273\u001b[0m \u001b[32m━━━━━━━━━━━━━━━━━━━━\u001b[0m\u001b[37m\u001b[0m \u001b[1m8s\u001b[0m 3ms/step - loss: 0.0189 - val_loss: 0.0332\n",
            "Epoch 61/100\n",
            "\u001b[1m2273/2273\u001b[0m \u001b[32m━━━━━━━━━━━━━━━━━━━━\u001b[0m\u001b[37m\u001b[0m \u001b[1m9s\u001b[0m 3ms/step - loss: 0.0187 - val_loss: 0.0329\n",
            "Epoch 62/100\n",
            "\u001b[1m2273/2273\u001b[0m \u001b[32m━━━━━━━━━━━━━━━━━━━━\u001b[0m\u001b[37m\u001b[0m \u001b[1m8s\u001b[0m 3ms/step - loss: 0.0183 - val_loss: 0.0333\n",
            "Epoch 63/100\n",
            "\u001b[1m2273/2273\u001b[0m \u001b[32m━━━━━━━━━━━━━━━━━━━━\u001b[0m\u001b[37m\u001b[0m \u001b[1m6s\u001b[0m 3ms/step - loss: 0.0187 - val_loss: 0.0332\n",
            "Epoch 64/100\n",
            "\u001b[1m2273/2273\u001b[0m \u001b[32m━━━━━━━━━━━━━━━━━━━━\u001b[0m\u001b[37m\u001b[0m \u001b[1m12s\u001b[0m 3ms/step - loss: 0.0186 - val_loss: 0.0334\n",
            "Epoch 65/100\n",
            "\u001b[1m2273/2273\u001b[0m \u001b[32m━━━━━━━━━━━━━━━━━━━━\u001b[0m\u001b[37m\u001b[0m \u001b[1m8s\u001b[0m 3ms/step - loss: 0.0183 - val_loss: 0.0341\n",
            "Epoch 66/100\n",
            "\u001b[1m2273/2273\u001b[0m \u001b[32m━━━━━━━━━━━━━━━━━━━━\u001b[0m\u001b[37m\u001b[0m \u001b[1m6s\u001b[0m 3ms/step - loss: 0.0185 - val_loss: 0.0336\n",
            "Epoch 67/100\n",
            "\u001b[1m2273/2273\u001b[0m \u001b[32m━━━━━━━━━━━━━━━━━━━━\u001b[0m\u001b[37m\u001b[0m \u001b[1m8s\u001b[0m 3ms/step - loss: 0.0176 - val_loss: 0.0335\n",
            "Epoch 68/100\n",
            "\u001b[1m2273/2273\u001b[0m \u001b[32m━━━━━━━━━━━━━━━━━━━━\u001b[0m\u001b[37m\u001b[0m \u001b[1m10s\u001b[0m 3ms/step - loss: 0.0176 - val_loss: 0.0342\n",
            "Epoch 69/100\n",
            "\u001b[1m2273/2273\u001b[0m \u001b[32m━━━━━━━━━━━━━━━━━━━━\u001b[0m\u001b[37m\u001b[0m \u001b[1m6s\u001b[0m 3ms/step - loss: 0.0178 - val_loss: 0.0337\n",
            "Epoch 70/100\n",
            "\u001b[1m2273/2273\u001b[0m \u001b[32m━━━━━━━━━━━━━━━━━━━━\u001b[0m\u001b[37m\u001b[0m \u001b[1m8s\u001b[0m 4ms/step - loss: 0.0172 - val_loss: 0.0342\n",
            "Epoch 71/100\n",
            "\u001b[1m2273/2273\u001b[0m \u001b[32m━━━━━━━━━━━━━━━━━━━━\u001b[0m\u001b[37m\u001b[0m \u001b[1m8s\u001b[0m 3ms/step - loss: 0.0178 - val_loss: 0.0335\n",
            "Epoch 72/100\n",
            "\u001b[1m2273/2273\u001b[0m \u001b[32m━━━━━━━━━━━━━━━━━━━━\u001b[0m\u001b[37m\u001b[0m \u001b[1m8s\u001b[0m 3ms/step - loss: 0.0171 - val_loss: 0.0352\n",
            "Epoch 73/100\n",
            "\u001b[1m2273/2273\u001b[0m \u001b[32m━━━━━━━━━━━━━━━━━━━━\u001b[0m\u001b[37m\u001b[0m \u001b[1m6s\u001b[0m 3ms/step - loss: 0.0169 - val_loss: 0.0347\n",
            "Epoch 74/100\n",
            "\u001b[1m2273/2273\u001b[0m \u001b[32m━━━━━━━━━━━━━━━━━━━━\u001b[0m\u001b[37m\u001b[0m \u001b[1m7s\u001b[0m 3ms/step - loss: 0.0178 - val_loss: 0.0337\n",
            "Epoch 75/100\n",
            "\u001b[1m2273/2273\u001b[0m \u001b[32m━━━━━━━━━━━━━━━━━━━━\u001b[0m\u001b[37m\u001b[0m \u001b[1m6s\u001b[0m 3ms/step - loss: 0.0175 - val_loss: 0.0346\n",
            "Epoch 76/100\n",
            "\u001b[1m2273/2273\u001b[0m \u001b[32m━━━━━━━━━━━━━━━━━━━━\u001b[0m\u001b[37m\u001b[0m \u001b[1m8s\u001b[0m 3ms/step - loss: 0.0170 - val_loss: 0.0344\n",
            "Epoch 77/100\n",
            "\u001b[1m2273/2273\u001b[0m \u001b[32m━━━━━━━━━━━━━━━━━━━━\u001b[0m\u001b[37m\u001b[0m \u001b[1m9s\u001b[0m 3ms/step - loss: 0.0170 - val_loss: 0.0348\n",
            "Epoch 78/100\n",
            "\u001b[1m2273/2273\u001b[0m \u001b[32m━━━━━━━━━━━━━━━━━━━━\u001b[0m\u001b[37m\u001b[0m \u001b[1m12s\u001b[0m 3ms/step - loss: 0.0172 - val_loss: 0.0359\n",
            "Epoch 79/100\n",
            "\u001b[1m2273/2273\u001b[0m \u001b[32m━━━━━━━━━━━━━━━━━━━━\u001b[0m\u001b[37m\u001b[0m \u001b[1m14s\u001b[0m 5ms/step - loss: 0.0172 - val_loss: 0.0342\n",
            "Epoch 80/100\n",
            "\u001b[1m2273/2273\u001b[0m \u001b[32m━━━━━━━━━━━━━━━━━━━━\u001b[0m\u001b[37m\u001b[0m \u001b[1m8s\u001b[0m 4ms/step - loss: 0.0167 - val_loss: 0.0345\n",
            "Epoch 81/100\n",
            "\u001b[1m2273/2273\u001b[0m \u001b[32m━━━━━━━━━━━━━━━━━━━━\u001b[0m\u001b[37m\u001b[0m \u001b[1m10s\u001b[0m 3ms/step - loss: 0.0165 - val_loss: 0.0349\n",
            "Epoch 82/100\n",
            "\u001b[1m2273/2273\u001b[0m \u001b[32m━━━━━━━━━━━━━━━━━━━━\u001b[0m\u001b[37m\u001b[0m \u001b[1m7s\u001b[0m 3ms/step - loss: 0.0166 - val_loss: 0.0360\n",
            "Epoch 83/100\n",
            "\u001b[1m2273/2273\u001b[0m \u001b[32m━━━━━━━━━━━━━━━━━━━━\u001b[0m\u001b[37m\u001b[0m \u001b[1m10s\u001b[0m 3ms/step - loss: 0.0162 - val_loss: 0.0346\n",
            "Epoch 84/100\n",
            "\u001b[1m2273/2273\u001b[0m \u001b[32m━━━━━━━━━━━━━━━━━━━━\u001b[0m\u001b[37m\u001b[0m \u001b[1m6s\u001b[0m 3ms/step - loss: 0.0165 - val_loss: 0.0349\n",
            "Epoch 85/100\n",
            "\u001b[1m2273/2273\u001b[0m \u001b[32m━━━━━━━━━━━━━━━━━━━━\u001b[0m\u001b[37m\u001b[0m \u001b[1m8s\u001b[0m 4ms/step - loss: 0.0159 - val_loss: 0.0349\n",
            "Epoch 86/100\n",
            "\u001b[1m2273/2273\u001b[0m \u001b[32m━━━━━━━━━━━━━━━━━━━━\u001b[0m\u001b[37m\u001b[0m \u001b[1m8s\u001b[0m 3ms/step - loss: 0.0168 - val_loss: 0.0347\n",
            "Epoch 87/100\n",
            "\u001b[1m2273/2273\u001b[0m \u001b[32m━━━━━━━━━━━━━━━━━━━━\u001b[0m\u001b[37m\u001b[0m \u001b[1m8s\u001b[0m 3ms/step - loss: 0.0163 - val_loss: 0.0349\n",
            "Epoch 88/100\n",
            "\u001b[1m2273/2273\u001b[0m \u001b[32m━━━━━━━━━━━━━━━━━━━━\u001b[0m\u001b[37m\u001b[0m \u001b[1m6s\u001b[0m 3ms/step - loss: 0.0159 - val_loss: 0.0347\n",
            "Epoch 89/100\n",
            "\u001b[1m2273/2273\u001b[0m \u001b[32m━━━━━━━━━━━━━━━━━━━━\u001b[0m\u001b[37m\u001b[0m \u001b[1m8s\u001b[0m 3ms/step - loss: 0.0158 - val_loss: 0.0349\n",
            "Epoch 90/100\n",
            "\u001b[1m2273/2273\u001b[0m \u001b[32m━━━━━━━━━━━━━━━━━━━━\u001b[0m\u001b[37m\u001b[0m \u001b[1m10s\u001b[0m 3ms/step - loss: 0.0158 - val_loss: 0.0356\n",
            "Epoch 91/100\n",
            "\u001b[1m2273/2273\u001b[0m \u001b[32m━━━━━━━━━━━━━━━━━━━━\u001b[0m\u001b[37m\u001b[0m \u001b[1m7s\u001b[0m 3ms/step - loss: 0.0156 - val_loss: 0.0358\n",
            "Epoch 92/100\n",
            "\u001b[1m2273/2273\u001b[0m \u001b[32m━━━━━━━━━━━━━━━━━━━━\u001b[0m\u001b[37m\u001b[0m \u001b[1m10s\u001b[0m 4ms/step - loss: 0.0157 - val_loss: 0.0358\n",
            "Epoch 93/100\n",
            "\u001b[1m2273/2273\u001b[0m \u001b[32m━━━━━━━━━━━━━━━━━━━━\u001b[0m\u001b[37m\u001b[0m \u001b[1m6s\u001b[0m 3ms/step - loss: 0.0155 - val_loss: 0.0360\n",
            "Epoch 94/100\n",
            "\u001b[1m2273/2273\u001b[0m \u001b[32m━━━━━━━━━━━━━━━━━━━━\u001b[0m\u001b[37m\u001b[0m \u001b[1m10s\u001b[0m 3ms/step - loss: 0.0150 - val_loss: 0.0363\n",
            "Epoch 95/100\n",
            "\u001b[1m2273/2273\u001b[0m \u001b[32m━━━━━━━━━━━━━━━━━━━━\u001b[0m\u001b[37m\u001b[0m \u001b[1m8s\u001b[0m 4ms/step - loss: 0.0157 - val_loss: 0.0358\n",
            "Epoch 96/100\n",
            "\u001b[1m2273/2273\u001b[0m \u001b[32m━━━━━━━━━━━━━━━━━━━━\u001b[0m\u001b[37m\u001b[0m \u001b[1m8s\u001b[0m 3ms/step - loss: 0.0152 - val_loss: 0.0359\n",
            "Epoch 97/100\n",
            "\u001b[1m2273/2273\u001b[0m \u001b[32m━━━━━━━━━━━━━━━━━━━━\u001b[0m\u001b[37m\u001b[0m \u001b[1m10s\u001b[0m 3ms/step - loss: 0.0146 - val_loss: 0.0356\n",
            "Epoch 98/100\n",
            "\u001b[1m2273/2273\u001b[0m \u001b[32m━━━━━━━━━━━━━━━━━━━━\u001b[0m\u001b[37m\u001b[0m \u001b[1m13s\u001b[0m 4ms/step - loss: 0.0150 - val_loss: 0.0359\n",
            "Epoch 99/100\n",
            "\u001b[1m2273/2273\u001b[0m \u001b[32m━━━━━━━━━━━━━━━━━━━━\u001b[0m\u001b[37m\u001b[0m \u001b[1m9s\u001b[0m 3ms/step - loss: 0.0152 - val_loss: 0.0365\n",
            "Epoch 100/100\n",
            "\u001b[1m2273/2273\u001b[0m \u001b[32m━━━━━━━━━━━━━━━━━━━━\u001b[0m\u001b[37m\u001b[0m \u001b[1m6s\u001b[0m 3ms/step - loss: 0.0147 - val_loss: 0.0377\n"
          ]
        }
      ]
    },
    {
      "cell_type": "code",
      "source": [
        "loss_df = pd.DataFrame(history.history)\n",
        "loss_df.plot(figsize=(10,5))"
      ],
      "metadata": {
        "execution": {
          "iopub.status.busy": "2024-08-17T17:33:31.758154Z",
          "iopub.execute_input": "2024-08-17T17:33:31.758778Z",
          "iopub.status.idle": "2024-08-17T17:33:32.045553Z",
          "shell.execute_reply.started": "2024-08-17T17:33:31.758734Z",
          "shell.execute_reply": "2024-08-17T17:33:32.044483Z"
        },
        "trusted": true,
        "id": "OJtDIAqZejIE",
        "outputId": "087b8c01-5726-479b-86a4-17f80f9d830c",
        "colab": {
          "base_uri": "https://localhost:8080/",
          "height": 373
        }
      },
      "execution_count": 18,
      "outputs": [
        {
          "output_type": "execute_result",
          "data": {
            "text/plain": [
              "<Axes: >"
            ]
          },
          "metadata": {},
          "execution_count": 18
        },
        {
          "output_type": "display_data",
          "data": {
            "text/plain": [
              "<Figure size 1000x500 with 1 Axes>"
            ],
            "image/png": "[encoded data removed]"
          },
          "metadata": {}
        }
      ]
    },
    {
      "cell_type": "code",
      "source": [
        "model.evaluate(test_data_prepared, test_label)"
      ],
      "metadata": {
        "execution": {
          "iopub.status.busy": "2024-08-17T17:33:32.046752Z",
          "iopub.execute_input": "2024-08-17T17:33:32.047038Z",
          "iopub.status.idle": "2024-08-17T17:33:33.123114Z",
          "shell.execute_reply.started": "2024-08-17T17:33:32.047012Z",
          "shell.execute_reply": "2024-08-17T17:33:33.121904Z"
        },
        "trusted": true,
        "id": "vU9Tp1fBejIE",
        "outputId": "ea434fa8-19a3-4066-ca91-ac4441af5920",
        "colab": {
          "base_uri": "https://localhost:8080/"
        }
      },
      "execution_count": 19,
      "outputs": [
        {
          "output_type": "stream",
          "name": "stdout",
          "text": [
            "\u001b[1m975/975\u001b[0m \u001b[32m━━━━━━━━━━━━━━━━━━━━\u001b[0m\u001b[37m\u001b[0m \u001b[1m1s\u001b[0m 1ms/step - loss: 0.0375\n"
          ]
        },
        {
          "output_type": "execute_result",
          "data": {
            "text/plain": [
              "0.03774425759911537"
            ]
          },
          "metadata": {},
          "execution_count": 19
        }
      ]
    },
    {
      "cell_type": "code",
      "source": [
        "sns.kdeplot(data=traindata, x='satisfaction', color='red')"
      ],
      "metadata": {
        "execution": {
          "iopub.status.busy": "2024-08-17T17:33:33.124372Z",
          "iopub.execute_input": "2024-08-17T17:33:33.124748Z",
          "iopub.status.idle": "2024-08-17T17:33:33.688061Z",
          "shell.execute_reply.started": "2024-08-17T17:33:33.124717Z",
          "shell.execute_reply": "2024-08-17T17:33:33.686873Z"
        },
        "trusted": true,
        "id": "2wG2lo5bejIE",
        "outputId": "1a8b15a2-f627-40ea-e5f9-473045d00666",
        "colab": {
          "base_uri": "https://localhost:8080/",
          "height": 467
        }
      },
      "execution_count": 20,
      "outputs": [
        {
          "output_type": "execute_result",
          "data": {
            "text/plain": [
              "<Axes: xlabel='satisfaction', ylabel='Density'>"
            ]
          },
          "metadata": {},
          "execution_count": 20
        },
        {
          "output_type": "display_data",
          "data": {
            "text/plain": [
              "<Figure size 640x480 with 1 Axes>"
            ],
            "image/png": "[encoded data removed]"
          },
          "metadata": {}
        }
      ]
    },
    {
      "cell_type": "code",
      "source": [
        "model_2 = keras.models.Sequential([\n",
        "\n",
        "            # The first layers must specify the input shape always\n",
        "            keras.layers.Dense(12, activation='relu', input_shape=input_shape),\n",
        "            keras.layers.Dense(24, activation='relu'),\n",
        "            keras.layers.Dense(6, activation='relu'),\n",
        "            keras.layers.Dense(3, activation='relu'),\n",
        "            # The last layer usually doesn't have activation function in regression\n",
        "            keras.layers.Dense(1, activation='sigmoid')\n",
        "\n",
        "])\n",
        "\n",
        "# Now we compile the model\n",
        "model_2.compile(loss='log_cosh', optimizer='adam')\n",
        "history = model_2.fit(training_data_prepared, train_label,\n",
        "                    validation_data = (test_data_prepared, test_label), epochs=150)"
      ],
      "metadata": {
        "execution": {
          "iopub.status.busy": "2024-08-17T17:33:33.689223Z",
          "iopub.execute_input": "2024-08-17T17:33:33.689642Z",
          "iopub.status.idle": "2024-08-17T17:40:11.392704Z",
          "shell.execute_reply.started": "2024-08-17T17:33:33.689611Z",
          "shell.execute_reply": "2024-08-17T17:40:11.391639Z"
        },
        "trusted": true,
        "id": "-reRe53cejIE",
        "outputId": "a8edaa4a-1d4d-4c0e-ffc4-d0550f727673",
        "colab": {
          "base_uri": "https://localhost:8080/"
        }
      },
      "execution_count": 31,
      "outputs": [
        {
          "output_type": "stream",
          "name": "stdout",
          "text": [
            "Epoch 1/150\n"
          ]
        },
        {
          "output_type": "stream",
          "name": "stderr",
          "text": [
            "/usr/local/lib/python3.10/dist-packages/keras/src/layers/core/dense.py:87: UserWarning: Do not pass an `input_shape`/`input_dim` argument to a layer. When using Sequential models, prefer using an `Input(shape)` object as the first layer in the model instead.\n",
            "  super().__init__(activity_regularizer=activity_regularizer, **kwargs)\n"
          ]
        },
        {
          "output_type": "stream",
          "name": "stdout",
          "text": [
            "\u001b[1m2273/2273\u001b[0m \u001b[32m━━━━━━━━━━━━━━━━━━━━\u001b[0m\u001b[37m\u001b[0m \u001b[1m10s\u001b[0m 4ms/step - loss: 0.0728 - val_loss: 0.0306\n",
            "Epoch 2/150\n",
            "\u001b[1m2273/2273\u001b[0m \u001b[32m━━━━━━━━━━━━━━━━━━━━\u001b[0m\u001b[37m\u001b[0m \u001b[1m9s\u001b[0m 3ms/step - loss: 0.0281 - val_loss: 0.0238\n",
            "Epoch 3/150\n",
            "\u001b[1m2273/2273\u001b[0m \u001b[32m━━━━━━━━━━━━━━━━━━━━\u001b[0m\u001b[37m\u001b[0m \u001b[1m9s\u001b[0m 2ms/step - loss: 0.0226 - val_loss: 0.0215\n",
            "Epoch 4/150\n",
            "\u001b[1m2273/2273\u001b[0m \u001b[32m━━━━━━━━━━━━━━━━━━━━\u001b[0m\u001b[37m\u001b[0m \u001b[1m7s\u001b[0m 3ms/step - loss: 0.0208 - val_loss: 0.0197\n",
            "Epoch 5/150\n",
            "\u001b[1m2273/2273\u001b[0m \u001b[32m━━━━━━━━━━━━━━━━━━━━\u001b[0m\u001b[37m\u001b[0m \u001b[1m7s\u001b[0m 3ms/step - loss: 0.0193 - val_loss: 0.0187\n",
            "Epoch 6/150\n",
            "\u001b[1m2273/2273\u001b[0m \u001b[32m━━━━━━━━━━━━━━━━━━━━\u001b[0m\u001b[37m\u001b[0m \u001b[1m9s\u001b[0m 4ms/step - loss: 0.0183 - val_loss: 0.0189\n",
            "Epoch 7/150\n",
            "\u001b[1m2273/2273\u001b[0m \u001b[32m━━━━━━━━━━━━━━━━━━━━\u001b[0m\u001b[37m\u001b[0m \u001b[1m8s\u001b[0m 4ms/step - loss: 0.0179 - val_loss: 0.0182\n",
            "Epoch 8/150\n",
            "\u001b[1m2273/2273\u001b[0m \u001b[32m━━━━━━━━━━━━━━━━━━━━\u001b[0m\u001b[37m\u001b[0m \u001b[1m6s\u001b[0m 3ms/step - loss: 0.0175 - val_loss: 0.0176\n",
            "Epoch 9/150\n",
            "\u001b[1m2273/2273\u001b[0m \u001b[32m━━━━━━━━━━━━━━━━━━━━\u001b[0m\u001b[37m\u001b[0m \u001b[1m8s\u001b[0m 3ms/step - loss: 0.0171 - val_loss: 0.0179\n",
            "Epoch 10/150\n",
            "\u001b[1m2273/2273\u001b[0m \u001b[32m━━━━━━━━━━━━━━━━━━━━\u001b[0m\u001b[37m\u001b[0m \u001b[1m9s\u001b[0m 3ms/step - loss: 0.0168 - val_loss: 0.0171\n",
            "Epoch 11/150\n",
            "\u001b[1m2273/2273\u001b[0m \u001b[32m━━━━━━━━━━━━━━━━━━━━\u001b[0m\u001b[37m\u001b[0m \u001b[1m7s\u001b[0m 3ms/step - loss: 0.0165 - val_loss: 0.0170\n",
            "Epoch 12/150\n",
            "\u001b[1m2273/2273\u001b[0m \u001b[32m━━━━━━━━━━━━━━━━━━━━\u001b[0m\u001b[37m\u001b[0m \u001b[1m10s\u001b[0m 3ms/step - loss: 0.0161 - val_loss: 0.0167\n",
            "Epoch 13/150\n",
            "\u001b[1m2273/2273\u001b[0m \u001b[32m━━━━━━━━━━━━━━━━━━━━\u001b[0m\u001b[37m\u001b[0m \u001b[1m6s\u001b[0m 3ms/step - loss: 0.0162 - val_loss: 0.0164\n",
            "Epoch 14/150\n",
            "\u001b[1m2273/2273\u001b[0m \u001b[32m━━━━━━━━━━━━━━━━━━━━\u001b[0m\u001b[37m\u001b[0m \u001b[1m12s\u001b[0m 3ms/step - loss: 0.0161 - val_loss: 0.0164\n",
            "Epoch 15/150\n",
            "\u001b[1m2273/2273\u001b[0m \u001b[32m━━━━━━━━━━━━━━━━━━━━\u001b[0m\u001b[37m\u001b[0m \u001b[1m6s\u001b[0m 3ms/step - loss: 0.0160 - val_loss: 0.0163\n",
            "Epoch 16/150\n",
            "\u001b[1m2273/2273\u001b[0m \u001b[32m━━━━━━━━━━━━━━━━━━━━\u001b[0m\u001b[37m\u001b[0m \u001b[1m9s\u001b[0m 4ms/step - loss: 0.0155 - val_loss: 0.0159\n",
            "Epoch 17/150\n",
            "\u001b[1m2273/2273\u001b[0m \u001b[32m━━━━━━━━━━━━━━━━━━━━\u001b[0m\u001b[37m\u001b[0m \u001b[1m6s\u001b[0m 2ms/step - loss: 0.0151 - val_loss: 0.0159\n",
            "Epoch 18/150\n",
            "\u001b[1m2273/2273\u001b[0m \u001b[32m━━━━━━━━━━━━━━━━━━━━\u001b[0m\u001b[37m\u001b[0m \u001b[1m10s\u001b[0m 3ms/step - loss: 0.0153 - val_loss: 0.0161\n",
            "Epoch 19/150\n",
            "\u001b[1m2273/2273\u001b[0m \u001b[32m━━━━━━━━━━━━━━━━━━━━\u001b[0m\u001b[37m\u001b[0m \u001b[1m11s\u001b[0m 3ms/step - loss: 0.0151 - val_loss: 0.0158\n",
            "Epoch 20/150\n",
            "\u001b[1m2273/2273\u001b[0m \u001b[32m━━━━━━━━━━━━━━━━━━━━\u001b[0m\u001b[37m\u001b[0m \u001b[1m9s\u001b[0m 4ms/step - loss: 0.0149 - val_loss: 0.0161\n",
            "Epoch 21/150\n",
            "\u001b[1m2273/2273\u001b[0m \u001b[32m━━━━━━━━━━━━━━━━━━━━\u001b[0m\u001b[37m\u001b[0m \u001b[1m7s\u001b[0m 3ms/step - loss: 0.0154 - val_loss: 0.0158\n",
            "Epoch 22/150\n",
            "\u001b[1m2273/2273\u001b[0m \u001b[32m━━━━━━━━━━━━━━━━━━━━\u001b[0m\u001b[37m\u001b[0m \u001b[1m7s\u001b[0m 3ms/step - loss: 0.0150 - val_loss: 0.0155\n",
            "Epoch 23/150\n",
            "\u001b[1m2273/2273\u001b[0m \u001b[32m━━━━━━━━━━━━━━━━━━━━\u001b[0m\u001b[37m\u001b[0m \u001b[1m9s\u001b[0m 3ms/step - loss: 0.0151 - val_loss: 0.0158\n",
            "Epoch 24/150\n",
            "\u001b[1m2273/2273\u001b[0m \u001b[32m━━━━━━━━━━━━━━━━━━━━\u001b[0m\u001b[37m\u001b[0m \u001b[1m6s\u001b[0m 3ms/step - loss: 0.0146 - val_loss: 0.0156\n",
            "Epoch 25/150\n",
            "\u001b[1m2273/2273\u001b[0m \u001b[32m━━━━━━━━━━━━━━━━━━━━\u001b[0m\u001b[37m\u001b[0m \u001b[1m5s\u001b[0m 2ms/step - loss: 0.0148 - val_loss: 0.0152\n",
            "Epoch 26/150\n",
            "\u001b[1m2273/2273\u001b[0m \u001b[32m━━━━━━━━━━━━━━━━━━━━\u001b[0m\u001b[37m\u001b[0m \u001b[1m10s\u001b[0m 3ms/step - loss: 0.0146 - val_loss: 0.0154\n",
            "Epoch 27/150\n",
            "\u001b[1m2273/2273\u001b[0m \u001b[32m━━━━━━━━━━━━━━━━━━━━\u001b[0m\u001b[37m\u001b[0m \u001b[1m10s\u001b[0m 2ms/step - loss: 0.0146 - val_loss: 0.0157\n",
            "Epoch 28/150\n",
            "\u001b[1m2273/2273\u001b[0m \u001b[32m━━━━━━━━━━━━━━━━━━━━\u001b[0m\u001b[37m\u001b[0m \u001b[1m11s\u001b[0m 3ms/step - loss: 0.0145 - val_loss: 0.0152\n",
            "Epoch 29/150\n",
            "\u001b[1m2273/2273\u001b[0m \u001b[32m━━━━━━━━━━━━━━━━━━━━\u001b[0m\u001b[37m\u001b[0m \u001b[1m11s\u001b[0m 3ms/step - loss: 0.0143 - val_loss: 0.0160\n",
            "Epoch 30/150\n",
            "\u001b[1m2273/2273\u001b[0m \u001b[32m━━━━━━━━━━━━━━━━━━━━\u001b[0m\u001b[37m\u001b[0m \u001b[1m10s\u001b[0m 3ms/step - loss: 0.0140 - val_loss: 0.0151\n",
            "Epoch 31/150\n",
            "\u001b[1m2273/2273\u001b[0m \u001b[32m━━━━━━━━━━━━━━━━━━━━\u001b[0m\u001b[37m\u001b[0m \u001b[1m7s\u001b[0m 3ms/step - loss: 0.0143 - val_loss: 0.0148\n",
            "Epoch 32/150\n",
            "\u001b[1m2273/2273\u001b[0m \u001b[32m━━━━━━━━━━━━━━━━━━━━\u001b[0m\u001b[37m\u001b[0m \u001b[1m10s\u001b[0m 3ms/step - loss: 0.0143 - val_loss: 0.0153\n",
            "Epoch 33/150\n",
            "\u001b[1m2273/2273\u001b[0m \u001b[32m━━━━━━━━━━━━━━━━━━━━\u001b[0m\u001b[37m\u001b[0m \u001b[1m6s\u001b[0m 3ms/step - loss: 0.0144 - val_loss: 0.0151\n",
            "Epoch 34/150\n",
            "\u001b[1m2273/2273\u001b[0m \u001b[32m━━━━━━━━━━━━━━━━━━━━\u001b[0m\u001b[37m\u001b[0m \u001b[1m10s\u001b[0m 2ms/step - loss: 0.0142 - val_loss: 0.0151\n",
            "Epoch 35/150\n",
            "\u001b[1m2273/2273\u001b[0m \u001b[32m━━━━━━━━━━━━━━━━━━━━\u001b[0m\u001b[37m\u001b[0m \u001b[1m7s\u001b[0m 3ms/step - loss: 0.0142 - val_loss: 0.0158\n",
            "Epoch 36/150\n",
            "\u001b[1m2273/2273\u001b[0m \u001b[32m━━━━━━━━━━━━━━━━━━━━\u001b[0m\u001b[37m\u001b[0m \u001b[1m5s\u001b[0m 2ms/step - loss: 0.0141 - val_loss: 0.0149\n",
            "Epoch 37/150\n",
            "\u001b[1m2273/2273\u001b[0m \u001b[32m━━━━━━━━━━━━━━━━━━━━\u001b[0m\u001b[37m\u001b[0m \u001b[1m10s\u001b[0m 2ms/step - loss: 0.0141 - val_loss: 0.0146\n",
            "Epoch 38/150\n",
            "\u001b[1m2273/2273\u001b[0m \u001b[32m━━━━━━━━━━━━━━━━━━━━\u001b[0m\u001b[37m\u001b[0m \u001b[1m7s\u001b[0m 3ms/step - loss: 0.0145 - val_loss: 0.0147\n",
            "Epoch 39/150\n",
            "\u001b[1m2273/2273\u001b[0m \u001b[32m━━━━━━━━━━━━━━━━━━━━\u001b[0m\u001b[37m\u001b[0m \u001b[1m6s\u001b[0m 3ms/step - loss: 0.0137 - val_loss: 0.0148\n",
            "Epoch 40/150\n",
            "\u001b[1m2273/2273\u001b[0m \u001b[32m━━━━━━━━━━━━━━━━━━━━\u001b[0m\u001b[37m\u001b[0m \u001b[1m12s\u001b[0m 3ms/step - loss: 0.0139 - val_loss: 0.0148\n",
            "Epoch 41/150\n",
            "\u001b[1m2273/2273\u001b[0m \u001b[32m━━━━━━━━━━━━━━━━━━━━\u001b[0m\u001b[37m\u001b[0m \u001b[1m6s\u001b[0m 2ms/step - loss: 0.0144 - val_loss: 0.0146\n",
            "Epoch 42/150\n",
            "\u001b[1m2273/2273\u001b[0m \u001b[32m━━━━━━━━━━━━━━━━━━━━\u001b[0m\u001b[37m\u001b[0m \u001b[1m8s\u001b[0m 3ms/step - loss: 0.0139 - val_loss: 0.0147\n",
            "Epoch 43/150\n",
            "\u001b[1m2273/2273\u001b[0m \u001b[32m━━━━━━━━━━━━━━━━━━━━\u001b[0m\u001b[37m\u001b[0m \u001b[1m11s\u001b[0m 4ms/step - loss: 0.0141 - val_loss: 0.0149\n",
            "Epoch 44/150\n",
            "\u001b[1m2273/2273\u001b[0m \u001b[32m━━━━━━━━━━━━━━━━━━━━\u001b[0m\u001b[37m\u001b[0m \u001b[1m5s\u001b[0m 2ms/step - loss: 0.0136 - val_loss: 0.0149\n",
            "Epoch 45/150\n",
            "\u001b[1m2273/2273\u001b[0m \u001b[32m━━━━━━━━━━━━━━━━━━━━\u001b[0m\u001b[37m\u001b[0m \u001b[1m11s\u001b[0m 3ms/step - loss: 0.0139 - val_loss: 0.0146\n",
            "Epoch 46/150\n",
            "\u001b[1m2273/2273\u001b[0m \u001b[32m━━━━━━━━━━━━━━━━━━━━\u001b[0m\u001b[37m\u001b[0m \u001b[1m12s\u001b[0m 4ms/step - loss: 0.0136 - val_loss: 0.0145\n",
            "Epoch 47/150\n",
            "\u001b[1m2273/2273\u001b[0m \u001b[32m━━━━━━━━━━━━━━━━━━━━\u001b[0m\u001b[37m\u001b[0m \u001b[1m5s\u001b[0m 2ms/step - loss: 0.0137 - val_loss: 0.0148\n",
            "Epoch 48/150\n",
            "\u001b[1m2273/2273\u001b[0m \u001b[32m━━━━━━━━━━━━━━━━━━━━\u001b[0m\u001b[37m\u001b[0m \u001b[1m7s\u001b[0m 3ms/step - loss: 0.0136 - val_loss: 0.0147\n",
            "Epoch 49/150\n",
            "\u001b[1m2273/2273\u001b[0m \u001b[32m━━━━━━━━━━━━━━━━━━━━\u001b[0m\u001b[37m\u001b[0m \u001b[1m9s\u001b[0m 3ms/step - loss: 0.0137 - val_loss: 0.0148\n",
            "Epoch 50/150\n",
            "\u001b[1m2273/2273\u001b[0m \u001b[32m━━━━━━━━━━━━━━━━━━━━\u001b[0m\u001b[37m\u001b[0m \u001b[1m7s\u001b[0m 3ms/step - loss: 0.0135 - val_loss: 0.0149\n",
            "Epoch 51/150\n",
            "\u001b[1m2273/2273\u001b[0m \u001b[32m━━━━━━━━━━━━━━━━━━━━\u001b[0m\u001b[37m\u001b[0m \u001b[1m6s\u001b[0m 2ms/step - loss: 0.0130 - val_loss: 0.0146\n",
            "Epoch 52/150\n",
            "\u001b[1m2273/2273\u001b[0m \u001b[32m━━━━━━━━━━━━━━━━━━━━\u001b[0m\u001b[37m\u001b[0m \u001b[1m7s\u001b[0m 3ms/step - loss: 0.0136 - val_loss: 0.0147\n",
            "Epoch 53/150\n",
            "\u001b[1m2273/2273\u001b[0m \u001b[32m━━━━━━━━━━━━━━━━━━━━\u001b[0m\u001b[37m\u001b[0m \u001b[1m10s\u001b[0m 3ms/step - loss: 0.0133 - val_loss: 0.0147\n",
            "Epoch 54/150\n",
            "\u001b[1m2273/2273\u001b[0m \u001b[32m━━━━━━━━━━━━━━━━━━━━\u001b[0m\u001b[37m\u001b[0m \u001b[1m9s\u001b[0m 3ms/step - loss: 0.0137 - val_loss: 0.0146\n",
            "Epoch 55/150\n",
            "\u001b[1m2273/2273\u001b[0m \u001b[32m━━━━━━━━━━━━━━━━━━━━\u001b[0m\u001b[37m\u001b[0m \u001b[1m10s\u001b[0m 3ms/step - loss: 0.0136 - val_loss: 0.0142\n",
            "Epoch 56/150\n",
            "\u001b[1m2273/2273\u001b[0m \u001b[32m━━━━━━━━━━━━━━━━━━━━\u001b[0m\u001b[37m\u001b[0m \u001b[1m10s\u001b[0m 2ms/step - loss: 0.0131 - val_loss: 0.0151\n",
            "Epoch 57/150\n",
            "\u001b[1m2273/2273\u001b[0m \u001b[32m━━━━━━━━━━━━━━━━━━━━\u001b[0m\u001b[37m\u001b[0m \u001b[1m6s\u001b[0m 3ms/step - loss: 0.0136 - val_loss: 0.0147\n",
            "Epoch 58/150\n",
            "\u001b[1m2273/2273\u001b[0m \u001b[32m━━━━━━━━━━━━━━━━━━━━\u001b[0m\u001b[37m\u001b[0m \u001b[1m7s\u001b[0m 3ms/step - loss: 0.0135 - val_loss: 0.0144\n",
            "Epoch 59/150\n",
            "\u001b[1m2273/2273\u001b[0m \u001b[32m━━━━━━━━━━━━━━━━━━━━\u001b[0m\u001b[37m\u001b[0m \u001b[1m7s\u001b[0m 3ms/step - loss: 0.0133 - val_loss: 0.0144\n",
            "Epoch 60/150\n",
            "\u001b[1m2273/2273\u001b[0m \u001b[32m━━━━━━━━━━━━━━━━━━━━\u001b[0m\u001b[37m\u001b[0m \u001b[1m8s\u001b[0m 2ms/step - loss: 0.0134 - val_loss: 0.0143\n",
            "Epoch 61/150\n",
            "\u001b[1m2273/2273\u001b[0m \u001b[32m━━━━━━━━━━━━━━━━━━━━\u001b[0m\u001b[37m\u001b[0m \u001b[1m8s\u001b[0m 3ms/step - loss: 0.0130 - val_loss: 0.0143\n",
            "Epoch 62/150\n",
            "\u001b[1m2273/2273\u001b[0m \u001b[32m━━━━━━━━━━━━━━━━━━━━\u001b[0m\u001b[37m\u001b[0m \u001b[1m7s\u001b[0m 3ms/step - loss: 0.0133 - val_loss: 0.0144\n",
            "Epoch 63/150\n",
            "\u001b[1m2273/2273\u001b[0m \u001b[32m━━━━━━━━━━━━━━━━━━━━\u001b[0m\u001b[37m\u001b[0m \u001b[1m10s\u001b[0m 3ms/step - loss: 0.0134 - val_loss: 0.0144\n",
            "Epoch 64/150\n",
            "\u001b[1m2273/2273\u001b[0m \u001b[32m━━━━━━━━━━━━━━━━━━━━\u001b[0m\u001b[37m\u001b[0m \u001b[1m10s\u001b[0m 3ms/step - loss: 0.0132 - val_loss: 0.0145\n",
            "Epoch 65/150\n",
            "\u001b[1m2273/2273\u001b[0m \u001b[32m━━━━━━━━━━━━━━━━━━━━\u001b[0m\u001b[37m\u001b[0m \u001b[1m11s\u001b[0m 3ms/step - loss: 0.0134 - val_loss: 0.0144\n",
            "Epoch 66/150\n",
            "\u001b[1m2273/2273\u001b[0m \u001b[32m━━━━━━━━━━━━━━━━━━━━\u001b[0m\u001b[37m\u001b[0m \u001b[1m6s\u001b[0m 2ms/step - loss: 0.0134 - val_loss: 0.0141\n",
            "Epoch 67/150\n",
            "\u001b[1m2273/2273\u001b[0m \u001b[32m━━━━━━━━━━━━━━━━━━━━\u001b[0m\u001b[37m\u001b[0m \u001b[1m8s\u001b[0m 3ms/step - loss: 0.0131 - val_loss: 0.0146\n",
            "Epoch 68/150\n",
            "\u001b[1m2273/2273\u001b[0m \u001b[32m━━━━━━━━━━━━━━━━━━━━\u001b[0m\u001b[37m\u001b[0m \u001b[1m10s\u001b[0m 3ms/step - loss: 0.0134 - val_loss: 0.0141\n",
            "Epoch 69/150\n",
            "\u001b[1m2273/2273\u001b[0m \u001b[32m━━━━━━━━━━━━━━━━━━━━\u001b[0m\u001b[37m\u001b[0m \u001b[1m9s\u001b[0m 3ms/step - loss: 0.0131 - val_loss: 0.0143\n",
            "Epoch 70/150\n",
            "\u001b[1m2273/2273\u001b[0m \u001b[32m━━━━━━━━━━━━━━━━━━━━\u001b[0m\u001b[37m\u001b[0m \u001b[1m10s\u001b[0m 3ms/step - loss: 0.0130 - val_loss: 0.0142\n",
            "Epoch 71/150\n",
            "\u001b[1m2273/2273\u001b[0m \u001b[32m━━━━━━━━━━━━━━━━━━━━\u001b[0m\u001b[37m\u001b[0m \u001b[1m10s\u001b[0m 3ms/step - loss: 0.0131 - val_loss: 0.0151\n",
            "Epoch 72/150\n",
            "\u001b[1m2273/2273\u001b[0m \u001b[32m━━━━━━━━━━━━━━━━━━━━\u001b[0m\u001b[37m\u001b[0m \u001b[1m11s\u001b[0m 3ms/step - loss: 0.0126 - val_loss: 0.0140\n",
            "Epoch 73/150\n",
            "\u001b[1m2273/2273\u001b[0m \u001b[32m━━━━━━━━━━━━━━━━━━━━\u001b[0m\u001b[37m\u001b[0m \u001b[1m11s\u001b[0m 3ms/step - loss: 0.0133 - val_loss: 0.0147\n",
            "Epoch 74/150\n",
            "\u001b[1m2273/2273\u001b[0m \u001b[32m━━━━━━━━━━━━━━━━━━━━\u001b[0m\u001b[37m\u001b[0m \u001b[1m6s\u001b[0m 3ms/step - loss: 0.0128 - val_loss: 0.0145\n",
            "Epoch 75/150\n",
            "\u001b[1m2273/2273\u001b[0m \u001b[32m━━━━━━━━━━━━━━━━━━━━\u001b[0m\u001b[37m\u001b[0m \u001b[1m11s\u001b[0m 3ms/step - loss: 0.0132 - val_loss: 0.0141\n",
            "Epoch 76/150\n",
            "\u001b[1m2273/2273\u001b[0m \u001b[32m━━━━━━━━━━━━━━━━━━━━\u001b[0m\u001b[37m\u001b[0m \u001b[1m8s\u001b[0m 4ms/step - loss: 0.0129 - val_loss: 0.0143\n",
            "Epoch 77/150\n",
            "\u001b[1m2273/2273\u001b[0m \u001b[32m━━━━━━━━━━━━━━━━━━━━\u001b[0m\u001b[37m\u001b[0m \u001b[1m7s\u001b[0m 3ms/step - loss: 0.0128 - val_loss: 0.0141\n",
            "Epoch 78/150\n",
            "\u001b[1m2273/2273\u001b[0m \u001b[32m━━━━━━━━━━━━━━━━━━━━\u001b[0m\u001b[37m\u001b[0m \u001b[1m6s\u001b[0m 3ms/step - loss: 0.0131 - val_loss: 0.0143\n",
            "Epoch 79/150\n",
            "\u001b[1m2273/2273\u001b[0m \u001b[32m━━━━━━━━━━━━━━━━━━━━\u001b[0m\u001b[37m\u001b[0m \u001b[1m10s\u001b[0m 2ms/step - loss: 0.0128 - val_loss: 0.0140\n",
            "Epoch 80/150\n",
            "\u001b[1m2273/2273\u001b[0m \u001b[32m━━━━━━━━━━━━━━━━━━━━\u001b[0m\u001b[37m\u001b[0m \u001b[1m7s\u001b[0m 3ms/step - loss: 0.0130 - val_loss: 0.0140\n",
            "Epoch 81/150\n",
            "\u001b[1m2273/2273\u001b[0m \u001b[32m━━━━━━━━━━━━━━━━━━━━\u001b[0m\u001b[37m\u001b[0m \u001b[1m10s\u001b[0m 3ms/step - loss: 0.0128 - val_loss: 0.0141\n",
            "Epoch 82/150\n",
            "\u001b[1m2273/2273\u001b[0m \u001b[32m━━━━━━━━━━━━━━━━━━━━\u001b[0m\u001b[37m\u001b[0m \u001b[1m8s\u001b[0m 2ms/step - loss: 0.0129 - val_loss: 0.0141\n",
            "Epoch 83/150\n",
            "\u001b[1m2273/2273\u001b[0m \u001b[32m━━━━━━━━━━━━━━━━━━━━\u001b[0m\u001b[37m\u001b[0m \u001b[1m10s\u001b[0m 3ms/step - loss: 0.0127 - val_loss: 0.0141\n",
            "Epoch 84/150\n",
            "\u001b[1m2273/2273\u001b[0m \u001b[32m━━━━━━━━━━━━━━━━━━━━\u001b[0m\u001b[37m\u001b[0m \u001b[1m11s\u001b[0m 3ms/step - loss: 0.0133 - val_loss: 0.0140\n",
            "Epoch 85/150\n",
            "\u001b[1m2273/2273\u001b[0m \u001b[32m━━━━━━━━━━━━━━━━━━━━\u001b[0m\u001b[37m\u001b[0m \u001b[1m7s\u001b[0m 3ms/step - loss: 0.0128 - val_loss: 0.0140\n",
            "Epoch 86/150\n",
            "\u001b[1m2273/2273\u001b[0m \u001b[32m━━━━━━━━━━━━━━━━━━━━\u001b[0m\u001b[37m\u001b[0m \u001b[1m9s\u001b[0m 3ms/step - loss: 0.0126 - val_loss: 0.0141\n",
            "Epoch 87/150\n",
            "\u001b[1m2273/2273\u001b[0m \u001b[32m━━━━━━━━━━━━━━━━━━━━\u001b[0m\u001b[37m\u001b[0m \u001b[1m7s\u001b[0m 3ms/step - loss: 0.0129 - val_loss: 0.0140\n",
            "Epoch 88/150\n",
            "\u001b[1m2273/2273\u001b[0m \u001b[32m━━━━━━━━━━━━━━━━━━━━\u001b[0m\u001b[37m\u001b[0m \u001b[1m6s\u001b[0m 3ms/step - loss: 0.0129 - val_loss: 0.0141\n",
            "Epoch 89/150\n",
            "\u001b[1m2273/2273\u001b[0m \u001b[32m━━━━━━━━━━━━━━━━━━━━\u001b[0m\u001b[37m\u001b[0m \u001b[1m8s\u001b[0m 3ms/step - loss: 0.0130 - val_loss: 0.0142\n",
            "Epoch 90/150\n",
            "\u001b[1m2273/2273\u001b[0m \u001b[32m━━━━━━━━━━━━━━━━━━━━\u001b[0m\u001b[37m\u001b[0m \u001b[1m6s\u001b[0m 3ms/step - loss: 0.0131 - val_loss: 0.0143\n",
            "Epoch 91/150\n",
            "\u001b[1m2273/2273\u001b[0m \u001b[32m━━━━━━━━━━━━━━━━━━━━\u001b[0m\u001b[37m\u001b[0m \u001b[1m7s\u001b[0m 3ms/step - loss: 0.0126 - val_loss: 0.0142\n",
            "Epoch 92/150\n",
            "\u001b[1m2273/2273\u001b[0m \u001b[32m━━━━━━━━━━━━━━━━━━━━\u001b[0m\u001b[37m\u001b[0m \u001b[1m9s\u001b[0m 4ms/step - loss: 0.0132 - val_loss: 0.0142\n",
            "Epoch 93/150\n",
            "\u001b[1m2273/2273\u001b[0m \u001b[32m━━━━━━━━━━━━━━━━━━━━\u001b[0m\u001b[37m\u001b[0m \u001b[1m7s\u001b[0m 3ms/step - loss: 0.0130 - val_loss: 0.0141\n",
            "Epoch 94/150\n",
            "\u001b[1m2273/2273\u001b[0m \u001b[32m━━━━━━━━━━━━━━━━━━━━\u001b[0m\u001b[37m\u001b[0m \u001b[1m8s\u001b[0m 4ms/step - loss: 0.0132 - val_loss: 0.0141\n",
            "Epoch 95/150\n",
            "\u001b[1m2273/2273\u001b[0m \u001b[32m━━━━━━━━━━━━━━━━━━━━\u001b[0m\u001b[37m\u001b[0m \u001b[1m9s\u001b[0m 3ms/step - loss: 0.0128 - val_loss: 0.0141\n",
            "Epoch 96/150\n",
            "\u001b[1m2273/2273\u001b[0m \u001b[32m━━━━━━━━━━━━━━━━━━━━\u001b[0m\u001b[37m\u001b[0m \u001b[1m9s\u001b[0m 4ms/step - loss: 0.0131 - val_loss: 0.0140\n",
            "Epoch 97/150\n",
            "\u001b[1m2273/2273\u001b[0m \u001b[32m━━━━━━━━━━━━━━━━━━━━\u001b[0m\u001b[37m\u001b[0m \u001b[1m9s\u001b[0m 4ms/step - loss: 0.0133 - val_loss: 0.0141\n",
            "Epoch 98/150\n",
            "\u001b[1m2273/2273\u001b[0m \u001b[32m━━━━━━━━━━━━━━━━━━━━\u001b[0m\u001b[37m\u001b[0m \u001b[1m8s\u001b[0m 3ms/step - loss: 0.0130 - val_loss: 0.0142\n",
            "Epoch 99/150\n",
            "\u001b[1m2273/2273\u001b[0m \u001b[32m━━━━━━━━━━━━━━━━━━━━\u001b[0m\u001b[37m\u001b[0m \u001b[1m8s\u001b[0m 3ms/step - loss: 0.0132 - val_loss: 0.0141\n",
            "Epoch 100/150\n",
            "\u001b[1m2273/2273\u001b[0m \u001b[32m━━━━━━━━━━━━━━━━━━━━\u001b[0m\u001b[37m\u001b[0m \u001b[1m10s\u001b[0m 3ms/step - loss: 0.0130 - val_loss: 0.0141\n",
            "Epoch 101/150\n",
            "\u001b[1m2273/2273\u001b[0m \u001b[32m━━━━━━━━━━━━━━━━━━━━\u001b[0m\u001b[37m\u001b[0m \u001b[1m6s\u001b[0m 3ms/step - loss: 0.0126 - val_loss: 0.0141\n",
            "Epoch 102/150\n",
            "\u001b[1m2273/2273\u001b[0m \u001b[32m━━━━━━━━━━━━━━━━━━━━\u001b[0m\u001b[37m\u001b[0m \u001b[1m12s\u001b[0m 4ms/step - loss: 0.0127 - val_loss: 0.0140\n",
            "Epoch 103/150\n",
            "\u001b[1m2273/2273\u001b[0m \u001b[32m━━━━━━━━━━━━━━━━━━━━\u001b[0m\u001b[37m\u001b[0m \u001b[1m6s\u001b[0m 3ms/step - loss: 0.0124 - val_loss: 0.0144\n",
            "Epoch 104/150\n",
            "\u001b[1m2273/2273\u001b[0m \u001b[32m━━━━━━━━━━━━━━━━━━━━\u001b[0m\u001b[37m\u001b[0m \u001b[1m7s\u001b[0m 3ms/step - loss: 0.0126 - val_loss: 0.0144\n",
            "Epoch 105/150\n",
            "\u001b[1m2273/2273\u001b[0m \u001b[32m━━━━━━━━━━━━━━━━━━━━\u001b[0m\u001b[37m\u001b[0m \u001b[1m11s\u001b[0m 4ms/step - loss: 0.0128 - val_loss: 0.0139\n",
            "Epoch 106/150\n",
            "\u001b[1m2273/2273\u001b[0m \u001b[32m━━━━━━━━━━━━━━━━━━━━\u001b[0m\u001b[37m\u001b[0m \u001b[1m8s\u001b[0m 3ms/step - loss: 0.0128 - val_loss: 0.0140\n",
            "Epoch 107/150\n",
            "\u001b[1m2273/2273\u001b[0m \u001b[32m━━━━━━━━━━━━━━━━━━━━\u001b[0m\u001b[37m\u001b[0m \u001b[1m11s\u001b[0m 5ms/step - loss: 0.0129 - val_loss: 0.0140\n",
            "Epoch 108/150\n",
            "\u001b[1m2273/2273\u001b[0m \u001b[32m━━━━━━━━━━━━━━━━━━━━\u001b[0m\u001b[37m\u001b[0m \u001b[1m7s\u001b[0m 3ms/step - loss: 0.0128 - val_loss: 0.0141\n",
            "Epoch 109/150\n",
            "\u001b[1m2273/2273\u001b[0m \u001b[32m━━━━━━━━━━━━━━━━━━━━\u001b[0m\u001b[37m\u001b[0m \u001b[1m9s\u001b[0m 3ms/step - loss: 0.0132 - val_loss: 0.0146\n",
            "Epoch 110/150\n",
            "\u001b[1m2273/2273\u001b[0m \u001b[32m━━━━━━━━━━━━━━━━━━━━\u001b[0m\u001b[37m\u001b[0m \u001b[1m8s\u001b[0m 4ms/step - loss: 0.0127 - val_loss: 0.0140\n",
            "Epoch 111/150\n",
            "\u001b[1m2273/2273\u001b[0m \u001b[32m━━━━━━━━━━━━━━━━━━━━\u001b[0m\u001b[37m\u001b[0m \u001b[1m10s\u001b[0m 3ms/step - loss: 0.0126 - val_loss: 0.0140\n",
            "Epoch 112/150\n",
            "\u001b[1m2273/2273\u001b[0m \u001b[32m━━━━━━━━━━━━━━━━━━━━\u001b[0m\u001b[37m\u001b[0m \u001b[1m9s\u001b[0m 3ms/step - loss: 0.0127 - val_loss: 0.0141\n",
            "Epoch 113/150\n",
            "\u001b[1m2273/2273\u001b[0m \u001b[32m━━━━━━━━━━━━━━━━━━━━\u001b[0m\u001b[37m\u001b[0m \u001b[1m8s\u001b[0m 4ms/step - loss: 0.0125 - val_loss: 0.0142\n",
            "Epoch 114/150\n",
            "\u001b[1m2273/2273\u001b[0m \u001b[32m━━━━━━━━━━━━━━━━━━━━\u001b[0m\u001b[37m\u001b[0m \u001b[1m10s\u001b[0m 3ms/step - loss: 0.0128 - val_loss: 0.0144\n",
            "Epoch 115/150\n",
            "\u001b[1m2273/2273\u001b[0m \u001b[32m━━━━━━━━━━━━━━━━━━━━\u001b[0m\u001b[37m\u001b[0m \u001b[1m8s\u001b[0m 4ms/step - loss: 0.0128 - val_loss: 0.0140\n",
            "Epoch 116/150\n",
            "\u001b[1m2273/2273\u001b[0m \u001b[32m━━━━━━━━━━━━━━━━━━━━\u001b[0m\u001b[37m\u001b[0m \u001b[1m9s\u001b[0m 4ms/step - loss: 0.0125 - val_loss: 0.0140\n",
            "Epoch 117/150\n",
            "\u001b[1m2273/2273\u001b[0m \u001b[32m━━━━━━━━━━━━━━━━━━━━\u001b[0m\u001b[37m\u001b[0m \u001b[1m9s\u001b[0m 3ms/step - loss: 0.0125 - val_loss: 0.0141\n",
            "Epoch 118/150\n",
            "\u001b[1m2273/2273\u001b[0m \u001b[32m━━━━━━━━━━━━━━━━━━━━\u001b[0m\u001b[37m\u001b[0m \u001b[1m8s\u001b[0m 3ms/step - loss: 0.0127 - val_loss: 0.0141\n",
            "Epoch 119/150\n",
            "\u001b[1m2273/2273\u001b[0m \u001b[32m━━━━━━━━━━━━━━━━━━━━\u001b[0m\u001b[37m\u001b[0m \u001b[1m8s\u001b[0m 3ms/step - loss: 0.0128 - val_loss: 0.0143\n",
            "Epoch 120/150\n",
            "\u001b[1m2273/2273\u001b[0m \u001b[32m━━━━━━━━━━━━━━━━━━━━\u001b[0m\u001b[37m\u001b[0m \u001b[1m6s\u001b[0m 3ms/step - loss: 0.0125 - val_loss: 0.0140\n",
            "Epoch 121/150\n",
            "\u001b[1m2273/2273\u001b[0m \u001b[32m━━━━━━━━━━━━━━━━━━━━\u001b[0m\u001b[37m\u001b[0m \u001b[1m10s\u001b[0m 4ms/step - loss: 0.0124 - val_loss: 0.0140\n",
            "Epoch 122/150\n",
            "\u001b[1m2273/2273\u001b[0m \u001b[32m━━━━━━━━━━━━━━━━━━━━\u001b[0m\u001b[37m\u001b[0m \u001b[1m6s\u001b[0m 3ms/step - loss: 0.0129 - val_loss: 0.0139\n",
            "Epoch 123/150\n",
            "\u001b[1m2273/2273\u001b[0m \u001b[32m━━━━━━━━━━━━━━━━━━━━\u001b[0m\u001b[37m\u001b[0m \u001b[1m7s\u001b[0m 3ms/step - loss: 0.0124 - val_loss: 0.0143\n",
            "Epoch 124/150\n",
            "\u001b[1m2273/2273\u001b[0m \u001b[32m━━━━━━━━━━━━━━━━━━━━\u001b[0m\u001b[37m\u001b[0m \u001b[1m12s\u001b[0m 4ms/step - loss: 0.0124 - val_loss: 0.0140\n",
            "Epoch 125/150\n",
            "\u001b[1m2273/2273\u001b[0m \u001b[32m━━━━━━━━━━━━━━━━━━━━\u001b[0m\u001b[37m\u001b[0m \u001b[1m8s\u001b[0m 3ms/step - loss: 0.0125 - val_loss: 0.0140\n",
            "Epoch 126/150\n",
            "\u001b[1m2273/2273\u001b[0m \u001b[32m━━━━━━━━━━━━━━━━━━━━\u001b[0m\u001b[37m\u001b[0m \u001b[1m7s\u001b[0m 3ms/step - loss: 0.0126 - val_loss: 0.0138\n",
            "Epoch 127/150\n",
            "\u001b[1m2273/2273\u001b[0m \u001b[32m━━━━━━━━━━━━━━━━━━━━\u001b[0m\u001b[37m\u001b[0m \u001b[1m6s\u001b[0m 2ms/step - loss: 0.0126 - val_loss: 0.0138\n",
            "Epoch 128/150\n",
            "\u001b[1m2273/2273\u001b[0m \u001b[32m━━━━━━━━━━━━━━━━━━━━\u001b[0m\u001b[37m\u001b[0m \u001b[1m10s\u001b[0m 3ms/step - loss: 0.0129 - val_loss: 0.0142\n",
            "Epoch 129/150\n",
            "\u001b[1m2273/2273\u001b[0m \u001b[32m━━━━━━━━━━━━━━━━━━━━\u001b[0m\u001b[37m\u001b[0m \u001b[1m11s\u001b[0m 3ms/step - loss: 0.0124 - val_loss: 0.0139\n",
            "Epoch 130/150\n",
            "\u001b[1m2273/2273\u001b[0m \u001b[32m━━━━━━━━━━━━━━━━━━━━\u001b[0m\u001b[37m\u001b[0m \u001b[1m11s\u001b[0m 3ms/step - loss: 0.0127 - val_loss: 0.0141\n",
            "Epoch 131/150\n",
            "\u001b[1m2273/2273\u001b[0m \u001b[32m━━━━━━━━━━━━━━━━━━━━\u001b[0m\u001b[37m\u001b[0m \u001b[1m6s\u001b[0m 2ms/step - loss: 0.0128 - val_loss: 0.0140\n",
            "Epoch 132/150\n",
            "\u001b[1m2273/2273\u001b[0m \u001b[32m━━━━━━━━━━━━━━━━━━━━\u001b[0m\u001b[37m\u001b[0m \u001b[1m8s\u001b[0m 3ms/step - loss: 0.0125 - val_loss: 0.0139\n",
            "Epoch 133/150\n",
            "\u001b[1m2273/2273\u001b[0m \u001b[32m━━━━━━━━━━━━━━━━━━━━\u001b[0m\u001b[37m\u001b[0m \u001b[1m6s\u001b[0m 3ms/step - loss: 0.0126 - val_loss: 0.0140\n",
            "Epoch 134/150\n",
            "\u001b[1m2273/2273\u001b[0m \u001b[32m━━━━━━━━━━━━━━━━━━━━\u001b[0m\u001b[37m\u001b[0m \u001b[1m12s\u001b[0m 3ms/step - loss: 0.0125 - val_loss: 0.0140\n",
            "Epoch 135/150\n",
            "\u001b[1m2273/2273\u001b[0m \u001b[32m━━━━━━━━━━━━━━━━━━━━\u001b[0m\u001b[37m\u001b[0m \u001b[1m10s\u001b[0m 3ms/step - loss: 0.0126 - val_loss: 0.0140\n",
            "Epoch 136/150\n",
            "\u001b[1m2273/2273\u001b[0m \u001b[32m━━━━━━━━━━━━━━━━━━━━\u001b[0m\u001b[37m\u001b[0m \u001b[1m10s\u001b[0m 3ms/step - loss: 0.0125 - val_loss: 0.0141\n",
            "Epoch 137/150\n",
            "\u001b[1m2273/2273\u001b[0m \u001b[32m━━━━━━━━━━━━━━━━━━━━\u001b[0m\u001b[37m\u001b[0m \u001b[1m9s\u001b[0m 3ms/step - loss: 0.0125 - val_loss: 0.0141\n",
            "Epoch 138/150\n",
            "\u001b[1m2273/2273\u001b[0m \u001b[32m━━━━━━━━━━━━━━━━━━━━\u001b[0m\u001b[37m\u001b[0m \u001b[1m8s\u001b[0m 4ms/step - loss: 0.0127 - val_loss: 0.0141\n",
            "Epoch 139/150\n",
            "\u001b[1m2273/2273\u001b[0m \u001b[32m━━━━━━━━━━━━━━━━━━━━\u001b[0m\u001b[37m\u001b[0m \u001b[1m6s\u001b[0m 3ms/step - loss: 0.0120 - val_loss: 0.0142\n",
            "Epoch 140/150\n",
            "\u001b[1m2273/2273\u001b[0m \u001b[32m━━━━━━━━━━━━━━━━━━━━\u001b[0m\u001b[37m\u001b[0m \u001b[1m8s\u001b[0m 3ms/step - loss: 0.0126 - val_loss: 0.0142\n",
            "Epoch 141/150\n",
            "\u001b[1m2273/2273\u001b[0m \u001b[32m━━━━━━━━━━━━━━━━━━━━\u001b[0m\u001b[37m\u001b[0m \u001b[1m10s\u001b[0m 4ms/step - loss: 0.0122 - val_loss: 0.0142\n",
            "Epoch 142/150\n",
            "\u001b[1m2273/2273\u001b[0m \u001b[32m━━━━━━━━━━━━━━━━━━━━\u001b[0m\u001b[37m\u001b[0m \u001b[1m8s\u001b[0m 3ms/step - loss: 0.0126 - val_loss: 0.0141\n",
            "Epoch 143/150\n",
            "\u001b[1m2273/2273\u001b[0m \u001b[32m━━━━━━━━━━━━━━━━━━━━\u001b[0m\u001b[37m\u001b[0m \u001b[1m10s\u001b[0m 3ms/step - loss: 0.0122 - val_loss: 0.0142\n",
            "Epoch 144/150\n",
            "\u001b[1m2273/2273\u001b[0m \u001b[32m━━━━━━━━━━━━━━━━━━━━\u001b[0m\u001b[37m\u001b[0m \u001b[1m11s\u001b[0m 3ms/step - loss: 0.0127 - val_loss: 0.0140\n",
            "Epoch 145/150\n",
            "\u001b[1m2273/2273\u001b[0m \u001b[32m━━━━━━━━━━━━━━━━━━━━\u001b[0m\u001b[37m\u001b[0m \u001b[1m11s\u001b[0m 3ms/step - loss: 0.0124 - val_loss: 0.0142\n",
            "Epoch 146/150\n",
            "\u001b[1m2273/2273\u001b[0m \u001b[32m━━━━━━━━━━━━━━━━━━━━\u001b[0m\u001b[37m\u001b[0m \u001b[1m6s\u001b[0m 3ms/step - loss: 0.0122 - val_loss: 0.0141\n",
            "Epoch 147/150\n",
            "\u001b[1m2273/2273\u001b[0m \u001b[32m━━━━━━━━━━━━━━━━━━━━\u001b[0m\u001b[37m\u001b[0m \u001b[1m8s\u001b[0m 3ms/step - loss: 0.0124 - val_loss: 0.0140\n",
            "Epoch 148/150\n",
            "\u001b[1m2273/2273\u001b[0m \u001b[32m━━━━━━━━━━━━━━━━━━━━\u001b[0m\u001b[37m\u001b[0m \u001b[1m9s\u001b[0m 3ms/step - loss: 0.0120 - val_loss: 0.0142\n",
            "Epoch 149/150\n",
            "\u001b[1m2273/2273\u001b[0m \u001b[32m━━━━━━━━━━━━━━━━━━━━\u001b[0m\u001b[37m\u001b[0m \u001b[1m10s\u001b[0m 3ms/step - loss: 0.0127 - val_loss: 0.0141\n",
            "Epoch 150/150\n",
            "\u001b[1m2273/2273\u001b[0m \u001b[32m━━━━━━━━━━━━━━━━━━━━\u001b[0m\u001b[37m\u001b[0m \u001b[1m10s\u001b[0m 4ms/step - loss: 0.0124 - val_loss: 0.0139\n"
          ]
        }
      ]
    },
    {
      "cell_type": "code",
      "source": [
        "loss_df = pd.DataFrame(history.history)\n",
        "loss_df.plot(figsize=(10,5))"
      ],
      "metadata": {
        "execution": {
          "iopub.status.busy": "2024-08-17T17:40:11.395009Z",
          "iopub.execute_input": "2024-08-17T17:40:11.395797Z",
          "iopub.status.idle": "2024-08-17T17:40:11.676557Z",
          "shell.execute_reply.started": "2024-08-17T17:40:11.395754Z",
          "shell.execute_reply": "2024-08-17T17:40:11.675522Z"
        },
        "trusted": true,
        "id": "xg4VzJsIejIF",
        "outputId": "1428900b-08c3-4d6b-8d84-eb566729be53",
        "colab": {
          "base_uri": "https://localhost:8080/",
          "height": 369
        }
      },
      "execution_count": 32,
      "outputs": [
        {
          "output_type": "execute_result",
          "data": {
            "text/plain": [
              "<Axes: >"
            ]
          },
          "metadata": {},
          "execution_count": 32
        },
        {
          "output_type": "display_data",
          "data": {
            "text/plain": [
              "<Figure size 1000x500 with 1 Axes>"
            ],
            "image/png": "[encoded data removed]"
          },
          "metadata": {}
        }
      ]
    },
    {
      "cell_type": "code",
      "source": [
        "model.evaluate(test_data_prepared, test_label)"
      ],
      "metadata": {
        "execution": {
          "iopub.status.busy": "2024-08-17T17:40:11.678164Z",
          "iopub.execute_input": "2024-08-17T17:40:11.67895Z",
          "iopub.status.idle": "2024-08-17T17:40:12.761917Z",
          "shell.execute_reply.started": "2024-08-17T17:40:11.67891Z",
          "shell.execute_reply": "2024-08-17T17:40:12.7609Z"
        },
        "trusted": true,
        "id": "wqf-ruiOejIF",
        "outputId": "da0aa114-a556-41c6-983d-9a5074c77d63",
        "colab": {
          "base_uri": "https://localhost:8080/",
          "height": 148
        }
      },
      "execution_count": 34,
      "outputs": [
        {
          "output_type": "error",
          "ename": "AttributeError",
          "evalue": "'RandomForestClassifier' object has no attribute 'evaluate'",
          "traceback": [
            "\u001b[0;31m---------------------------------------------------------------------------\u001b[0m",
            "\u001b[0;31mAttributeError\u001b[0m                            Traceback (most recent call last)",
            "\u001b[0;32m<ipython-input-34-32fb4fa9c711>\u001b[0m in \u001b[0;36m<cell line: 1>\u001b[0;34m()\u001b[0m\n\u001b[0;32m----> 1\u001b[0;31m \u001b[0mmodel\u001b[0m\u001b[0;34m.\u001b[0m\u001b[0mevaluate\u001b[0m\u001b[0;34m(\u001b[0m\u001b[0mtest_data_prepared\u001b[0m\u001b[0;34m,\u001b[0m \u001b[0mtest_label\u001b[0m\u001b[0;34m)\u001b[0m\u001b[0;34m\u001b[0m\u001b[0;34m\u001b[0m\u001b[0m\n\u001b[0m",
            "\u001b[0;31mAttributeError\u001b[0m: 'RandomForestClassifier' object has no attribute 'evaluate'"
          ]
        }
      ]
    },
    {
      "cell_type": "code",
      "source": [
        "model.save('f_model.h5')\n",
        "print(\"done\")"
      ],
      "metadata": {
        "execution": {
          "iopub.status.busy": "2024-08-17T17:40:12.763542Z",
          "iopub.execute_input": "2024-08-17T17:40:12.76388Z",
          "iopub.status.idle": "2024-08-17T17:40:12.817584Z",
          "shell.execute_reply.started": "2024-08-17T17:40:12.763851Z",
          "shell.execute_reply": "2024-08-17T17:40:12.816369Z"
        },
        "trusted": true,
        "id": "3UJdoMBPejIF",
        "outputId": "d1734990-6338-493a-f97a-130cc4db2a8a",
        "colab": {
          "base_uri": "https://localhost:8080/",
          "height": 166
        }
      },
      "execution_count": 35,
      "outputs": [
        {
          "output_type": "error",
          "ename": "AttributeError",
          "evalue": "'RandomForestClassifier' object has no attribute 'save'",
          "traceback": [
            "\u001b[0;31m---------------------------------------------------------------------------\u001b[0m",
            "\u001b[0;31mAttributeError\u001b[0m                            Traceback (most recent call last)",
            "\u001b[0;32m<ipython-input-35-4e3c41324b48>\u001b[0m in \u001b[0;36m<cell line: 1>\u001b[0;34m()\u001b[0m\n\u001b[0;32m----> 1\u001b[0;31m \u001b[0mmodel\u001b[0m\u001b[0;34m.\u001b[0m\u001b[0msave\u001b[0m\u001b[0;34m(\u001b[0m\u001b[0;34m'f_model.h5'\u001b[0m\u001b[0;34m)\u001b[0m\u001b[0;34m\u001b[0m\u001b[0;34m\u001b[0m\u001b[0m\n\u001b[0m\u001b[1;32m      2\u001b[0m \u001b[0mprint\u001b[0m\u001b[0;34m(\u001b[0m\u001b[0;34m\"done\"\u001b[0m\u001b[0;34m)\u001b[0m\u001b[0;34m\u001b[0m\u001b[0;34m\u001b[0m\u001b[0m\n",
            "\u001b[0;31mAttributeError\u001b[0m: 'RandomForestClassifier' object has no attribute 'save'"
          ]
        }
      ]
    },
    {
      "cell_type": "code",
      "source": [
        "loaded_model = keras.models.load_model('f_model.h5')\n",
        "loss_acc_metrics_df = pd.DataFrame(history.history)\n",
        "loss_acc_metrics_df.plot(figsize=(10,5))"
      ],
      "metadata": {
        "execution": {
          "iopub.status.busy": "2024-08-17T17:40:12.818953Z",
          "iopub.execute_input": "2024-08-17T17:40:12.819364Z",
          "iopub.status.idle": "2024-08-17T17:40:13.145874Z",
          "shell.execute_reply.started": "2024-08-17T17:40:12.81933Z",
          "shell.execute_reply": "2024-08-17T17:40:13.144697Z"
        },
        "trusted": true,
        "id": "v26dXpUdejIG",
        "outputId": "f5d0d71e-639c-4ee1-efbf-dc09484d69be",
        "colab": {
          "base_uri": "https://localhost:8080/",
          "height": 407
        }
      },
      "execution_count": 25,
      "outputs": [
        {
          "output_type": "stream",
          "name": "stderr",
          "text": [
            "WARNING:absl:Compiled the loaded model, but the compiled metrics have yet to be built. `model.compile_metrics` will be empty until you train or evaluate the model.\n"
          ]
        },
        {
          "output_type": "execute_result",
          "data": {
            "text/plain": [
              "<Axes: >"
            ]
          },
          "metadata": {},
          "execution_count": 25
        },
        {
          "output_type": "display_data",
          "data": {
            "text/plain": [
              "<Figure size 1000x500 with 1 Axes>"
            ],
            "image/png": "[encoded data removed]"
          },
          "metadata": {}
        }
      ]
    },
    {
      "cell_type": "code",
      "source": [
        "# Evaluate the model\n",
        "model_eval = model_2.evaluate(test_data_prepared, test_label)\n",
        "\n",
        "# Check if the evaluation returned a single value or multiple values\n",
        "if isinstance(model_eval, float):\n",
        "    print(f\"Test loss: {model_eval}\")\n",
        "else:\n",
        "    # If the evaluation returns a list/tuple, assuming [loss, accuracy]\n",
        "    print(f\"Test loss: {model_eval[0]}\\nTest accuracy: {model_eval[1]}\")"
      ],
      "metadata": {
        "execution": {
          "iopub.status.busy": "2024-08-17T17:40:13.147209Z",
          "iopub.execute_input": "2024-08-17T17:40:13.147573Z",
          "iopub.status.idle": "2024-08-17T17:40:14.210697Z",
          "shell.execute_reply.started": "2024-08-17T17:40:13.147543Z",
          "shell.execute_reply": "2024-08-17T17:40:14.209618Z"
        },
        "trusted": true,
        "id": "wZCqMiFVejIG",
        "outputId": "68dd52ec-4c7c-4538-f550-e117edc98bdc",
        "colab": {
          "base_uri": "https://localhost:8080/"
        }
      },
      "execution_count": 26,
      "outputs": [
        {
          "output_type": "stream",
          "name": "stdout",
          "text": [
            "\u001b[1m975/975\u001b[0m \u001b[32m━━━━━━━━━━━━━━━━━━━━\u001b[0m\u001b[37m\u001b[0m \u001b[1m1s\u001b[0m 1ms/step - loss: 0.0136\n",
            "Test loss: 0.013744691386818886\n"
          ]
        }
      ]
    },
    {
      "cell_type": "code",
      "source": [
        "# Define a function to extract features (dropping the target column if present)\n",
        "def get_feats(data):\n",
        "    return data.drop(['Unnamed: 0', 'satisfaction'], axis=1, errors='ignore')\n",
        "\n",
        "# Define the numeric and categorical features (ensure these match your data)\n",
        "num_feats = ['Age', 'Flight Distance', 'Inflight wifi service',\n",
        "             'Departure/Arrival time convenient', 'Ease of Online booking',\n",
        "             'Gate location', 'Food and drink', 'Online boarding',\n",
        "             'Seat comfort', 'Inflight entertainment', 'On-board service',\n",
        "             'Leg room service', 'Baggage handling', 'Checkin service',\n",
        "             'Inflight service', 'Cleanliness', 'Departure Delay in Minutes',\n",
        "             'Arrival Delay in Minutes']\n",
        "\n",
        "cat_feats = ['Gender', 'Customer Type', 'Type of Travel', 'Class']\n",
        "\n",
        "# Define the pipeline to handle missing values, scale numeric features, and encode categorical features\n",
        "final_pipe = ColumnTransformer([\n",
        "    ('num', Pipeline([\n",
        "        ('imputer', SimpleImputer(strategy='mean')),  # Impute missing values in numeric features\n",
        "        ('scaler', StandardScaler())\n",
        "    ]), num_feats),\n",
        "    ('cat', Pipeline([\n",
        "        ('imputer', SimpleImputer(strategy='most_frequent')),  # Impute missing values in categorical features\n",
        "        ('encoder', OneHotEncoder())\n",
        "    ]), cat_feats)\n",
        "])\n",
        "\n",
        "train_target = traindata['satisfaction']\n",
        "\n",
        "# Fit the pipeline on the training data features\n",
        "final_pipe.fit(train_feats)\n",
        "\n",
        "# Transform training features using the fitted pipeline\n",
        "train_feats_prepared = final_pipe.transform(train_feats)\n",
        "\n",
        "# Train your model (example using RandomForestClassifier)\n",
        "model = RandomForestClassifier()\n",
        "model.fit(train_feats_prepared, train_target)\n",
        "\n",
        "# Save the pipeline and model\n",
        "joblib.dump(final_pipe, 'final_pipe.pkl')\n",
        "joblib.dump(model, 'your_model.pkl')\n",
        "\n",
        "\n",
        "# Get the features from the validation data\n",
        "val_feats = get_feats(valldata)\n",
        "\n",
        "# Prepare the validation data using the already fitted pipeline\n",
        "val_data_prepared = final_pipe.transform(val_feats)\n",
        "\n",
        "# Load your previously saved model\n",
        "loaded_model = joblib.load('your_model.pkl')\n",
        "\n",
        "# Make predictions on validation data\n",
        "predictions = loaded_model.predict(val_data_prepared)\n",
        "print(predictions[:15])\n",
        "\n"
      ],
      "metadata": {
        "execution": {
          "iopub.status.busy": "2024-08-17T17:40:14.212019Z",
          "iopub.execute_input": "2024-08-17T17:40:14.212324Z",
          "iopub.status.idle": "2024-08-17T17:40:27.091489Z",
          "shell.execute_reply.started": "2024-08-17T17:40:14.212294Z",
          "shell.execute_reply": "2024-08-17T17:40:27.090471Z"
        },
        "trusted": true,
        "id": "TYgj5okUejIG",
        "outputId": "f7d3bcf5-51c0-4cc4-eb36-cc2aba20eed9",
        "colab": {
          "base_uri": "https://localhost:8080/"
        }
      },
      "execution_count": 27,
      "outputs": [
        {
          "output_type": "stream",
          "name": "stdout",
          "text": [
            "[1 1 0 1 0 1 1 1 1 1 1 0 1 1 1]\n"
          ]
        }
      ]
    },
    {
      "cell_type": "code",
      "source": [
        "# If predictions is a numpy array of strings, convert it using the mapping\n",
        "predictions_mapped = np.array([satisfaction_mapping.get(pred, pred) for pred in predictions])\n",
        "\n",
        "#ids = np.arange(0, 25976)\n",
        "ids = valldata['id']\n",
        "# Create a DataFrame with 'id' and 'y' (predictions)\n",
        "output_df = pd.DataFrame({\n",
        "    'ID': ids,\n",
        "    'y': predictions_mapped\n",
        "})\n",
        "print(output_df)\n",
        "print(predictions_mapped.shape)\n",
        "# Save the DataFrame to a CSV file\n",
        "output_df.to_csv('predictions.csv', index=False)\n",
        "print(\"Predictions saved to 'predictions.csv'\")"
      ],
      "metadata": {
        "execution": {
          "iopub.status.busy": "2024-08-17T17:40:27.096801Z",
          "iopub.execute_input": "2024-08-17T17:40:27.097166Z",
          "iopub.status.idle": "2024-08-17T17:40:27.13904Z",
          "shell.execute_reply.started": "2024-08-17T17:40:27.097135Z",
          "shell.execute_reply": "2024-08-17T17:40:27.137912Z"
        },
        "trusted": true,
        "id": "5fgZVL9mejIG",
        "outputId": "e1970906-ef41-4eeb-aa42-f84953875653",
        "colab": {
          "base_uri": "https://localhost:8080/"
        }
      },
      "execution_count": 30,
      "outputs": [
        {
          "output_type": "stream",
          "name": "stdout",
          "text": [
            "          ID  y\n",
            "0      19556  1\n",
            "1      90035  1\n",
            "2      12360  0\n",
            "3      77959  1\n",
            "4      36875  0\n",
            "...      ... ..\n",
            "25971  78463  0\n",
            "25972  71167  1\n",
            "25973  37675  0\n",
            "25974  90086  1\n",
            "25975  34799  0\n",
            "\n",
            "[25976 rows x 2 columns]\n",
            "(25976,)\n",
            "Predictions saved to 'predictions.csv'\n"
          ]
        }
      ]
    }
  ]
}